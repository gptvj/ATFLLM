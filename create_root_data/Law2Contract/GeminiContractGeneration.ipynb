{
  "cells": [
    {
      "cell_type": "markdown",
      "metadata": {
        "id": "B0hPYBcKeV_f"
      },
      "source": [
        "### Init"
      ]
    },
    {
      "cell_type": "code",
      "execution_count": null,
      "metadata": {
        "id": "LiLOLkOu2VJa"
      },
      "outputs": [],
      "source": [
        "from google.colab import drive\n",
        "drive.mount('/content/drive')"
      ]
    },
    {
      "cell_type": "code",
      "execution_count": null,
      "metadata": {
        "id": "lhVaQ8q90iUx"
      },
      "outputs": [],
      "source": [
        "import os\n",
        "os.chdir(\"/content/drive/MyDrive/0_JOB/Chunking/\")"
      ]
    },
    {
      "cell_type": "code",
      "execution_count": null,
      "metadata": {
        "id": "SmpyjxXcPhx0"
      },
      "outputs": [],
      "source": [
        "!pip install -q -U google-generativeai"
      ]
    },
    {
      "cell_type": "code",
      "execution_count": null,
      "metadata": {
        "id": "NTcxpkGqPfr6",
        "colab": {
          "base_uri": "https://localhost:8080/"
        },
        "outputId": "72375808-d204-4936-e47b-b62a664a2173"
      },
      "outputs": [
        {
          "output_type": "stream",
          "name": "stdout",
          "text": [
            "models/gemini-1.0-pro\n",
            "models/gemini-1.0-pro-001\n",
            "models/gemini-1.0-pro-latest\n",
            "models/gemini-1.0-pro-vision-latest\n",
            "models/gemini-1.5-flash\n",
            "models/gemini-1.5-flash-001\n",
            "models/gemini-1.5-flash-latest\n",
            "models/gemini-1.5-pro\n",
            "models/gemini-1.5-pro-001\n",
            "models/gemini-1.5-pro-latest\n",
            "models/gemini-pro\n",
            "models/gemini-pro-vision\n"
          ]
        }
      ],
      "source": [
        "import pathlib\n",
        "import textwrap\n",
        "\n",
        "import google.generativeai as genai\n",
        "\n",
        "from IPython.display import display\n",
        "from IPython.display import Markdown\n",
        "\n",
        "# you can visit the link https://aistudio.google.com/app/apikey to create your api key\n",
        "GOOGLE_API_KEY = 'YOUR_GOOGLE_API_KEY'\n",
        "\n",
        "genai.configure(api_key=GOOGLE_API_KEY)\n",
        "for m in genai.list_models():\n",
        "    if 'generateContent' in m.supported_generation_methods:\n",
        "        print(m.name)\n",
        "model = genai.GenerativeModel('gemini-1.5-flash')"
      ]
    },
    {
      "cell_type": "markdown",
      "metadata": {
        "id": "_G7c8mAO6nTM"
      },
      "source": [
        "### Create a chat history"
      ]
    },
    {
      "cell_type": "code",
      "execution_count": null,
      "metadata": {
        "id": "EMVzfTWZ61HQ"
      },
      "outputs": [],
      "source": [
        "import pathlib\n",
        "import textwrap\n",
        "\n",
        "import google.generativeai as genai\n",
        "\n",
        "from IPython.display import display\n",
        "from IPython.display import Markdown\n",
        "\n",
        "def to_markdown(text):\n",
        "  text = text.replace('•', '  *')\n",
        "  return Markdown(textwrap.indent(text, '> ', predicate=lambda _: True))"
      ]
    },
    {
      "cell_type": "code",
      "execution_count": null,
      "metadata": {
        "id": "cpQocDz46jG7",
        "colab": {
          "base_uri": "https://localhost:8080/"
        },
        "outputId": "30454a30-663c-4a64-b694-6fd3bd64d8e5"
      },
      "outputs": [
        {
          "output_type": "execute_result",
          "data": {
            "text/plain": [
              "ChatSession(\n",
              "    model=genai.GenerativeModel(\n",
              "        model_name='models/gemini-pro',\n",
              "        generation_config={},\n",
              "        safety_settings={},\n",
              "        tools=None,\n",
              "        system_instruction=None,\n",
              "        cached_content=None\n",
              "    ),\n",
              "    history=[]\n",
              ")"
            ]
          },
          "metadata": {},
          "execution_count": 6
        }
      ],
      "source": [
        "# model = genai.GenerativeModel('gemini-pro')\n",
        "chat = model.start_chat(history=[])\n",
        "chat"
      ]
    },
    {
      "cell_type": "code",
      "execution_count": null,
      "metadata": {
        "id": "IOy-MVdWgU6X"
      },
      "outputs": [],
      "source": [
        "# translate: give me the contents of a contract\n",
        "prompt = \"\"\"\n",
        "労働契約書の全文をください。\n",
        "\"\"\""
      ]
    },
    {
      "cell_type": "code",
      "execution_count": null,
      "metadata": {
        "id": "rkkjbmtogoO-",
        "colab": {
          "base_uri": "https://localhost:8080/"
        },
        "outputId": "f9aa83d1-ef30-460e-e2f2-6acdab215ba1"
      },
      "outputs": [
        {
          "output_type": "execute_result",
          "data": {
            "text/plain": [
              "<IPython.core.display.Markdown object>"
            ],
            "text/markdown": "> **労働契約書**\n> \n> **第1条（当事者）**\n> \n> 本契約は、下記の当事者間で締結される。\n> \n> * **使用者：** [使用者の氏名または会社名]\n> * **従業員：** [従業員の氏名]\n> \n> **第2条（雇用期間）**\n> \n> 1. 従業員の雇用期間は、[開始日]から[終了日]までとする。\n> 2. 期間満了後、本契約は終了する。ただし、当事者間の合意により更新することができる。\n> \n> **第3条（業務内容）**\n> \n> 従業員は、使用者の業務命令に従い、次の業務を担当する。\n> \n> * [業務内容を記載]\n> \n> **第4条（勤務時間）**\n> \n> 1. 従業員の通常勤務時間は、[勤務開始時間]から[勤務終了時間]までの[勤務時間数]時間とする。\n> 2. 休憩時間は、1日[休憩時間数]時間とする。\n> \n> **第5条（給与）**\n> \n> 1. 従業員の給与は、月額[給与額]円とする。\n> 2. 給与は、毎月[支払い日]に銀行振込により支払う。\n> \n> **第6条（福利厚生）**\n> \n> 1. 使用者は、従業員に対して次の福利厚生を提供する。\n> \n> * 健康保険\n> * 厚生年金\n> * 雇用保険\n> * 有給休暇\n> \n> 2. 従業員は、上記の福利厚生の利用方法について、使用者の指示に従うものとする。\n> \n> **第7条（秘密保持）**\n> \n> 従業員は、業務上知り得た使用者の秘密事項を、使用者の承諾なしに第三者に漏洩または利用してはならない。\n> \n> **第8条（競業避止）**\n> \n> 従業員は、雇用期間中は及び雇用終了後[競業避止期間]年間、使用者の同業種における競業を営んではならない。\n> \n> **第9条（労働規程）**\n> \n> 従業員は、使用者が定める労働規程に従うものとする。\n> \n> **第10条（契約解除）**\n> \n> 1. 使用者は、従業員が以下のいずれかに該当する場合、本契約を解除することができる。\n> \n> * 職務上の義務を怠った場合\n> * 使用者の指示に従わない場合\n> * 職務上の不正行為を行った場合\n> * その他、重大な理由がある場合\n> \n> 2. 従業員は、使用者の解雇が不当であると判断した場合、速やかに労働局に申告することができる。\n> \n> **第11条（準拠法）**\n> \n> 本契約は、日本国の法律に準拠するものとする。\n> \n> **第12条（紛争解決）**\n> \n> 本契約に関連して紛争が生じた場合、当事者は誠意をもって話し合いにより解決に努めるものとする。話し合いで解決できない場合は、[所在地]地方裁判所を第一審の専属的管轄裁判所とする。\n> \n> **第13条（その他）**\n> \n> 1. 本契約は、正本2通を作成し、当事者間で1通ずつ保有する。\n> 2. 本契約の内容は、双方同意の上で変更することができる。その変更は、書面により行うものとする。\n> \n> 以上\n> \n> **使用者の署名：** ___________________\n> \n> **従業員の署名：** ___________________\n> \n> **日付：** _____________"
          },
          "metadata": {},
          "execution_count": 8
        }
      ],
      "source": [
        "response = chat.send_message(prompt)\n",
        "to_markdown(response.text)"
      ]
    },
    {
      "cell_type": "code",
      "source": [
        "contract_list = []\n",
        "contract_list.append(response.text)"
      ],
      "metadata": {
        "id": "ovo0qRZxGsD1"
      },
      "execution_count": null,
      "outputs": []
    },
    {
      "cell_type": "code",
      "source": [
        "print(contract_list[0])"
      ],
      "metadata": {
        "colab": {
          "base_uri": "https://localhost:8080/"
        },
        "id": "81UnVuKWGzgb",
        "outputId": "08047a33-2a4d-4b0f-ccee-28918176a52f"
      },
      "execution_count": null,
      "outputs": [
        {
          "output_type": "stream",
          "name": "stdout",
          "text": [
            "**労働契約書**\n",
            "\n",
            "**第1条（当事者）**\n",
            "\n",
            "本契約は、下記の当事者間で締結される。\n",
            "\n",
            "* **使用者：** [使用者の氏名または会社名]\n",
            "* **従業員：** [従業員の氏名]\n",
            "\n",
            "**第2条（雇用期間）**\n",
            "\n",
            "1. 従業員の雇用期間は、[開始日]から[終了日]までとする。\n",
            "2. 期間満了後、本契約は終了する。ただし、当事者間の合意により更新することができる。\n",
            "\n",
            "**第3条（業務内容）**\n",
            "\n",
            "従業員は、使用者の業務命令に従い、次の業務を担当する。\n",
            "\n",
            "* [業務内容を記載]\n",
            "\n",
            "**第4条（勤務時間）**\n",
            "\n",
            "1. 従業員の通常勤務時間は、[勤務開始時間]から[勤務終了時間]までの[勤務時間数]時間とする。\n",
            "2. 休憩時間は、1日[休憩時間数]時間とする。\n",
            "\n",
            "**第5条（給与）**\n",
            "\n",
            "1. 従業員の給与は、月額[給与額]円とする。\n",
            "2. 給与は、毎月[支払い日]に銀行振込により支払う。\n",
            "\n",
            "**第6条（福利厚生）**\n",
            "\n",
            "1. 使用者は、従業員に対して次の福利厚生を提供する。\n",
            "\n",
            "* 健康保険\n",
            "* 厚生年金\n",
            "* 雇用保険\n",
            "* 有給休暇\n",
            "\n",
            "2. 従業員は、上記の福利厚生の利用方法について、使用者の指示に従うものとする。\n",
            "\n",
            "**第7条（秘密保持）**\n",
            "\n",
            "従業員は、業務上知り得た使用者の秘密事項を、使用者の承諾なしに第三者に漏洩または利用してはならない。\n",
            "\n",
            "**第8条（競業避止）**\n",
            "\n",
            "従業員は、雇用期間中は及び雇用終了後[競業避止期間]年間、使用者の同業種における競業を営んではならない。\n",
            "\n",
            "**第9条（労働規程）**\n",
            "\n",
            "従業員は、使用者が定める労働規程に従うものとする。\n",
            "\n",
            "**第10条（契約解除）**\n",
            "\n",
            "1. 使用者は、従業員が以下のいずれかに該当する場合、本契約を解除することができる。\n",
            "\n",
            "* 職務上の義務を怠った場合\n",
            "* 使用者の指示に従わない場合\n",
            "* 職務上の不正行為を行った場合\n",
            "* その他、重大な理由がある場合\n",
            "\n",
            "2. 従業員は、使用者の解雇が不当であると判断した場合、速やかに労働局に申告することができる。\n",
            "\n",
            "**第11条（準拠法）**\n",
            "\n",
            "本契約は、日本国の法律に準拠するものとする。\n",
            "\n",
            "**第12条（紛争解決）**\n",
            "\n",
            "本契約に関連して紛争が生じた場合、当事者は誠意をもって話し合いにより解決に努めるものとする。話し合いで解決できない場合は、[所在地]地方裁判所を第一審の専属的管轄裁判所とする。\n",
            "\n",
            "**第13条（その他）**\n",
            "\n",
            "1. 本契約は、正本2通を作成し、当事者間で1通ずつ保有する。\n",
            "2. 本契約の内容は、双方同意の上で変更することができる。その変更は、書面により行うものとする。\n",
            "\n",
            "以上\n",
            "\n",
            "**使用者の署名：** ___________________\n",
            "\n",
            "**従業員の署名：** ___________________\n",
            "\n",
            "**日付：** _____________\n"
          ]
        }
      ]
    },
    {
      "cell_type": "markdown",
      "source": [
        "### Kiểm tra các luật"
      ],
      "metadata": {
        "id": "lo-3U524GSUG"
      }
    },
    {
      "cell_type": "code",
      "execution_count": null,
      "metadata": {
        "colab": {
          "base_uri": "https://localhost:8080/"
        },
        "id": "fN3oAtKXKa9V",
        "outputId": "5c03799f-3d5e-491f-9d11-020f6f78b4bf"
      },
      "outputs": [
        {
          "output_type": "stream",
          "name": "stdout",
          "text": [
            "Số điều luật trong bộ/chương 賃金の支払の確保等に関する法律/第一章　総則 là: 2\n",
            "Số điều luật trong bộ/chương 賃金の支払の確保等に関する法律/第二章　貯蓄金及び賃金に係る保全措置等 là: 4\n",
            "Số điều luật trong bộ/chương 賃金の支払の確保等に関する法律/第三章　未払賃金の立替払事業 là: 3\n",
            "Số điều luật trong bộ/chương 賃金の支払の確保等に関する法律/第四章　雑則 là: 8\n",
            "Số điều luật trong bộ/chương 賃金の支払の確保等に関する法律/第五章　罰則 là: 4\n",
            "Số điều luật trong bộ/chương 中小企業退職金共済法/第一章　総則 là: 2\n",
            "Số điều luật trong bộ/chương 中小企業退職金共済法/第二章　退職金共済契約 là: 36\n",
            "Số điều luật trong bộ/chương 中小企業退職金共済法/第三章　共済契約者及び被共済者 là: 4\n",
            "Số điều luật trong bộ/chương 中小企業退職金共済法/第四章　特定業種退職金共済契約 là: 15\n",
            "Số điều luật trong bộ/chương 中小企業退職金共済法/第五章　退職金共済契約と特定業種退職金共済契約との関係 là: 2\n",
            "Số điều luật trong bộ/chương 中小企業退職金共済法/第六章　独立行政法人勤労者退職金共済機構 là: 35\n",
            "Số điều luật trong bộ/chương 中小企業退職金共済法/第七章　国の補助 là: 1\n",
            "Số điều luật trong bộ/chương 中小企業退職金共済法/第八章　雑則 là: 4\n",
            "Số điều luật trong bộ/chương 中小企業退職金共済法/第九章　罰則 là: 5\n",
            "Số điều luật trong bộ/chương 育児休業、介護休業等育児又は家族介護を行う労働者の福祉に関する法律/第一章　総則 là: 4\n",
            "Số điều luật trong bộ/chương 育児休業、介護休業等育児又は家族介護を行う労働者の福祉に関する法律/第二章　育児休業 là: 12\n",
            "Số điều luật trong bộ/chương 育児休業、介護休業等育児又は家族介護を行う労働者の福祉に関する法律/第三章　介護休業 là: 6\n",
            "Số điều luật trong bộ/chương 育児休業、介護休業等育児又は家族介護を行う労働者の福祉に関する法律/第四章　子の看護休暇 là: 3\n",
            "Số điều luật trong bộ/chương 育児休業、介護休業等育児又は家族介護を行う労働者の福祉に関する法律/第五章　介護休暇 là: 3\n",
            "Số điều luật trong bộ/chương 育児休業、介護休業等育児又は家族介護を行う労働者の福祉に関する法律/第六章　所定外労働の制限 là: 3\n",
            "Số điều luật trong bộ/chương 育児休業、介護休業等育児又は家族介護を行う労働者の福祉に関する法律/第七章　時間外労働の制限 là: 3\n",
            "Số điều luật trong bộ/chương 育児休業、介護休業等育児又は家族介護を行う労働者の福祉に関する法律/第八章　深夜業の制限 là: 3\n",
            "Số điều luật trong bộ/chương 育児休業、介護休業等育児又は家族介護を行う労働者の福祉に関する法律/第九章　事業主が講ずべき措置等 là: 13\n",
            "Số điều luật trong bộ/chương 育児休業、介護休業等育児又は家族介護を行う労働者の福祉に関する法律/第十章　対象労働者等に対する国等による援助 là: 7\n",
            "Số điều luật trong bộ/chương 育児休業、介護休業等育児又は家族介護を行う労働者の福祉に関する法律/第十一章　紛争の解決 là: 5\n",
            "Số điều luật trong bộ/chương 育児休業、介護休業等育児又は家族介護を行う労働者の福祉に関する法律/第十二章　雑則 là: 10\n",
            "Số điều luật trong bộ/chương 育児休業、介護休業等育児又は家族介護を行う労働者の福祉に関する法律/第十三章　罰則 là: 5\n",
            "Số điều luật trong bộ/chương 家内労働法/第一章　総則 là: 2\n",
            "Số điều luật trong bộ/chương 家内労働法/第二章　委託 là: 3\n",
            "Số điều luật trong bộ/chương 家内労働法/第三章　工賃及び最低工賃 là: 11\n",
            "Số điều luật trong bộ/chương 家内労働法/第四章　安全及び衛生 là: 2\n",
            "Số điều luật trong bộ/chương 家内労働法/第五章　家内労働に関する審議機関 là: 5\n",
            "Số điều luật trong bộ/chương 家内労働法/第六章　雑則 là: 8\n",
            "Số điều luật trong bộ/chương 家内労働法/第七章　罰則 là: 4\n",
            "Số điều luật trong bộ/chương 雇用の分野における男女の均等な機会及び待遇の確保等に関する法律/第一章　総則 là: 4\n",
            "Số điều luật trong bộ/chương 雇用の分野における男女の均等な機会及び待遇の確保等に関する法律/第二章　雇用の分野における男女の均等な機会及び待遇の確保等 là: 14\n",
            "Số điều luật trong bộ/chương 雇用の分野における男女の均等な機会及び待遇の確保等に関する法律/第三章　紛争の解決 là: 13\n",
            "Số điều luật trong bộ/chương 雇用の分野における男女の均等な機会及び待遇の確保等に関する法律/第四章　雑則 là: 5\n",
            "Số điều luật trong bộ/chương 雇用の分野における男女の均等な機会及び待遇の確保等に関する法律/第五章　罰則 là: 1\n",
            "Số điều luật trong bộ/chương 労働者派遣事業の適正な運営の確保及び派遣労働者の保護等に関する法律/第一章　総則 là: 3\n",
            "Số điều luật trong bộ/chương 労働者派遣事業の適正な運営の確保及び派遣労働者の保護等に関する法律/第二章　労働者派遣事業の適正な運営の確保に関する措置 là: 20\n",
            "Số điều luật trong bộ/chương 労働者派遣事業の適正な運営の確保及び派遣労働者の保護等に関する法律/第三章　派遣労働者の保護等に関する措置 là: 46\n",
            "Số điều luật trong bộ/chương 労働者派遣事業の適正な運営の確保及び派遣労働者の保護等に関する法律/第四章　紛争の解決 là: 6\n",
            "Số điều luật trong bộ/chương 労働者派遣事業の適正な運営の確保及び派遣労働者の保護等に関する法律/第五章　雑則 là: 14\n",
            "Số điều luật trong bộ/chương 労働者派遣事業の適正な運営の確保及び派遣労働者の保護等に関する法律/第六章　罰則 là: 5\n",
            "Số điều luật trong bộ/chương 港湾労働法/第一章　総則 là: 2\n",
            "Số điều luật trong bộ/chương 港湾労働法/第二章　港湾雇用安定等計画 là: 1\n",
            "Số điều luật trong bộ/chương 港湾労働法/第三章　港湾労働者の雇用の改善、能力の開発及び向上等 là: 8\n",
            "Số điều luật trong bộ/chương 港湾労働法/第四章　港湾労働者派遣事業 là: 16\n",
            "Số điều luật trong bộ/chương 港湾労働法/第五章　港湾労働者雇用安定センター là: 15\n",
            "Số điều luật trong bộ/chương 港湾労働法/第六章　雑則 là: 5\n",
            "Số điều luật trong bộ/chương 港湾労働法/第七章　罰則 là: 5\n",
            "Số điều luật trong bộ/chương 労働時間等の設定の改善に関する特別措置法/第一章　総則 là: 5\n",
            "Số điều luật trong bộ/chương 労働時間等の設定の改善に関する特別措置法/第二章　労働時間等設定改善指針等 là: 2\n",
            "Số điều luật trong bộ/chương 労働時間等の設定の改善に関する特別措置法/第三章　労働時間等の設定の改善の実施体制の整備等 là: 3\n",
            "Số điều luật trong bộ/chương 労働時間等の設定の改善に関する特別措置法/第四章　労働時間等設定改善実施計画 là: 7\n",
            "Số điều luật trong bộ/chương 短時間労働者及び有期雇用労働者の雇用管理の改善等に関する法律/第一章　総則 là: 5\n",
            "Số điều luật trong bộ/chương 短時間労働者及び有期雇用労働者の雇用管理の改善等に関する法律/第二章　短時間・有期雇用労働者対策基本方針 là: 1\n",
            "Số điều luật trong bộ/chương 短時間労働者及び有期雇用労働者の雇用管理の改善等に関する法律/第三章　短時間・有期雇用労働者の雇用管理の改善等に関する措置等 là: 16\n",
            "Số điều luật trong bộ/chương 短時間労働者及び有期雇用労働者の雇用管理の改善等に関する法律/第四章　紛争の解決 là: 6\n",
            "Số điều luật trong bộ/chương 短時間労働者及び有期雇用労働者の雇用管理の改善等に関する法律/第五章　雑則 là: 4\n",
            "Số điều luật trong bộ/chương 労働契約法/第一章　総則 là: 5\n",
            "Số điều luật trong bộ/chương 労働契約法/第二章　労働契約の成立及び変更 là: 8\n",
            "Số điều luật trong bộ/chương 労働契約法/第三章　労働契約の継続及び終了 là: 3\n",
            "Số điều luật trong bộ/chương 労働契約法/第四章　期間の定めのある労働契約 là: 3\n",
            "Số điều luật trong bộ/chương 労働契約法/第五章　雑則 là: 2\n",
            "Số điều luật trong bộ/chương 労働基準法/第一章　総則 là: 12\n",
            "Số điều luật trong bộ/chương 労働基準法/第二章　労働契約 là: 11\n",
            "Số điều luật trong bộ/chương 労働基準法/第三章　賃金 là: 6\n",
            "Số điều luật trong bộ/chương 労働基準法/第四章　労働時間、休憩、休日及び年次有給休暇 là: 20\n",
            "Số điều luật trong bộ/chương 労働基準法/第五章　安全及び衛生 là: 2\n",
            "Số điều luật trong bộ/chương 労働基準法/第六章　年少者 là: 9\n",
            "Số điều luật trong bộ/chương 労働基準法/第六章の二　妊産婦等 là: 6\n",
            "Số điều luật trong bộ/chương 労働基準法/第七章　技能者の養成 là: 6\n",
            "Số điều luật trong bộ/chương 労働基準法/第八章　災害補償 là: 14\n",
            "Số điều luật trong bộ/chương 労働基準法/第九章　就業規則 là: 5\n",
            "Số điều luật trong bộ/chương 労働基準法/第十章　寄宿舎 là: 5\n",
            "Số điều luật trong bộ/chương 労働基準法/第十一章　監督機関 là: 10\n",
            "Số điều luật trong bộ/chương 労働基準法/第十二章　雑則 là: 13\n",
            "Số điều luật trong bộ/chương 労働基準法/第十三章　罰則 là: 5\n",
            "Số điều luật trong bộ/chương 労働保険の保険料の徴収等に関する法律/第一章　総則 là: 2\n",
            "Số điều luật trong bộ/chương 労働保険の保険料の徴収等に関する法律/第二章　保険関係の成立及び消滅 là: 8\n",
            "Số điều luật trong bộ/chương 労働保険の保険料の徴収等に関する法律/第三章　労働保険料の納付の手続等 là: 26\n",
            "Số điều luật trong bộ/chương 労働保険の保険料の徴収等に関する法律/第四章　労働保険事務組合 là: 4\n",
            "Số điều luật trong bộ/chương 労働保険の保険料の徴収等に関する法律/第五章　行政手続法との関係 là: 2\n",
            "Số điều luật trong bộ/chương 労働保険の保険料の徴収等に関する法律/第六章　雑則 là: 9\n",
            "Số điều luật trong bộ/chương 労働保険の保険料の徴収等に関する法律/第七章　罰則 là: 3\n",
            "Số điều luật trong bộ/chương 雇用保険法/第一章　総則 là: 4\n",
            "Số điều luật trong bộ/chương 雇用保険法/第二章　適用事業等 là: 5\n",
            "Số điều luật trong bộ/chương 雇用保険法/第三章　失業等給付 là: 70\n",
            "Số điều luật trong bộ/chương 雇用保険法/第三章の二　育児休業給付 là: 4\n",
            "Số điều luật trong bộ/chương 雇用保険法/第四章　雇用安定事業等 là: 5\n",
            "Số điều luật trong bộ/chương 雇用保険法/第五章　費用の負担 là: 4\n",
            "Số điều luật trong bộ/chương 雇用保険法/第六章　不服申立て及び訴訟 là: 3\n",
            "Số điều luật trong bộ/chương 雇用保険法/第七章　雑則 là: 14\n",
            "Số điều luật trong bộ/chương 雇用保険法/第八章　罰則 là: 4\n",
            "Số điều luật trong bộ/chương 労働者災害補償保険法/第一章　総則 là: 6\n",
            "Số điều luật trong bộ/chương 労働者災害補償保険法/第二章　保険関係の成立及び消滅 là: 1\n",
            "Số điều luật trong bộ/chương 労働者災害補償保険法/第三章　保険給付 là: 59\n",
            "Số điều luật trong bộ/chương 労働者災害補償保険法/第三章の二　社会復帰促進等事業 là: 1\n",
            "Số điều luật trong bộ/chương 労働者災害補償保険法/第四章　費用の負担 là: 3\n",
            "Số điều luật trong bộ/chương 労働者災害補償保険法/第四章の二　特別加入 là: 5\n",
            "Số điều luật trong bộ/chương 労働者災害補償保険法/第五章　不服申立て及び訴訟 là: 4\n",
            "Số điều luật trong bộ/chương 労働者災害補償保険法/第六章　雑則 là: 15\n",
            "Số điều luật trong bộ/chương 労働者災害補償保険法/第七章　罰則 là: 4\n",
            "Số điều luật trong bộ/chương 職業安定法/第一章　総則 là: 12\n",
            "Số điều luật trong bộ/chương 職業安定法/第二章　職業安定機関の行う職業紹介及び職業指導 là: 25\n",
            "Số điều luật trong bộ/chương 職業安定法/第二章の二　地方公共団体の行う職業紹介 là: 9\n",
            "Số điều luật trong bộ/chương 職業安定法/第三章　職業安定機関及び地方公共団体以外の者の行う職業紹介 là: 26\n",
            "Số điều luật trong bộ/chương 職業安定法/第三章の二　労働者の募集 là: 9\n",
            "Số điều luật trong bộ/chương 職業安定法/第三章の三　募集情報等提供事業 là: 8\n",
            "Số điều luật trong bộ/chương 職業安定法/第三章の四　労働者供給事業 là: 5\n",
            "Số điều luật trong bộ/chương 職業安定法/第三章の五　労働者派遣事業等 là: 1\n",
            "Số điều luật trong bộ/chương 職業安定法/第四章　雑則 là: 18\n",
            "Số điều luật trong bộ/chương 職業安定法/第五章　罰則 là: 5\n",
            "Số điều luật trong bộ/chương 労働安全衛生法/第一章　総則 là: 5\n",
            "Số điều luật trong bộ/chương 労働安全衛生法/第二章　労働災害防止計画 là: 4\n",
            "Số điều luật trong bộ/chương 労働安全衛生法/第三章　安全衛生管理体制 là: 17\n",
            "Số điều luật trong bộ/chương 労働安全衛生法/第四章　労働者の危険又は健康障害を防止するための措置 là: 25\n",
            "Số điều luật trong bộ/chương 労働安全衛生法/第五章　機械等並びに危険物及び有害物に関する規制 là: 41\n",
            "Số điều luật trong bộ/chương 労働安全衛生法/第六章　労働者の就業に当たつての措置 là: 6\n",
            "Số điều luật trong bộ/chương 労働安全衛生法/第七章　健康の保持増進のための措置 là: 26\n",
            "Số điều luật trong bộ/chương 労働安全衛生法/第七章の二　快適な職場環境の形成のための措置 là: 3\n",
            "Số điều luật trong bộ/chương 労働安全衛生法/第八章　免許等 là: 18\n",
            "Số điều luật trong bộ/chương 労働安全衛生法/第九章　事業場の安全又は衛生に関する改善措置等 là: 14\n",
            "Số điều luật trong bộ/chương 労働安全衛生法/第十章　監督等 là: 18\n",
            "Số điều luật trong bộ/chương 労働安全衛生法/第十一章　雑則 là: 18\n",
            "Số điều luật trong bộ/chương 労働安全衛生法/第十二章　罰則 là: 12\n",
            "Số điều luật trong bộ/chương 労働組合法/第一章　総則 là: 4\n",
            "Số điều luật trong bộ/chương 労働組合法/第二章　労働組合 là: 26\n",
            "Số điều luật trong bộ/chương 労働組合法/第三章　労働協約 là: 5\n",
            "Số điều luật trong bộ/chương 労働組合法/第四章　労働委員会 là: 46\n",
            "Số điều luật trong bộ/chương 労働組合法/第五章　罰則 là: 10\n",
            "Số điều luật trong bộ/chương 最低賃金法/第一章　総則 là: 2\n",
            "Số điều luật trong bộ/chương 最低賃金法/第二章　最低賃金 là: 17\n",
            "Số điều luật trong bộ/chương 最低賃金法/第三章　最低賃金審議会 là: 7\n",
            "Số điều luật trong bộ/chương 最低賃金法/第四章　雑則 là: 12\n",
            "Số điều luật trong bộ/chương 最低賃金法/第五章　罰則 là: 4\n",
            "Tổng số bộ/chương của tiếng việt:  138\n",
            "Tổng số điều luật là:  1337\n"
          ]
        }
      ],
      "source": [
        "import json\n",
        "\n",
        "# Đọc nội dung từ file JSON\n",
        "with open('./Data/0_Retrieval/legal_corpus_full.json', 'r', encoding='utf-8') as file:\n",
        "    laws = json.load(file)\n",
        "\n",
        "# Lưu nội dung các điều luật vào một mảng\n",
        "tong_article = 0\n",
        "\n",
        "for law in laws:\n",
        "    print(f\"Số điều luật trong bộ/chương {law['law_id']} là:\", len(law['articles']))\n",
        "    tong_article += len(law['articles'])\n",
        "\n",
        "print(\"Tổng số bộ/chương của tiếng việt: \", len(laws))\n",
        "print(\"Tổng số điều luật là: \", tong_article)"
      ]
    },
    {
      "cell_type": "markdown",
      "metadata": {
        "id": "J8V0yqCiBn0x"
      },
      "source": [
        "### Some article_id cùng một lúc"
      ]
    },
    {
      "cell_type": "code",
      "execution_count": null,
      "metadata": {
        "colab": {
          "base_uri": "https://localhost:8080/",
          "height": 1000
        },
        "id": "IGlExdSIBxUp",
        "outputId": "f39fe07d-f360-4ec3-cea3-847db5ca79f8"
      },
      "outputs": [
        {
          "output_type": "stream",
          "name": "stdout",
          "text": [
            "this\n",
            "law_content \n",
            "  {\n",
            "      \"法律コード\": \"最低賃金法/第二章　最低賃金\",\n",
            "      \"法律の一覧\": [\n",
            "          {\n",
            "              \"条文コード\": \"1\",\n",
            "              \"条文のタイトル\": \"第三条/（最低賃金額）\",\n",
            "              \"条文の内容\": \"最低賃金額（最低賃金において定める賃金の額をいう。以下同じ。）は、時間によつて定めるものとする。\"\n",
            "          }\n",
            "      ]\n",
            "  }\n",
            "  \n",
            "content 1 **第4条（賃金）**\n",
            "\n",
            "従業員の基本賃金は、月額[金額]円とします。この賃金は、時間当たりで定められた最低賃金額を遵守しています。\n",
            "this\n",
            "law_content \n",
            "  {\n",
            "      \"法律コード\": \"最低賃金法/第二章　最低賃金\",\n",
            "      \"法律の一覧\": [\n",
            "          {\n",
            "              \"条文コード\": \"2\",\n",
            "              \"条文のタイトル\": \"第四条/（最低賃金の効力）\",\n",
            "              \"条文の内容\": \"使用者は、最低賃金の適用を受ける労働者に対し、その最低賃金額以上の賃金を支払わなければならない。\n",
            "最低賃金の適用を受ける労働者と使用者との間の労働契約で最低賃金額に達しない賃金を定めるものは、その部分については無効とする。この場合において、無効となつた部分は、最低賃金と同様の定をしたものとみなす。\n",
            "次に掲げる賃金は、前二項に規定する賃金に算入しない。\n",
            "第一項及び第二項の規定は、労働者がその都合により所定労働時間若しくは所定労働日の労働をしなかつた場合又は使用者が正当な理由により労働者に所定労働時間若しくは所定労働日の労働をさせなかつた場合において、労働しなかつた時間又は日に対応する限度で賃金を支払わないことを妨げるものではない。\"\n",
            "          }\n",
            "      ]\n",
            "  }\n",
            "  \n",
            "content 2 **第4条（賃金）**\n",
            "\n",
            "従業員の基本賃金は、月額[金額]円とします。この賃金は、最低賃金法第4条第1項に定められた最低賃金額以上であり、同法第4条第2項に基づき、この賃金額に達しない労働契約は無効とみなされます。\n",
            "this\n",
            "law_content \n",
            "  {\n",
            "      \"法律コード\": \"最低賃金法/第二章　最低賃金\",\n",
            "      \"法律の一覧\": [\n",
            "          {\n",
            "              \"条文コード\": \"3\",\n",
            "              \"条文のタイトル\": \"第五条/（現物給与等の評価）\",\n",
            "              \"条文の内容\": \"賃金が通貨以外のもので支払われる場合又は使用者が労働者に提供した食事その他のものの代金を賃金から控除する場合においては、最低賃金の適用について、これらのものは、適正に評価されなければならない。\"\n",
            "          }\n",
            "      ]\n",
            "  }\n",
            "  \n",
            "content 3 **第4条（賃金）**\n",
            "\n",
            "従業員の基本賃金は、月額[金額]円とします。この賃金は、通貨以外のもので支払われる場合または使用者が提供する食事などの代金を控除する場合であっても、最低賃金法第5条に基づき、適正に評価されています。\n",
            "this\n",
            "law_content \n",
            "  {\n",
            "      \"法律コード\": \"最低賃金法/第二章　最低賃金\",\n",
            "      \"法律の一覧\": [\n",
            "          {\n",
            "              \"条文コード\": \"4\",\n",
            "              \"条文のタイトル\": \"第六条/（最低賃金の競合）\",\n",
            "              \"条文の内容\": \"労働者が二以上の最低賃金の適用を受ける場合は、これらにおいて定める最低賃金額のうち最高のものにより第四条の規定を適用する。\n",
            "前項の場合においても、第九条第一項に規定する地域別最低賃金において定める最低賃金額については、第四条第一項及び第四十条の規定の適用があるものとする。\"\n",
            "          }\n",
            "      ]\n",
            "  }\n",
            "  \n",
            "content 4 **第4条（賃金）**\n",
            "\n",
            "従業員の基本賃金は、月額[金額]円とします。この賃金は、複数の最低賃金が適用される場合は、最低賃金法第6条に基づき、適用される最低賃金額のうち最も高い金額が適用されます。\n",
            "this\n",
            "law_content \n",
            "  {\n",
            "      \"法律コード\": \"最低賃金法/第二章　最低賃金\",\n",
            "      \"法律の一覧\": [\n",
            "          {\n",
            "              \"条文コード\": \"5\",\n",
            "              \"条文のタイトル\": \"第七条/（最低賃金の減額の特例）\",\n",
            "              \"条文の内容\": \"使用者が厚生労働省令で定めるところにより都道府県労働局長の許可を受けたときは、次に掲げる労働者については、当該最低賃金において定める最低賃金額から当該最低賃金額に労働能力その他の事情を考慮して厚生労働省令で定める率を乗じて得た額を減額した額により第四条の規定を適用する。\n",
            "一　精神又は身体の障害により著しく労働能力の低い者\n",
            "\n",
            "二　試の使用期間中の者\n",
            "\n",
            "三　職業能力開発促進法（昭和四十四年法律第六十四号）第二十四条第一項の認定を受けて行われる職業訓練のうち職業に必要な基礎的な技能及びこれに関する知識を習得させることを内容とするものを受ける者であつて厚生労働省令で定めるもの\n",
            "\n",
            "四　軽易な業務に従事する者その他の厚生労働省令で定める者\"\n",
            "          }\n",
            "      ]\n",
            "  }\n",
            "  \n",
            "content 5 **第4条（賃金）**\n",
            "\n",
            "従業員の基本賃金は、月額[金額]円とします。ただし、最低賃金法第7条の規定に基づき、厚生労働省令で定められた要件を満たす場合、最低賃金額から減額された額が適用される場合があります。\n",
            "this\n",
            "law_content \n",
            "  {\n",
            "      \"法律コード\": \"最低賃金法/第二章　最低賃金\",\n",
            "      \"法律の一覧\": [\n",
            "          {\n",
            "              \"条文コード\": \"6\",\n",
            "              \"条文のタイトル\": \"第八条/（周知義務）\",\n",
            "              \"条文の内容\": \"最低賃金の適用を受ける使用者は、厚生労働省令で定めるところにより、当該最低賃金の概要を、常時作業場の見やすい場所に掲示し、又はその他の方法で、労働者に周知させるための措置をとらなければならない。\"\n",
            "          }\n",
            "      ]\n",
            "  }\n",
            "  \n",
            "content 6 **第1条（雇用関係の開始）**\n",
            "\n",
            "本契約は、[雇用主名]（以下「雇用主」という。）と、[従業員名]（以下「従業員」という。）との間で締結され、[開始日]に遡って効力を生じるものとします。この契約は、最低賃金法第8条に基づき、適用される最低賃金の概要を従業員に周知させるための措置が講じられています。\n",
            "this\n",
            "law_content \n",
            "  {\n",
            "      \"法律コード\": \"最低賃金法/第二章　最低賃金\",\n",
            "      \"法律の一覧\": [\n",
            "          {\n",
            "              \"条文コード\": \"7\",\n",
            "              \"条文のタイトル\": \"第九条/（地域別最低賃金の原則）\",\n",
            "              \"条文の内容\": \"賃金の低廉な労働者について、賃金の最低額を保障するため、地域別最低賃金（一定の地域ごとの最低賃金をいう。以下同じ。）は、あまねく全国各地域について決定されなければならない。\n",
            "地域別最低賃金は、地域における労働者の生計費及び賃金並びに通常の事業の賃金支払能力を考慮して定められなければならない。\n",
            "前項の労働者の生計費を考慮するに当たつては、労働者が健康で文化的な最低限度の生活を営むことができるよう、生活保護に係る施策との整合性に配慮するものとする。\"\n",
            "          }\n",
            "      ]\n",
            "  }\n",
            "  \n"
          ]
        },
        {
          "output_type": "stream",
          "name": "stderr",
          "text": [
            "WARNING:tornado.access:429 POST /v1beta/models/gemini-pro:generateContent?%24alt=json%3Benum-encoding%3Dint (127.0.0.1) 888.70ms\n"
          ]
        },
        {
          "output_type": "stream",
          "name": "stdout",
          "text": [
            "error\n"
          ]
        },
        {
          "output_type": "stream",
          "name": "stderr",
          "text": [
            "WARNING:tornado.access:429 POST /v1beta/models/gemini-pro:generateContent?%24alt=json%3Benum-encoding%3Dint (127.0.0.1) 1227.04ms\n"
          ]
        },
        {
          "output_type": "stream",
          "name": "stdout",
          "text": [
            "error\n"
          ]
        },
        {
          "output_type": "stream",
          "name": "stderr",
          "text": [
            "WARNING:tornado.access:429 POST /v1beta/models/gemini-pro:generateContent?%24alt=json%3Benum-encoding%3Dint (127.0.0.1) 1226.50ms\n"
          ]
        },
        {
          "output_type": "stream",
          "name": "stdout",
          "text": [
            "error\n"
          ]
        },
        {
          "output_type": "stream",
          "name": "stderr",
          "text": [
            "WARNING:tornado.access:429 POST /v1beta/models/gemini-pro:generateContent?%24alt=json%3Benum-encoding%3Dint (127.0.0.1) 1169.05ms\n"
          ]
        },
        {
          "output_type": "stream",
          "name": "stdout",
          "text": [
            "error\n"
          ]
        },
        {
          "output_type": "stream",
          "name": "stderr",
          "text": [
            "WARNING:tornado.access:429 POST /v1beta/models/gemini-pro:generateContent?%24alt=json%3Benum-encoding%3Dint (127.0.0.1) 1015.54ms\n"
          ]
        },
        {
          "output_type": "stream",
          "name": "stdout",
          "text": [
            "error\n"
          ]
        },
        {
          "output_type": "stream",
          "name": "stderr",
          "text": [
            "WARNING:tornado.access:429 POST /v1beta/models/gemini-pro:generateContent?%24alt=json%3Benum-encoding%3Dint (127.0.0.1) 1067.42ms\n"
          ]
        },
        {
          "output_type": "stream",
          "name": "stdout",
          "text": [
            "error\n"
          ]
        },
        {
          "output_type": "stream",
          "name": "stderr",
          "text": [
            "WARNING:tornado.access:429 POST /v1beta/models/gemini-pro:generateContent?%24alt=json%3Benum-encoding%3Dint (127.0.0.1) 1017.33ms\n"
          ]
        },
        {
          "output_type": "stream",
          "name": "stdout",
          "text": [
            "error\n"
          ]
        },
        {
          "output_type": "stream",
          "name": "stderr",
          "text": [
            "WARNING:tornado.access:429 POST /v1beta/models/gemini-pro:generateContent?%24alt=json%3Benum-encoding%3Dint (127.0.0.1) 1170.03ms\n"
          ]
        },
        {
          "output_type": "stream",
          "name": "stdout",
          "text": [
            "error\n"
          ]
        },
        {
          "output_type": "stream",
          "name": "stderr",
          "text": [
            "WARNING:tornado.access:429 POST /v1beta/models/gemini-pro:generateContent?%24alt=json%3Benum-encoding%3Dint (127.0.0.1) 972.45ms\n"
          ]
        },
        {
          "output_type": "stream",
          "name": "stdout",
          "text": [
            "error\n"
          ]
        },
        {
          "output_type": "stream",
          "name": "stderr",
          "text": [
            "WARNING:tornado.access:429 POST /v1beta/models/gemini-pro:generateContent?%24alt=json%3Benum-encoding%3Dint (127.0.0.1) 1000.44ms\n"
          ]
        },
        {
          "output_type": "stream",
          "name": "stdout",
          "text": [
            "error\n",
            "content 7 **第1条（雇用関係の開始）**\n",
            "\n",
            "本契約は、[雇用主名]（以下「雇用主」という。）と、[従業員名]（以下「従業員」という。）との間で締結され、[開始日]に遡って効力を生じるものとします。この契約は、最低賃金法第8条に基づき、適用される最低賃金の概要を従業員に周知させるための措置が講じられています。\n",
            "this\n",
            "law_content \n",
            "  {\n",
            "      \"法律コード\": \"最低賃金法/第二章　最低賃金\",\n",
            "      \"法律の一覧\": [\n",
            "          {\n",
            "              \"条文コード\": \"8\",\n",
            "              \"条文のタイトル\": \"第十条/（地域別最低賃金の決定）\",\n",
            "              \"条文の内容\": \"厚生労働大臣又は都道府県労働局長は、一定の地域ごとに、中央最低賃金審議会又は地方最低賃金審議会（以下「最低賃金審議会」という。）の調査審議を求め、その意見を聴いて、地域別最低賃金の決定をしなければならない。\n",
            "厚生労働大臣又は都道府県労働局長は、前項の規定による最低賃金審議会の意見の提出があつた場合において、その意見により難いと認めるときは、理由を付して、最低賃金審議会に再審議を求めなければならない。\"\n",
            "          }\n",
            "      ]\n",
            "  }\n",
            "  \n"
          ]
        },
        {
          "output_type": "stream",
          "name": "stderr",
          "text": [
            "WARNING:tornado.access:429 POST /v1beta/models/gemini-pro:generateContent?%24alt=json%3Benum-encoding%3Dint (127.0.0.1) 966.97ms\n"
          ]
        },
        {
          "output_type": "stream",
          "name": "stdout",
          "text": [
            "error\n"
          ]
        },
        {
          "output_type": "stream",
          "name": "stderr",
          "text": [
            "WARNING:tornado.access:429 POST /v1beta/models/gemini-pro:generateContent?%24alt=json%3Benum-encoding%3Dint (127.0.0.1) 931.61ms\n"
          ]
        },
        {
          "output_type": "stream",
          "name": "stdout",
          "text": [
            "error\n"
          ]
        },
        {
          "output_type": "stream",
          "name": "stderr",
          "text": [
            "WARNING:tornado.access:429 POST /v1beta/models/gemini-pro:generateContent?%24alt=json%3Benum-encoding%3Dint (127.0.0.1) 974.63ms\n"
          ]
        },
        {
          "output_type": "stream",
          "name": "stdout",
          "text": [
            "error\n"
          ]
        },
        {
          "output_type": "stream",
          "name": "stderr",
          "text": [
            "WARNING:tornado.access:429 POST /v1beta/models/gemini-pro:generateContent?%24alt=json%3Benum-encoding%3Dint (127.0.0.1) 977.67ms\n"
          ]
        },
        {
          "output_type": "stream",
          "name": "stdout",
          "text": [
            "error\n"
          ]
        },
        {
          "output_type": "stream",
          "name": "stderr",
          "text": [
            "WARNING:tornado.access:429 POST /v1beta/models/gemini-pro:generateContent?%24alt=json%3Benum-encoding%3Dint (127.0.0.1) 917.76ms\n"
          ]
        },
        {
          "output_type": "stream",
          "name": "stdout",
          "text": [
            "error\n"
          ]
        },
        {
          "output_type": "stream",
          "name": "stderr",
          "text": [
            "WARNING:tornado.access:429 POST /v1beta/models/gemini-pro:generateContent?%24alt=json%3Benum-encoding%3Dint (127.0.0.1) 967.21ms\n"
          ]
        },
        {
          "output_type": "stream",
          "name": "stdout",
          "text": [
            "error\n"
          ]
        },
        {
          "output_type": "stream",
          "name": "stderr",
          "text": [
            "WARNING:tornado.access:429 POST /v1beta/models/gemini-pro:generateContent?%24alt=json%3Benum-encoding%3Dint (127.0.0.1) 965.25ms\n"
          ]
        },
        {
          "output_type": "stream",
          "name": "stdout",
          "text": [
            "error\n"
          ]
        },
        {
          "output_type": "stream",
          "name": "stderr",
          "text": [
            "WARNING:tornado.access:429 POST /v1beta/models/gemini-pro:generateContent?%24alt=json%3Benum-encoding%3Dint (127.0.0.1) 966.02ms\n"
          ]
        },
        {
          "output_type": "stream",
          "name": "stdout",
          "text": [
            "error\n"
          ]
        },
        {
          "output_type": "stream",
          "name": "stderr",
          "text": [
            "WARNING:tornado.access:429 POST /v1beta/models/gemini-pro:generateContent?%24alt=json%3Benum-encoding%3Dint (127.0.0.1) 991.41ms\n"
          ]
        },
        {
          "output_type": "stream",
          "name": "stdout",
          "text": [
            "error\n",
            "content 8 **第4条（賃金）**\n",
            "\n",
            "従業員の基本賃金は、月額[金額]円とします。この賃金は、最低賃金法第10条に基づき、[地域名]地域に適用される地域別最低賃金を遵守しています。\n",
            "this\n",
            "law_content \n",
            "  {\n",
            "      \"法律コード\": \"最低賃金法/第二章　最低賃金\",\n",
            "      \"法律の一覧\": [\n",
            "          {\n",
            "              \"条文コード\": \"9\",\n",
            "              \"条文のタイトル\": \"第十一条/（最低賃金審議会の意見に関する異議の申出）\",\n",
            "              \"条文の内容\": \"厚生労働大臣又は都道府県労働局長は、前条第一項の規定による最低賃金審議会の意見の提出があつたときは、厚生労働省令で定めるところにより、その意見の要旨を公示しなければならない。\n",
            "前条第一項の規定による最低賃金審議会の意見に係る地域の労働者又はこれを使用する使用者は、前項の規定による公示があつた日から十五日以内に、厚生労働大臣又は都道府県労働局長に、異議を申し出ることができる。\n",
            "厚生労働大臣又は都道府県労働局長は、前項の規定による申出があつたときは、その申出について、最低賃金審議会に意見を求めなければならない。\n",
            "厚生労働大臣又は都道府県労働局長は、第一項の規定による公示の日から十五日を経過するまでは、前条第一項の決定をすることができない。第二項の規定による申出があつた場合において、前項の規定による最低賃金審議会の意見が提出されるまでも、同様とする。\"\n",
            "          }\n",
            "      ]\n",
            "  }\n",
            "  \n",
            "content 9 **第1条（雇用関係の開始）**\n",
            "\n",
            "本契約は、[雇用主名]（以下「雇用主」という。）と、[従業員名]（以下「従業員」という。）との間で締結され、[開始日]に遡って効力を生じるものとします。この契約は、最低賃金法第11条に基づき、適用される最低賃金に関する異議申出制度を遵守しています。\n",
            "this\n",
            "law_content \n",
            "  {\n",
            "      \"法律コード\": \"最低賃金法/第二章　最低賃金\",\n",
            "      \"法律の一覧\": [\n",
            "          {\n",
            "              \"条文コード\": \"10\",\n",
            "              \"条文のタイトル\": \"第十二条/（地域別最低賃金の改正等）\",\n",
            "              \"条文の内容\": \"厚生労働大臣又は都道府県労働局長は、地域別最低賃金について、地域における労働者の生計費及び賃金並びに通常の事業の賃金支払能力を考慮して必要があると認めるときは、その決定の例により、その改正又は廃止の決定をしなければならない。\"\n",
            "          }\n",
            "      ]\n",
            "  }\n",
            "  \n",
            "content 10 **第4条（賃金）**\n",
            "\n",
            "従業員の基本賃金は、月額[金額]円とします。この賃金は、最低賃金法第12条に基づき、適用される地域別最低賃金の改正や廃止を考慮して定期的に見直されます。\n",
            "this\n",
            "law_content \n",
            "  {\n",
            "      \"法律コード\": \"最低賃金法/第二章　最低賃金\",\n",
            "      \"法律の一覧\": [\n",
            "          {\n",
            "              \"条文コード\": \"11\",\n",
            "              \"条文のタイトル\": \"第十三条/（派遣中の労働者の地域別最低賃金）\",\n",
            "              \"条文の内容\": \"労働者派遣事業の適正な運営の確保及び派遣労働者の保護等に関する法律（昭和六十年法律第八十八号）第四十四条第一項に規定する派遣中の労働者（第十八条において「派遣中の労働者」という。）については、その派遣先の事業（同項に規定する派遣先の事業をいう。第十八条において同じ。）の事業場の所在地を含む地域について決定された地域別最低賃金において定める最低賃金額により第四条の規定を適用する。\"\n",
            "          }\n",
            "      ]\n",
            "  }\n",
            "  \n",
            "content 11 **第1条（雇用関係の開始）**\n",
            "\n",
            "本契約は、[雇用主名]（以下「雇用主」という。）と、[従業員名]（以下「従業員」という。）との間で締結され、[開始日]に遡って効力を生じるものとします。この契約は、最低賃金法第13条に基づき、派遣中の労働者にも適用される地域別最低賃金を遵守しています。\n",
            "this\n",
            "law_content \n",
            "  {\n",
            "      \"法律コード\": \"最低賃金法/第二章　最低賃金\",\n",
            "      \"法律の一覧\": [\n",
            "          {\n",
            "              \"条文コード\": \"12\",\n",
            "              \"条文のタイトル\": \"第十四条/（地域別最低賃金の公示及び発効）\",\n",
            "              \"条文の内容\": \"厚生労働大臣又は都道府県労働局長は、地域別最低賃金に関する決定をしたときは、厚生労働省令で定めるところにより、決定した事項を公示しなければならない。\n",
            "第十条第一項の規定による地域別最低賃金の決定及び第十二条の規定による地域別最低賃金の改正の決定は、前項の規定による公示の日から起算して三十日を経過した日（公示の日から起算して三十日を経過した日後の日であつて当該決定において別に定める日があるときは、その日）から、同条の規定による地域別最低賃金の廃止の決定は、同項の規定による公示の日（公示の日後の日であつて当該決定において別に定める日があるときは、その日）から、その効力を生ずる。\"\n",
            "          }\n",
            "      ]\n",
            "  }\n",
            "  \n"
          ]
        },
        {
          "output_type": "stream",
          "name": "stderr",
          "text": [
            "WARNING:tornado.access:429 POST /v1beta/models/gemini-pro:generateContent?%24alt=json%3Benum-encoding%3Dint (127.0.0.1) 889.34ms\n"
          ]
        },
        {
          "output_type": "stream",
          "name": "stdout",
          "text": [
            "error\n"
          ]
        },
        {
          "output_type": "stream",
          "name": "stderr",
          "text": [
            "WARNING:tornado.access:429 POST /v1beta/models/gemini-pro:generateContent?%24alt=json%3Benum-encoding%3Dint (127.0.0.1) 1093.76ms\n"
          ]
        },
        {
          "output_type": "stream",
          "name": "stdout",
          "text": [
            "error\n"
          ]
        },
        {
          "output_type": "stream",
          "name": "stderr",
          "text": [
            "WARNING:tornado.access:429 POST /v1beta/models/gemini-pro:generateContent?%24alt=json%3Benum-encoding%3Dint (127.0.0.1) 1069.11ms\n"
          ]
        },
        {
          "output_type": "stream",
          "name": "stdout",
          "text": [
            "error\n"
          ]
        },
        {
          "output_type": "stream",
          "name": "stderr",
          "text": [
            "WARNING:tornado.access:429 POST /v1beta/models/gemini-pro:generateContent?%24alt=json%3Benum-encoding%3Dint (127.0.0.1) 1152.20ms\n"
          ]
        },
        {
          "output_type": "stream",
          "name": "stdout",
          "text": [
            "error\n"
          ]
        },
        {
          "output_type": "stream",
          "name": "stderr",
          "text": [
            "WARNING:tornado.access:429 POST /v1beta/models/gemini-pro:generateContent?%24alt=json%3Benum-encoding%3Dint (127.0.0.1) 1171.73ms\n"
          ]
        },
        {
          "output_type": "stream",
          "name": "stdout",
          "text": [
            "error\n"
          ]
        },
        {
          "output_type": "stream",
          "name": "stderr",
          "text": [
            "WARNING:tornado.access:429 POST /v1beta/models/gemini-pro:generateContent?%24alt=json%3Benum-encoding%3Dint (127.0.0.1) 1244.65ms\n"
          ]
        },
        {
          "output_type": "stream",
          "name": "stdout",
          "text": [
            "error\n"
          ]
        },
        {
          "output_type": "stream",
          "name": "stderr",
          "text": [
            "WARNING:tornado.access:429 POST /v1beta/models/gemini-pro:generateContent?%24alt=json%3Benum-encoding%3Dint (127.0.0.1) 1067.78ms\n"
          ]
        },
        {
          "output_type": "stream",
          "name": "stdout",
          "text": [
            "error\n"
          ]
        },
        {
          "output_type": "stream",
          "name": "stderr",
          "text": [
            "WARNING:tornado.access:429 POST /v1beta/models/gemini-pro:generateContent?%24alt=json%3Benum-encoding%3Dint (127.0.0.1) 1093.09ms\n"
          ]
        },
        {
          "output_type": "stream",
          "name": "stdout",
          "text": [
            "error\n"
          ]
        },
        {
          "output_type": "stream",
          "name": "stderr",
          "text": [
            "WARNING:tornado.access:429 POST /v1beta/models/gemini-pro:generateContent?%24alt=json%3Benum-encoding%3Dint (127.0.0.1) 1043.50ms\n"
          ]
        },
        {
          "output_type": "stream",
          "name": "stdout",
          "text": [
            "error\n"
          ]
        },
        {
          "output_type": "stream",
          "name": "stderr",
          "text": [
            "WARNING:tornado.access:429 POST /v1beta/models/gemini-pro:generateContent?%24alt=json%3Benum-encoding%3Dint (127.0.0.1) 1069.80ms\n"
          ]
        },
        {
          "output_type": "stream",
          "name": "stdout",
          "text": [
            "error\n",
            "content 12 **第1条（雇用関係の開始）**\n",
            "\n",
            "本契約は、[雇用主名]（以下「雇用主」という。）と、[従業員名]（以下「従業員」という。）との間で締結され、[開始日]に遡って効力を生じるものとします。この契約は、最低賃金法第13条に基づき、派遣中の労働者にも適用される地域別最低賃金を遵守しています。\n",
            "this\n",
            "law_content \n",
            "  {\n",
            "      \"法律コード\": \"最低賃金法/第二章　最低賃金\",\n",
            "      \"法律の一覧\": [\n",
            "          {\n",
            "              \"条文コード\": \"13\",\n",
            "              \"条文のタイトル\": \"第十五条/（特定最低賃金の決定等）\",\n",
            "              \"条文の内容\": \"労働者又は使用者の全部又は一部を代表する者は、厚生労働省令で定めるところにより、厚生労働大臣又は都道府県労働局長に対し、当該労働者若しくは使用者に適用される一定の事業若しくは職業に係る最低賃金（以下「特定最低賃金」という。）の決定又は当該労働者若しくは使用者に現に適用されている特定最低賃金の改正若しくは廃止の決定をするよう申し出ることができる。\n",
            "厚生労働大臣又は都道府県労働局長は、前項の規定による申出があつた場合において必要があると認めるときは、最低賃金審議会の調査審議を求め、その意見を聴いて、当該申出に係る特定最低賃金の決定又は当該申出に係る特定最低賃金の改正若しくは廃止の決定をすることができる。\n",
            "第十条第二項及び第十一条の規定は、前項の規定による最低賃金審議会の意見の提出があつた場合について準用する。この場合において、同条第二項中「地域」とあるのは、「事業若しくは職業」と読み替えるものとする。\n",
            "厚生労働大臣又は都道府県労働局長は、第二項の決定をする場合において、前項において準用する第十一条第二項の規定による申出があつたときは、前項において準用する同条第三項の規定による最低賃金審議会の意見に基づき、当該特定最低賃金において、一定の範囲の事業について、その適用を一定の期間を限つて猶予し、又は最低賃金額について別段の定めをすることができる。\n",
            "第十条第二項の規定は、前項の規定による最低賃金審議会の意見の提出があつた場合について準用する。\"\n",
            "          }\n",
            "      ]\n",
            "  }\n",
            "  \n"
          ]
        },
        {
          "output_type": "stream",
          "name": "stderr",
          "text": [
            "WARNING:tornado.access:429 POST /v1beta/models/gemini-pro:generateContent?%24alt=json%3Benum-encoding%3Dint (127.0.0.1) 1017.55ms\n"
          ]
        },
        {
          "output_type": "stream",
          "name": "stdout",
          "text": [
            "error\n"
          ]
        },
        {
          "output_type": "stream",
          "name": "stderr",
          "text": [
            "WARNING:tornado.access:429 POST /v1beta/models/gemini-pro:generateContent?%24alt=json%3Benum-encoding%3Dint (127.0.0.1) 1041.30ms\n"
          ]
        },
        {
          "output_type": "stream",
          "name": "stdout",
          "text": [
            "error\n"
          ]
        },
        {
          "output_type": "stream",
          "name": "stderr",
          "text": [
            "WARNING:tornado.access:429 POST /v1beta/models/gemini-pro:generateContent?%24alt=json%3Benum-encoding%3Dint (127.0.0.1) 1308.27ms\n"
          ]
        },
        {
          "output_type": "stream",
          "name": "stdout",
          "text": [
            "error\n"
          ]
        },
        {
          "output_type": "stream",
          "name": "stderr",
          "text": [
            "WARNING:tornado.access:429 POST /v1beta/models/gemini-pro:generateContent?%24alt=json%3Benum-encoding%3Dint (127.0.0.1) 1049.02ms\n"
          ]
        },
        {
          "output_type": "stream",
          "name": "stdout",
          "text": [
            "error\n"
          ]
        },
        {
          "output_type": "stream",
          "name": "stderr",
          "text": [
            "WARNING:tornado.access:429 POST /v1beta/models/gemini-pro:generateContent?%24alt=json%3Benum-encoding%3Dint (127.0.0.1) 1049.66ms\n"
          ]
        },
        {
          "output_type": "stream",
          "name": "stdout",
          "text": [
            "error\n"
          ]
        },
        {
          "output_type": "stream",
          "name": "stderr",
          "text": [
            "WARNING:tornado.access:429 POST /v1beta/models/gemini-pro:generateContent?%24alt=json%3Benum-encoding%3Dint (127.0.0.1) 1067.29ms\n"
          ]
        },
        {
          "output_type": "stream",
          "name": "stdout",
          "text": [
            "error\n"
          ]
        },
        {
          "output_type": "stream",
          "name": "stderr",
          "text": [
            "WARNING:tornado.access:429 POST /v1beta/models/gemini-pro:generateContent?%24alt=json%3Benum-encoding%3Dint (127.0.0.1) 1142.58ms\n"
          ]
        },
        {
          "output_type": "stream",
          "name": "stdout",
          "text": [
            "error\n"
          ]
        },
        {
          "output_type": "stream",
          "name": "stderr",
          "text": [
            "WARNING:tornado.access:429 POST /v1beta/models/gemini-pro:generateContent?%24alt=json%3Benum-encoding%3Dint (127.0.0.1) 1372.77ms\n"
          ]
        },
        {
          "output_type": "stream",
          "name": "stdout",
          "text": [
            "error\n"
          ]
        },
        {
          "output_type": "stream",
          "name": "stderr",
          "text": [
            "WARNING:tornado.access:429 POST /v1beta/models/gemini-pro:generateContent?%24alt=json%3Benum-encoding%3Dint (127.0.0.1) 1023.02ms\n"
          ]
        },
        {
          "output_type": "stream",
          "name": "stdout",
          "text": [
            "error\n"
          ]
        },
        {
          "output_type": "stream",
          "name": "stderr",
          "text": [
            "WARNING:tornado.access:429 POST /v1beta/models/gemini-pro:generateContent?%24alt=json%3Benum-encoding%3Dint (127.0.0.1) 1262.12ms\n"
          ]
        },
        {
          "output_type": "stream",
          "name": "stdout",
          "text": [
            "error\n",
            "content 13 **第1条（雇用関係の開始）**\n",
            "\n",
            "本契約は、[雇用主名]（以下「雇用主」という。）と、[従業員名]（以下「従業員」という。）との間で締結され、[開始日]に遡って効力を生じるものとします。この契約は、最低賃金法第13条に基づき、派遣中の労働者にも適用される地域別最低賃金を遵守しています。\n",
            "this\n",
            "law_content \n",
            "  {\n",
            "      \"法律コード\": \"最低賃金法/第二章　最低賃金\",\n",
            "      \"法律の一覧\": [\n",
            "          {\n",
            "              \"条文コード\": \"14\",\n",
            "              \"条文のタイトル\": \"第十六条/（特定最低賃金の決定等）\",\n",
            "              \"条文の内容\": \"前条第二項の規定により決定され、又は改正される特定最低賃金において定める最低賃金額は、当該特定最低賃金の適用を受ける使用者の事業場の所在地を含む地域について決定された地域別最低賃金において定める最低賃金額を上回るものでなければならない。\"\n",
            "          }\n",
            "      ]\n",
            "  }\n",
            "  \n"
          ]
        },
        {
          "output_type": "stream",
          "name": "stderr",
          "text": [
            "WARNING:tornado.access:429 POST /v1beta/models/gemini-pro:generateContent?%24alt=json%3Benum-encoding%3Dint (127.0.0.1) 1119.49ms\n"
          ]
        },
        {
          "output_type": "stream",
          "name": "stdout",
          "text": [
            "error\n"
          ]
        },
        {
          "output_type": "stream",
          "name": "stderr",
          "text": [
            "WARNING:tornado.access:429 POST /v1beta/models/gemini-pro:generateContent?%24alt=json%3Benum-encoding%3Dint (127.0.0.1) 1047.14ms\n"
          ]
        },
        {
          "output_type": "stream",
          "name": "stdout",
          "text": [
            "error\n"
          ]
        },
        {
          "output_type": "stream",
          "name": "stderr",
          "text": [
            "WARNING:tornado.access:429 POST /v1beta/models/gemini-pro:generateContent?%24alt=json%3Benum-encoding%3Dint (127.0.0.1) 1144.81ms\n"
          ]
        },
        {
          "output_type": "stream",
          "name": "stdout",
          "text": [
            "error\n"
          ]
        },
        {
          "output_type": "stream",
          "name": "stderr",
          "text": [
            "WARNING:tornado.access:429 POST /v1beta/models/gemini-pro:generateContent?%24alt=json%3Benum-encoding%3Dint (127.0.0.1) 1067.04ms\n"
          ]
        },
        {
          "output_type": "stream",
          "name": "stdout",
          "text": [
            "error\n"
          ]
        },
        {
          "output_type": "stream",
          "name": "stderr",
          "text": [
            "WARNING:tornado.access:429 POST /v1beta/models/gemini-pro:generateContent?%24alt=json%3Benum-encoding%3Dint (127.0.0.1) 1099.80ms\n"
          ]
        },
        {
          "output_type": "stream",
          "name": "stdout",
          "text": [
            "error\n"
          ]
        },
        {
          "output_type": "stream",
          "name": "stderr",
          "text": [
            "WARNING:tornado.access:429 POST /v1beta/models/gemini-pro:generateContent?%24alt=json%3Benum-encoding%3Dint (127.0.0.1) 1432.60ms\n"
          ]
        },
        {
          "output_type": "stream",
          "name": "stdout",
          "text": [
            "error\n"
          ]
        },
        {
          "output_type": "stream",
          "name": "stderr",
          "text": [
            "WARNING:tornado.access:429 POST /v1beta/models/gemini-pro:generateContent?%24alt=json%3Benum-encoding%3Dint (127.0.0.1) 1167.80ms\n"
          ]
        },
        {
          "output_type": "stream",
          "name": "stdout",
          "text": [
            "error\n"
          ]
        },
        {
          "output_type": "stream",
          "name": "stderr",
          "text": [
            "WARNING:tornado.access:429 POST /v1beta/models/gemini-pro:generateContent?%24alt=json%3Benum-encoding%3Dint (127.0.0.1) 1357.72ms\n"
          ]
        },
        {
          "output_type": "stream",
          "name": "stdout",
          "text": [
            "error\n"
          ]
        },
        {
          "output_type": "stream",
          "name": "stderr",
          "text": [
            "WARNING:tornado.access:429 POST /v1beta/models/gemini-pro:generateContent?%24alt=json%3Benum-encoding%3Dint (127.0.0.1) 1330.46ms\n"
          ]
        },
        {
          "output_type": "stream",
          "name": "stdout",
          "text": [
            "error\n"
          ]
        },
        {
          "output_type": "stream",
          "name": "stderr",
          "text": [
            "WARNING:tornado.access:429 POST /v1beta/models/gemini-pro:generateContent?%24alt=json%3Benum-encoding%3Dint (127.0.0.1) 1353.85ms\n"
          ]
        },
        {
          "output_type": "stream",
          "name": "stdout",
          "text": [
            "error\n",
            "content 14 **第1条（雇用関係の開始）**\n",
            "\n",
            "本契約は、[雇用主名]（以下「雇用主」という。）と、[従業員名]（以下「従業員」という。）との間で締結され、[開始日]に遡って効力を生じるものとします。この契約は、最低賃金法第13条に基づき、派遣中の労働者にも適用される地域別最低賃金を遵守しています。\n",
            "this\n",
            "law_content \n",
            "  {\n",
            "      \"法律コード\": \"最低賃金法/第二章　最低賃金\",\n",
            "      \"法律の一覧\": [\n",
            "          {\n",
            "              \"条文コード\": \"15\",\n",
            "              \"条文のタイトル\": \"第十七条/（特定最低賃金の決定等）\",\n",
            "              \"条文の内容\": \"第十五条第一項及び第二項の規定にかかわらず、厚生労働大臣又は都道府県労働局長は、同項の規定により決定され、又は改正された特定最低賃金が著しく不適当となつたと認めるときは、その決定の例により、その廃止の決定をすることができる。\"\n",
            "          }\n",
            "      ]\n",
            "  }\n",
            "  \n"
          ]
        },
        {
          "output_type": "stream",
          "name": "stderr",
          "text": [
            "WARNING:tornado.access:429 POST /v1beta/models/gemini-pro:generateContent?%24alt=json%3Benum-encoding%3Dint (127.0.0.1) 1073.27ms\n"
          ]
        },
        {
          "output_type": "stream",
          "name": "stdout",
          "text": [
            "error\n"
          ]
        },
        {
          "output_type": "stream",
          "name": "stderr",
          "text": [
            "WARNING:tornado.access:429 POST /v1beta/models/gemini-pro:generateContent?%24alt=json%3Benum-encoding%3Dint (127.0.0.1) 1372.92ms\n"
          ]
        },
        {
          "output_type": "stream",
          "name": "stdout",
          "text": [
            "error\n"
          ]
        },
        {
          "output_type": "stream",
          "name": "stderr",
          "text": [
            "WARNING:tornado.access:429 POST /v1beta/models/gemini-pro:generateContent?%24alt=json%3Benum-encoding%3Dint (127.0.0.1) 1026.81ms\n"
          ]
        },
        {
          "output_type": "stream",
          "name": "stdout",
          "text": [
            "error\n"
          ]
        },
        {
          "output_type": "stream",
          "name": "stderr",
          "text": [
            "WARNING:tornado.access:429 POST /v1beta/models/gemini-pro:generateContent?%24alt=json%3Benum-encoding%3Dint (127.0.0.1) 1099.94ms\n"
          ]
        },
        {
          "output_type": "stream",
          "name": "stdout",
          "text": [
            "error\n"
          ]
        },
        {
          "output_type": "stream",
          "name": "stderr",
          "text": [
            "WARNING:tornado.access:429 POST /v1beta/models/gemini-pro:generateContent?%24alt=json%3Benum-encoding%3Dint (127.0.0.1) 1207.42ms\n"
          ]
        },
        {
          "output_type": "stream",
          "name": "stdout",
          "text": [
            "error\n"
          ]
        },
        {
          "output_type": "stream",
          "name": "stderr",
          "text": [
            "WARNING:tornado.access:429 POST /v1beta/models/gemini-pro:generateContent?%24alt=json%3Benum-encoding%3Dint (127.0.0.1) 1028.10ms\n"
          ]
        },
        {
          "output_type": "stream",
          "name": "stdout",
          "text": [
            "error\n"
          ]
        },
        {
          "output_type": "stream",
          "name": "stderr",
          "text": [
            "WARNING:tornado.access:429 POST /v1beta/models/gemini-pro:generateContent?%24alt=json%3Benum-encoding%3Dint (127.0.0.1) 1051.95ms\n"
          ]
        },
        {
          "output_type": "stream",
          "name": "stdout",
          "text": [
            "error\n"
          ]
        },
        {
          "output_type": "stream",
          "name": "stderr",
          "text": [
            "WARNING:tornado.access:429 POST /v1beta/models/gemini-pro:generateContent?%24alt=json%3Benum-encoding%3Dint (127.0.0.1) 1077.05ms\n"
          ]
        },
        {
          "output_type": "stream",
          "name": "stdout",
          "text": [
            "error\n",
            "content 15 **第4条（賃金）**\n",
            "\n",
            "従業員の基本賃金は、月額[金額]円とします。この賃金は、最低賃金法第17条に基づき、適用される特定最低賃金が不適当となった場合に定期的に見直されます。\n",
            "this\n",
            "law_content \n",
            "  {\n",
            "      \"法律コード\": \"最低賃金法/第二章　最低賃金\",\n",
            "      \"法律の一覧\": [\n",
            "          {\n",
            "              \"条文コード\": \"16\",\n",
            "              \"条文のタイトル\": \"第十八条/（派遣中の労働者の特定最低賃金）\",\n",
            "              \"条文の内容\": \"派遣中の労働者については、その派遣先の事業と同種の事業又はその派遣先の事業の事業場で使用される同種の労働者の職業について特定最低賃金が適用されている場合にあつては、当該特定最低賃金において定める最低賃金額により第四条の規定を適用する。\"\n",
            "          }\n",
            "      ]\n",
            "  }\n",
            "  \n",
            "content 16 **第1条（雇用関係の開始）**\n",
            "\n",
            "本契約は、[雇用主名]（以下「雇用主」という。）と、[従業員名]（以下「従業員」という。）との間で締結され、[開始日]に遡って効力を生じるものとします。この契約は、最低賃金法第18条に基づき、派遣中の労働者にも適用される特定最低賃金を遵守しています。\n",
            "this\n",
            "law_content \n",
            "  {\n",
            "      \"法律コード\": \"最低賃金法/第二章　最低賃金\",\n",
            "      \"法律の一覧\": [\n",
            "          {\n",
            "              \"条文コード\": \"17\",\n",
            "              \"条文のタイトル\": \"第十九条/（特定最低賃金の公示及び発効）\",\n",
            "              \"条文の内容\": \"厚生労働大臣又は都道府県労働局長は、特定最低賃金に関する決定をしたときは、厚生労働省令で定めるところにより、決定した事項を公示しなければならない。\n",
            "第十五条第二項の規定による特定最低賃金の決定及び特定最低賃金の改正の決定は、前項の規定による公示の日から起算して三十日を経過した日（公示の日から起算して三十日を経過した日後の日であつて当該決定において別に定める日があるときは、その日）から、同条第二項及び第十七条の規定による特定最低賃金の廃止の決定は、前項の規定による公示の日（公示の日後の日であつて当該決定において別に定める日があるときは、その日）から、その効力を生ずる。\"\n",
            "          }\n",
            "      ]\n",
            "  }\n",
            "  \n",
            "content 17 **第4条（賃金）**\n",
            "\n",
            "従業員の基本賃金は、月額[金額]円とします。この賃金は、最低賃金法第19条に基づき、適用される特定最低賃金の公示日から30日後に効力を生じます。\n"
          ]
        }
      ],
      "source": [
        "a = 1                                             # start index in law\n",
        "b = 17                                            # end index in law\n",
        "list_example = []\n",
        "for i in range(a, b+1, 1):\n",
        "  law_id = \"最低賃金法/第二章　最低賃金\"        # 26\n",
        "  article_id = str(i)\n",
        "\n",
        "  for law in laws:\n",
        "    if (law['law_id']==law_id):\n",
        "      for art in law['articles']:\n",
        "        if art[\"article_id\"]==article_id:\n",
        "          law_content = \"\"\"\n",
        "  {\n",
        "      \"法律コード\": \"\"\" + '\"' + law_id + '\"' + \"\"\",\n",
        "      \"法律の一覧\": [\n",
        "          {\n",
        "              \"条文コード\": \"\"\" + '\"' + article_id + '\"' + \"\"\",\n",
        "              \"条文のタイトル\": \"\"\" + '\"' + art['title'] + '\"' + \"\"\",\n",
        "              \"条文の内容\": \"\"\" + '\"' + art['text'].split(\"/\")[-1] + '\"' + \"\"\"\n",
        "          }\n",
        "      ]\n",
        "  }\n",
        "  \"\"\"\n",
        "          print(\"this\")\n",
        "  print(\"law_content\", law_content)\n",
        "  prompt = \"\"\"\n",
        "法律の条文に関する情報: \"\"\" + law_content + \"\"\"\n",
        "上記のような法律の条文に関する情報があるので、その条文に直接関連する一文を契約書に記載してください。\n",
        "言いたいのは、契約書全体ではなく、関係する法律条文についての一文のみが必要です。\n",
        "\"\"\"\n",
        "  count = 0\n",
        "  is_save = True\n",
        "  while True:\n",
        "    count += 1\n",
        "    if count > 10:\n",
        "      is_save = False\n",
        "      break\n",
        "    try:\n",
        "      response = chat.send_message(prompt)\n",
        "    except:\n",
        "      print(\"error\")\n",
        "      continue\n",
        "    break\n",
        "  print(\"content\", i, response.text)\n",
        "  if is_save:\n",
        "    new_item = {\n",
        "        \"question\": response.text,\n",
        "        \"relevant_articles\": [\n",
        "            {\n",
        "                \"law_id\": law_id,\n",
        "                \"article_id\": article_id\n",
        "            }\n",
        "        ]\n",
        "    }\n",
        "    list_example.append(new_item)"
      ]
    },
    {
      "cell_type": "code",
      "execution_count": null,
      "metadata": {
        "colab": {
          "base_uri": "https://localhost:8080/"
        },
        "id": "dITEgUzwGXVW",
        "outputId": "cffd284f-6eaf-414c-8809-3d6c16ddc7f1"
      },
      "outputs": [
        {
          "output_type": "stream",
          "name": "stdout",
          "text": [
            "before\n",
            "{'question': '**第9条（誓約）**\\n\\n従業員は、雇用期間中、以下の事項を誓約します。\\n\\n* ...（中略）...\\n* 労働組合法第13条の5、第13条の7、第13条の9に定められた登記や公告、申立てを怠ったり、不実の申立てや事実の隠蔽をしたりしないことを認識しています。\\n* ...（中略）...', 'relevant_articles': [{'law_id': '労働組合法/第五章\\u3000罰則', 'article_id': '10'}]}\n",
            "{'question': '**第4条（賃金）**\\n\\n従業員の基本賃金は、月額[金額]円とします。この賃金は、最低賃金法第1条の目的を遵守し、労働者の生活の安定を図るために設定されています。', 'relevant_articles': [{'law_id': '最低賃金法/第一章\\u3000総則', 'article_id': '1'}]}\n",
            "{'question': '**第1条（雇用関係の開始）**\\n\\n本契約は、[雇用主名]（以下「雇用主」という。）と、[従業員名]（以下「従業員」という。）との間で締結され、[開始日]に遡って効力を生じるものとします。この契約は、最低賃金法第2条に定義される労働者と使用者との間の雇用関係を規律します。', 'relevant_articles': [{'law_id': '最低賃金法/第一章\\u3000総則', 'article_id': '2'}]}\n",
            "after\n",
            "{'question': '**第4条（賃金）**\\n\\n従業員の基本賃金は、月額[金額]円とします。この賃金は、最低賃金法第17条に基づき、適用される特定最低賃金が不適当となった場合に定期的に見直されます。', 'relevant_articles': [{'law_id': '最低賃金法/第二章\\u3000最低賃金', 'article_id': '15'}]}\n",
            "{'question': '**第1条（雇用関係の開始）**\\n\\n本契約は、[雇用主名]（以下「雇用主」という。）と、[従業員名]（以下「従業員」という。）との間で締結され、[開始日]に遡って効力を生じるものとします。この契約は、最低賃金法第18条に基づき、派遣中の労働者にも適用される特定最低賃金を遵守しています。', 'relevant_articles': [{'law_id': '最低賃金法/第二章\\u3000最低賃金', 'article_id': '16'}]}\n",
            "{'question': '**第4条（賃金）**\\n\\n従業員の基本賃金は、月額[金額]円とします。この賃金は、最低賃金法第19条に基づき、適用される特定最低賃金の公示日から30日後に効力を生じます。', 'relevant_articles': [{'law_id': '最低賃金法/第二章\\u3000最低賃金', 'article_id': '17'}]}\n"
          ]
        }
      ],
      "source": [
        "import json\n",
        "\n",
        "# Path to JSON file\n",
        "file_path = \"./Data/LawContractAPI_2606_Phuc.json\"  # Thay đổi đường dẫn tương ứng\n",
        "\n",
        "# Open JSON file to read existing data\n",
        "with open(file_path, 'r', encoding='utf-8') as file:\n",
        "    data = json.load(file)\n",
        "\n",
        "data = [item for item in data if item!=[]]\n",
        "\n",
        "print(\"before\")\n",
        "for item in data[-3:]:\n",
        "  print(item)\n",
        "\n",
        "# Add new item to existing list of items\n",
        "if len(list_example) != 0:\n",
        "    data.extend(list_example)\n",
        "\n",
        "print(\"after\")\n",
        "for item in data[-3:]:\n",
        "  print(item)\n",
        "\n",
        "# Write data to JSON file\n",
        "with open(file_path, 'w', encoding='utf-8') as file:\n",
        "    json.dump(data, file, ensure_ascii=False, indent=4)"
      ]
    },
    {
      "cell_type": "code",
      "execution_count": null,
      "metadata": {
        "colab": {
          "base_uri": "https://localhost:8080/"
        },
        "id": "y07RYXct8A1L",
        "outputId": "cf4b2bef-3189-4ce4-8eda-62764bddafc5"
      },
      "outputs": [
        {
          "output_type": "execute_result",
          "data": {
            "text/plain": [
              "73"
            ]
          },
          "metadata": {},
          "execution_count": 24
        }
      ],
      "source": [
        "len(data)"
      ]
    },
    {
      "cell_type": "code",
      "source": [
        "for i in data[-10:]:\n",
        "  print(i)"
      ],
      "metadata": {
        "colab": {
          "base_uri": "https://localhost:8080/"
        },
        "id": "BuX-uO4Lgme0",
        "outputId": "5336abda-0495-411b-a6d3-e525c6e270c7"
      },
      "execution_count": null,
      "outputs": [
        {
          "output_type": "stream",
          "name": "stdout",
          "text": [
            "{'question': '**第4条（賃金）**\\n\\n従業員の基本賃金は、月額[金額]円とします。この賃金は、複数の最低賃金が適用される場合は、最低賃金法第6条に基づき、適用される最低賃金額のうち最も高い金額が適用されます。', 'relevant_articles': [{'law_id': '最低賃金法/第二章\\u3000最低賃金', 'article_id': '4'}]}\n",
            "{'question': '**第4条（賃金）**\\n\\n従業員の基本賃金は、月額[金額]円とします。ただし、最低賃金法第7条の規定に基づき、厚生労働省令で定められた要件を満たす場合、最低賃金額から減額された額が適用される場合があります。', 'relevant_articles': [{'law_id': '最低賃金法/第二章\\u3000最低賃金', 'article_id': '5'}]}\n",
            "{'question': '**第1条（雇用関係の開始）**\\n\\n本契約は、[雇用主名]（以下「雇用主」という。）と、[従業員名]（以下「従業員」という。）との間で締結され、[開始日]に遡って効力を生じるものとします。この契約は、最低賃金法第8条に基づき、適用される最低賃金の概要を従業員に周知させるための措置が講じられています。', 'relevant_articles': [{'law_id': '最低賃金法/第二章\\u3000最低賃金', 'article_id': '6'}]}\n",
            "{'question': '**第4条（賃金）**\\n\\n従業員の基本賃金は、月額[金額]円とします。この賃金は、最低賃金法第10条に基づき、[地域名]地域に適用される地域別最低賃金を遵守しています。', 'relevant_articles': [{'law_id': '最低賃金法/第二章\\u3000最低賃金', 'article_id': '8'}]}\n",
            "{'question': '**第1条（雇用関係の開始）**\\n\\n本契約は、[雇用主名]（以下「雇用主」という。）と、[従業員名]（以下「従業員」という。）との間で締結され、[開始日]に遡って効力を生じるものとします。この契約は、最低賃金法第11条に基づき、適用される最低賃金に関する異議申出制度を遵守しています。', 'relevant_articles': [{'law_id': '最低賃金法/第二章\\u3000最低賃金', 'article_id': '9'}]}\n",
            "{'question': '**第4条（賃金）**\\n\\n従業員の基本賃金は、月額[金額]円とします。この賃金は、最低賃金法第12条に基づき、適用される地域別最低賃金の改正や廃止を考慮して定期的に見直されます。', 'relevant_articles': [{'law_id': '最低賃金法/第二章\\u3000最低賃金', 'article_id': '10'}]}\n",
            "{'question': '**第1条（雇用関係の開始）**\\n\\n本契約は、[雇用主名]（以下「雇用主」という。）と、[従業員名]（以下「従業員」という。）との間で締結され、[開始日]に遡って効力を生じるものとします。この契約は、最低賃金法第13条に基づき、派遣中の労働者にも適用される地域別最低賃金を遵守しています。', 'relevant_articles': [{'law_id': '最低賃金法/第二章\\u3000最低賃金', 'article_id': '11'}]}\n",
            "{'question': '**第4条（賃金）**\\n\\n従業員の基本賃金は、月額[金額]円とします。この賃金は、最低賃金法第17条に基づき、適用される特定最低賃金が不適当となった場合に定期的に見直されます。', 'relevant_articles': [{'law_id': '最低賃金法/第二章\\u3000最低賃金', 'article_id': '15'}]}\n",
            "{'question': '**第1条（雇用関係の開始）**\\n\\n本契約は、[雇用主名]（以下「雇用主」という。）と、[従業員名]（以下「従業員」という。）との間で締結され、[開始日]に遡って効力を生じるものとします。この契約は、最低賃金法第18条に基づき、派遣中の労働者にも適用される特定最低賃金を遵守しています。', 'relevant_articles': [{'law_id': '最低賃金法/第二章\\u3000最低賃金', 'article_id': '16'}]}\n",
            "{'question': '**第4条（賃金）**\\n\\n従業員の基本賃金は、月額[金額]円とします。この賃金は、最低賃金法第19条に基づき、適用される特定最低賃金の公示日から30日後に効力を生じます。', 'relevant_articles': [{'law_id': '最低賃金法/第二章\\u3000最低賃金', 'article_id': '17'}]}\n"
          ]
        }
      ]
    },
    {
      "cell_type": "markdown",
      "metadata": {
        "id": "qE7BtUT3aHsy"
      },
      "source": [
        "### Checked"
      ]
    },
    {
      "cell_type": "code",
      "execution_count": null,
      "metadata": {
        "id": "VU1oRSn0VvuD"
      },
      "outputs": [],
      "source": [
        "response.text"
      ]
    },
    {
      "cell_type": "code",
      "execution_count": null,
      "metadata": {
        "id": "hA_2uXVAVT3B"
      },
      "outputs": [],
      "source": [
        "new_item = {\n",
        "    \"question\": response.text,\n",
        "    \"relevant_articles\": [\n",
        "        {\n",
        "            \"law_id\": law_id,\n",
        "            \"article_id\": article_id\n",
        "        }\n",
        "    ]\n",
        "}"
      ]
    },
    {
      "cell_type": "code",
      "execution_count": null,
      "metadata": {
        "id": "i6YaXf5LDqi4"
      },
      "outputs": [],
      "source": [
        "list_example = []"
      ]
    },
    {
      "cell_type": "code",
      "execution_count": null,
      "metadata": {
        "id": "3OEMd7dZWEx_"
      },
      "outputs": [],
      "source": [
        "list_example.append(new_item)"
      ]
    },
    {
      "cell_type": "code",
      "execution_count": null,
      "metadata": {
        "id": "ZEOOp5NJWwci"
      },
      "outputs": [],
      "source": [
        "import json\n",
        "\n",
        "# Đường dẫn đến file JSON\n",
        "file_path = \"./Data/LawContractAPI.json\"  # Thay đổi đường dẫn tương ứng\n",
        "\n",
        "# Mở file JSON để đọc dữ liệu hiện có\n",
        "with open(file_path, 'r', encoding='utf-8') as file:\n",
        "    data = json.load(file)\n",
        "\n",
        "data = [item for item in data if item!=[]]\n",
        "\n",
        "print(\"before\")\n",
        "for item in data[-3:]:\n",
        "  print(item)\n",
        "\n",
        "# Thêm mục mới vào danh sách các mục hiện có\n",
        "if len(list_example) != 0:\n",
        "    data.extend(list_example)\n",
        "\n",
        "print(\"after\")\n",
        "for item in data[-3:]:\n",
        "  print(item)\n",
        "\n",
        "# Ghi lại dữ liệu vào file JSON\n",
        "with open(file_path, 'w', encoding='utf-8') as file:\n",
        "    json.dump(data, file, ensure_ascii=False, indent=4)"
      ]
    },
    {
      "cell_type": "markdown",
      "metadata": {
        "id": "VDDRmZ_zbngh"
      },
      "source": [
        "### Seen"
      ]
    },
    {
      "cell_type": "code",
      "execution_count": null,
      "metadata": {
        "colab": {
          "base_uri": "https://localhost:8080/"
        },
        "id": "gUj6c_G_XQ6q",
        "outputId": "a8d3b0ec-8f47-42ea-8055-51d07d05531f"
      },
      "outputs": [
        {
          "output_type": "stream",
          "name": "stdout",
          "text": [
            "File JSON đã được tạo tại đường dẫn: ./Data/LawContractAPI_2606_full.json\n"
          ]
        }
      ],
      "source": [
        "# import json\n",
        "\n",
        "# # Đường dẫn đến file JSON\n",
        "# file_path = \"./Data/LawContractAPI_2606_full.json\"\n",
        "\n",
        "# # Dữ liệu ban đầu cho file JSON\n",
        "# initial_data = []\n",
        "\n",
        "# # Mở file JSON để ghi dữ liệu ban đầu vào\n",
        "# with open(file_path, 'w', encoding='utf-8') as file:\n",
        "#     json.dump(initial_data, file, ensure_ascii=False, indent=4)\n",
        "\n",
        "# print(f\"File JSON đã được tạo tại đường dẫn: {file_path}\")"
      ]
    },
    {
      "cell_type": "markdown",
      "metadata": {
        "id": "Wwxt8d8qb_yo"
      },
      "source": [
        "Delete last row."
      ]
    },
    {
      "cell_type": "code",
      "execution_count": null,
      "metadata": {
        "id": "Muf-qg_vb0fW",
        "colab": {
          "base_uri": "https://localhost:8080/"
        },
        "outputId": "fac126f4-fb61-43c1-cff5-defceca2fcb4"
      },
      "outputs": [
        {
          "output_type": "stream",
          "name": "stdout",
          "text": [
            "before\n",
            "{'question': '**この契約書は、労働組合法第二章第十三条の十一の規定に基づき、特別代理人の選任や法人格を取得した労働組合の清算人に関する事件は、労働組合の主たる事務所の所在地を管轄する地方裁判所の管轄に属するものとします。**', 'relevant_articles': [{'law_id': '労働組合法/第二章\\u3000労働組合', 'article_id': '24'}]}\n",
            "{'question': '**この契約書は、労働組合法第二章第十三条の十二の規定に基づき、法人格を取得した労働組合の清算人の選任に対する裁判については、不服を申し立てることができないものとします。**', 'relevant_articles': [{'law_id': '労働組合法/第二章\\u3000労働組合', 'article_id': '25'}]}\n",
            "{'question': '**この契約書は、労働組合法第二章第十三条の十三の規定に基づき、裁判所が法人格を取得した労働組合の清算人を選任した場合、裁判所は労働組合が支払う報酬額を定めることができ、その際には清算人の陳述を聴取するものとします。**', 'relevant_articles': [{'law_id': '労働組合法/第二章\\u3000労働組合', 'article_id': '26'}]}\n",
            "after\n",
            "{'question': '本契約は、「労働組合法」第2条に規定する労働組合との間で締結されます。', 'relevant_articles': [{'law_id': '労働組合法/第一章\\u3000総則', 'article_id': '2'}]}\n",
            "{'question': '本契約における「労働者」とは、「労働組合法」第3条に規定する労働者を意味します。', 'relevant_articles': [{'law_id': '労働組合法/第一章\\u3000総則', 'article_id': '3'}]}\n",
            "{'question': '削除された法律条文に関する一文は、契約書には記載できません。', 'relevant_articles': [{'law_id': '労働組合法/第一章\\u3000総則', 'article_id': '4'}]}\n"
          ]
        }
      ],
      "source": [
        "import json\n",
        "\n",
        "# Đường dẫn đến file JSON\n",
        "file_path = \"./Data/LawContractAPI_2606_Phuc.json\"  # Thay đổi đường dẫn tương ứng\n",
        "\n",
        "# Mở file JSON để đọc dữ liệu hiện có\n",
        "with open(file_path, 'r', encoding='utf-8') as file:\n",
        "    data = json.load(file)\n",
        "\n",
        "data = [item for item in data if item!=[]]\n",
        "\n",
        "print(\"before\")\n",
        "for item in data[-3:]:\n",
        "  print(item)\n",
        "\n",
        "# Thêm mục mới vào danh sách các mục hiện có\n",
        "data = data[:-1]\n",
        "\n",
        "print(\"after\")\n",
        "for item in data[-3:]:\n",
        "  print(item)\n",
        "\n",
        "# Ghi lại dữ liệu vào file JSON\n",
        "with open(file_path, 'w', encoding='utf-8') as file:\n",
        "    json.dump(data, file, ensure_ascii=False, indent=4)"
      ]
    }
  ],
  "metadata": {
    "colab": {
      "collapsed_sections": [
        "B0hPYBcKeV_f",
        "c7xMJeMeX106",
        "qE7BtUT3aHsy"
      ],
      "gpuType": "T4",
      "provenance": [],
      "toc_visible": true
    },
    "kernelspec": {
      "display_name": "Python 3",
      "name": "python3"
    },
    "language_info": {
      "name": "python"
    }
  },
  "nbformat": 4,
  "nbformat_minor": 0
}