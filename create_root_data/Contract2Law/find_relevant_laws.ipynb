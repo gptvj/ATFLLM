{
 "cells": [
  {
   "cell_type": "markdown",
   "metadata": {
    "id": "w9QXYHdWmmsD"
   },
   "source": [
    "# Find relevant laws of chunks in contract"
   ]
  },
  {
   "cell_type": "markdown",
   "metadata": {
    "id": "56xY2yKwdswp"
   },
   "source": [
    "## Get law database"
   ]
  },
  {
   "cell_type": "code",
   "execution_count": null,
   "metadata": {
    "colab": {
     "base_uri": "https://localhost:8080/"
    },
    "id": "64JFJRGhrs0G",
    "outputId": "9921e517-412d-4f49-8788-1cbaaceedc3f"
   },
   "outputs": [
    {
     "name": "stdout",
     "output_type": "stream",
     "text": [
      "185\n",
      "{'law_id': '個人情報の保護に関する法律（平成十五年法律第五十七号）/第一章\\u3000総則', 'article_id': 1, 'title': '第一条\\u3000目的', 'text': 'この法律は、デジタル社会の進展に伴い個人情報の利用が著しく拡大していることに鑑み、個人情報の適正な取扱いに関し、基本理念及び政府による基本方針の作成その他の個人情報の保護に関する施策の基本となる事項を定め、国及び地方公共団体の責務等を明らかにし、個人情報を取り扱う事業者及び行政機関等についてこれらの特性に応じて遵守すべき義務等を定めるとともに、個人情報保護委員会を設置することにより、行政機関等の事務及び事業の適正かつ円滑な運営を図り、並びに個人情報の適正かつ効果的な活用が新たな産業の創出並びに活力ある経済社会及び豊かな国民生活の実現に資するものであることその他の個人情報の有用性に配慮しつつ、個人の権利利益を保護することを目的とする。'}\n"
     ]
    }
   ],
   "source": [
    "import json\n",
    "\n",
    "with open('/content/legal_corpus.json', 'r', encoding='utf-8') as f:\n",
    "    law_data = json.load(f)\n",
    "database = []\n",
    "for laws in law_data:\n",
    "    law_id = laws['law_id']\n",
    "    for article in laws['articles']:\n",
    "        article_id = article['article_id']\n",
    "        title = article['title']\n",
    "        text = article['text']\n",
    "        database.append({\"law_id\": law_id, \"article_id\": article_id, \"title\": title, \"text\": text})\n",
    "print(len(database))\n",
    "print(database[0])"
   ]
  },
  {
   "cell_type": "markdown",
   "metadata": {
    "id": "M98dbtW6d8S_"
   },
   "source": [
    "## Get contract data"
   ]
  },
  {
   "cell_type": "code",
   "execution_count": null,
   "metadata": {
    "colab": {
     "base_uri": "https://localhost:8080/"
    },
    "id": "jCxTdf1Frs0G",
    "outputId": "7e992e0f-49b4-4f8b-ebb5-12944c60c725"
   },
   "outputs": [
    {
     "name": "stdout",
     "output_type": "stream",
     "text": [
      "341\n",
      "{'index': 6, 'text': '第１章\\u3000総則\\n（目的）\\n第１条\\u3000本個人情報取扱規程（以下「本規程」という。）は、会社が、個人情報の保護に関する法律（平成１５年法律第５７号）（以下「個人情報保護法」といい、個人情報保護法に基づき制定された政令、規則等を含むものとする。）及び行政手続における特定の個人を識別するための番号の利用等に関する法律（平成２５年法律第２７号）（以下「マイナンバー法」といい、マイナンバー法に基づき制定された政令、規則等を含むものとする。）に基づき、会社の取り扱う個人情報の適正な取扱いを確保するために定めるものである。', 'label': 'dieu', 'muc': '第１章\\u3000総則', 'cap': '（目的）', 'dieu': '第１条\\u3000本個人情報取扱規程（以下「本規程」という。）は、会社が、個人情報の保護に関する法律（平成１５年法律第５７号）（以下「個人情報保護法」といい、個人情報保護法に基づき制定された政令、規則等を含むものとする。）及び行政手続における特定の個人を識別するための番号の利用等に関する法律（平成２５年法律第２７号）（以下「マイナンバー法」といい、マイナンバー法に基づき制定された政令、規則等を含むものとする。）に基づき、会社の取り扱う個人情報の適正な取扱いを確保するために定めるものである。'}\n"
     ]
    }
   ],
   "source": [
    "import json\n",
    "\n",
    "with open('/content/chunked_contract.json', 'r', encoding='utf-8') as f:\n",
    "    contract_data = json.load(f)\n",
    "\n",
    "print(len(contract_data))\n",
    "print(contract_data[0])"
   ]
  },
  {
   "cell_type": "markdown",
   "metadata": {
    "id": "OThG6r8ueDTA"
   },
   "source": [
    "## Config gemini"
   ]
  },
  {
   "cell_type": "code",
   "execution_count": null,
   "metadata": {
    "id": "2fSjdjf1rs0G"
   },
   "outputs": [],
   "source": [
    "# Configure Gemini\n",
    "import google.generativeai as genai\n",
    "from google.colab import userdata\n",
    "\n",
    "system_instruction = '''You are an attorney specializing in labor law. Find all the laws COME FROM the context below that can prove the truth or falsity of the user input statement. Do not use any other laws or information that is not in the context.\n",
    "Using this JSON schema:\n",
    "  relevant_law = {\"law_id\": str, \"article_id\": int, \"title\": str, \"text\": str, \"explanation\": str, \"label\": bool}\n",
    "where \"law_id\", \"article_id\", \"title\", \"text\" is from context, \"explanation\" is why you choose that law written in Japanese and \"label\" is true if the statement is truth proven by that law otherwise is false.\n",
    "Return a `list[relevant_law]`\n",
    "\n",
    "If you can't find any laws, just return an empty list\n",
    "\n",
    "Context: %s\n",
    "'''\n",
    "\n",
    "gemini_api_secret_name = 'GOOGLE_API_KEY_1'\n",
    "GOOGLE_API_KEY=userdata.get(gemini_api_secret_name)\n",
    "\n",
    "genai.configure(api_key=GOOGLE_API_KEY)\n",
    "safety_settings = [\n",
    "    {\n",
    "        \"category\": \"HARM_CATEGORY_HARASSMENT\",\n",
    "        \"threshold\": \"BLOCK_NONE\"\n",
    "    },\n",
    "    {\n",
    "        \"category\": \"HARM_CATEGORY_HATE_SPEECH\",\n",
    "        \"threshold\": \"BLOCK_NONE\"\n",
    "    },\n",
    "    {\n",
    "        \"category\": \"HARM_CATEGORY_SEXUALLY_EXPLICIT\",\n",
    "        \"threshold\": \"BLOCK_NONE\"\n",
    "    },\n",
    "    {\n",
    "        \"category\": \"HARM_CATEGORY_DANGEROUS_CONTENT\",\n",
    "        \"threshold\": \"BLOCK_NONE\"\n",
    "    }\n",
    "]\n",
    "model = genai.GenerativeModel('gemini-1.5-flash-latest',\n",
    "                              safety_settings=safety_settings,\n",
    "                              # generation_config={\"response_mime_type\": \"application/json\", \"max_output_tokens\": 8000},\n",
    "                              system_instruction=system_instruction % (database))\n",
    "chat = model.start_chat(history=[])\n",
    "\n",
    "prompt_template = '''\n",
    "User input: 第３章 個人情報の取扱い 第１節　個人情報の取得・保有等\n",
    "（利用目的の特定）\n",
    "第２０条　会社は、業務を遂行するため必要な場合に限り、かつ目的の達成に必要な範囲に限って個人情報を取得するものとし、その利用の目的（以下「利用目的」という。）をできる限り特定するものとする。\n",
    "\n",
    "Answer: [\n",
    "    {\n",
    "        \"law_id\": \"個人情報の保護に関する法律（平成十五年法律第五十七号）/第四章　個人情報取扱事業者等の義務等\",\n",
    "        \"article_id\": 17,\n",
    "        \"title\": \"第十七条　利用目的の特定\",\n",
    "        \"text\": \"個人情報取扱事業者は、個人情報を取り扱うに当たっては、その利用の目的（以下「利用目的」という。）をできる限り特定しなければならない。個人情報取扱事業者は、利用目的を変更する場合には、変更前の利用目的と関連性を有すると合理的に認められる範囲を超えて行ってはならない。\",\n",
    "        \"explanation\": \"この法律の第17条は、個人情報取扱事業者は、個人情報を取り扱う際には、その利用目的をできる限り特定しなければならないと定めています。これは、個人関連情報の取扱いにおいても同様であり、個人関連情報を取得、保有、利用する際には、その利用目的を明確に特定する必要があることを示唆しています。\",\n",
    "        \"label\": true\n",
    "    }\n",
    "]\n",
    "\n",
    "User input: %s\n",
    "\n",
    "Answer:\n",
    "'''\n",
    "\n",
    "list_result = []"
   ]
  },
  {
   "cell_type": "markdown",
   "metadata": {
    "id": "XWlzETWleG-J"
   },
   "source": [
    "## Generating"
   ]
  },
  {
   "cell_type": "code",
   "execution_count": null,
   "metadata": {
    "colab": {
     "base_uri": "https://localhost:8080/",
     "height": 71
    },
    "id": "jZ1O02KZIZmg",
    "outputId": "ae3063be-120c-4f8a-f952-e570b122bf03"
   },
   "outputs": [
    {
     "name": "stdout",
     "output_type": "stream",
     "text": [
      "Hello! How can I help you today? \n",
      "\n",
      "total token: 12\n"
     ]
    }
   ],
   "source": [
    "model = genai.GenerativeModel('gemini-1.5-flash-latest',\n",
    "                              safety_settings=safety_settings)\n",
    "chat = model.start_chat(history=[])\n",
    "response = chat.send_message('hello', stream=True)\n",
    "response.resolve()\n",
    "print(response.text)\n",
    "print('total token:', response.usage_metadata.total_token_count)"
   ]
  },
  {
   "cell_type": "markdown",
   "metadata": {
    "id": "zHgXMCiKd2bd"
   },
   "source": [
    "#### one example"
   ]
  },
  {
   "cell_type": "code",
   "execution_count": null,
   "metadata": {
    "colab": {
     "base_uri": "https://localhost:8080/"
    },
    "id": "FzI59bNOGhZT",
    "outputId": "db8b780d-4079-49d6-8b24-dd45af95cac1"
   },
   "outputs": [
    {
     "name": "stdout",
     "output_type": "stream",
     "text": [
      "chunk_index: 2\n",
      "第１章　総則\n",
      "（改廃）\n",
      "第３条　本規程は、従業員の過半数を代表する者の意見を聴取の上、取締役会の決議により、改廃する。\n",
      "\n"
     ]
    }
   ],
   "source": [
    "start_index = chunk_index = 2\n",
    "# chunk_index += 1\n",
    "print(\"chunk_index:\", chunk_index)\n",
    "contract = contract_data[chunk_index]\n",
    "print(contract['text']+'\\n')"
   ]
  },
  {
   "cell_type": "code",
   "execution_count": null,
   "metadata": {
    "id": "jrVqHPF8zi7R"
   },
   "outputs": [],
   "source": [
    "# contract = {}"
   ]
  },
  {
   "cell_type": "code",
   "execution_count": null,
   "metadata": {
    "id": "0x3gyFL0SGWK"
   },
   "outputs": [],
   "source": [
    "# start_index = chunk_index = 51\n",
    "# chunk_index += 1\n",
    "# contract = contract_data[chunk_index]\n",
    "response = chat.send_message(prompt_template % (contract['text']), stream=True)\n",
    "# response = model.generate_content(prompt_template % (contract['text']), stream=True)\n",
    "# response = model.generate_content(system_instruction % (database[:len(database)//2]) + prompt_template % (contract['text']), stream=True)\n",
    "# gemini_response  = ''.join([chunk.text for chunk in response]).strip().replace('```json', '').replace('```', '').replace(\"\\n\", '').replace(\" \", '')\n",
    "response.resolve()\n",
    "gemini_response = response.text.strip().replace('```json', '').replace('```', '')\n",
    "gemini_response = json.loads(gemini_response)\n",
    "list_result.append({\"question\": contract, \"relevant_laws\": gemini_response})\n",
    "print('total token:', response.usage_metadata.total_token_count)\n",
    "# print(\"chunk_index:\", chunk_index)\n",
    "print(contract['text']+'\\n')\n",
    "gemini_response"
   ]
  },
  {
   "cell_type": "code",
   "execution_count": null,
   "metadata": {
    "id": "n5stKkepOjQb"
   },
   "outputs": [],
   "source": [
    "# print(\"chunk_index:\", chunk_index)\n",
    "# print(contract['text']+'\\n')\n",
    "# print(response.text.strip().replace('```json', '').replace('```', ''))"
   ]
  },
  {
   "cell_type": "code",
   "execution_count": null,
   "metadata": {
    "id": "kv3uqsk6TFW2"
   },
   "outputs": [],
   "source": [
    "with open('test.json', 'w', encoding='utf-8') as f:\n",
    "    json.dump(list_result[-1], f, ensure_ascii=False, indent=4)"
   ]
  },
  {
   "cell_type": "code",
   "execution_count": null,
   "metadata": {
    "id": "g22YYcv99cr5"
   },
   "outputs": [],
   "source": [
    "last_sent, last_received = chat.rewind()\n",
    "print(len(chat.history))"
   ]
  },
  {
   "cell_type": "markdown",
   "metadata": {
    "id": "I2vs2NdLUsvO"
   },
   "source": [
    "copy thủ công phần response gán cho `relevevant_laws` dưới dạng `str`"
   ]
  },
  {
   "cell_type": "code",
   "execution_count": null,
   "metadata": {
    "id": "693DjhI2TY2G"
   },
   "outputs": [],
   "source": [
    "relevant_laws = ''''''\n",
    "list_result.append({\"question\": contract, \"relevant_laws\": json.loads(relevant_laws.replace(\"\\n\", ''))})"
   ]
  },
  {
   "cell_type": "markdown",
   "metadata": {
    "id": "c_NDQFq1d42y"
   },
   "source": [
    "#### full example"
   ]
  },
  {
   "cell_type": "code",
   "execution_count": null,
   "metadata": {
    "colab": {
     "base_uri": "https://localhost:8080/",
     "height": 1000
    },
    "collapsed": true,
    "id": "sxp5YZJxdFlj",
    "outputId": "94ffc63d-3884-43ed-e2d9-c1f4b07ea4d5"
   },
   "outputs": [
    {
     "name": "stdout",
     "output_type": "stream",
     "text": [
      "chunk_index: 9 / 43\n",
      "第２章　入舎及び退舎\n",
      "（入舎及び退舎の手続等）\n",
      "第８条　入舎する者は、管理者の許可を受けなければならない。\n",
      "\n",
      "chunk_index: 10 / 43\n",
      "第２章　入舎及び退舎\n",
      "（入舎及び退舎の手続等）\n",
      "２　前項により入舎を許可された者は管理者に所要の事項を届出なければならない。\n",
      "\n",
      "chunk_index: 11 / 43\n",
      "第２章　入舎及び退舎\n",
      "（入舎及び退舎の手続等）\n",
      "３　業務の都合により、他の寄宿舎に転居を命ぜられた者は、特別な事情がない限り速やかにその命令に従わなければならない。\n",
      "\n",
      "chunk_index: 12 / 43\n",
      "第２章　入舎及び退舎\n",
      "（入舎及び退舎の手続等）\n",
      "４　退舎しようとする者は事前に管理者に届出なければならない。\n",
      "\n",
      "chunk_index: 13 / 43\n",
      "第２章　入舎及び退舎\n",
      "（入舎及び退舎の手続等）\n",
      "５　退職者は、速やかに退舎しなければならない。また、法令等により、寄宿不適当と判断された者には、退舎を命ずることがある。\n",
      "\n",
      "chunk_index: 14 / 43\n",
      "第２章　入舎及び退舎\n",
      "（入舎及び退舎の手続等）\n",
      "６　前２項により退舎する寄宿員は、借受けた物品及び入居していた室について、速やかに返却するとともに、管理者の点検を受けなければならない。\n",
      "\n",
      "chunk_index: 15 / 43\n",
      "第３章　日課\n",
      "（起床・就寝時刻）\n",
      "第９条　起床時刻は午前○時○分とし、就寝時刻は午後○時○分とする。ただし、業務の都合により、この時刻を変更することがある。\n",
      "\n",
      "chunk_index: 16 / 43\n",
      "第３章　日課\n",
      "（起床・就寝時刻）\n",
      "２　前項ただし書により、時刻の変更を受けた者は、他の寄宿員の迷惑にならないよう心がけなければならない。\n",
      "\n",
      "chunk_index: 17 / 43\n",
      "第３章　日課\n",
      "（食事時間等）\n",
      "第１０条　食事時刻は、次のとおりとする。\n",
      "朝食　午前○時○分から午前○時○分まで\n",
      "昼食　午後○時○分から午後○時○分まで\n",
      "夕食　午後○時○分から午後○時○分まで\n",
      "\n",
      "chunk_index: 18 / 43\n",
      "第３章　日課\n",
      "（食事時間等）\n",
      "２　食事は、食堂以外の場所でしてはならない。\n",
      "\n",
      "chunk_index: 19 / 43\n",
      "第３章　日課\n",
      "（食事時間等）\n",
      "３　管理者は、常に食生活に留意し、炊事場、食器類等を清潔に保持しなければならない。\n",
      "\n",
      "chunk_index: 20 / 43\n",
      "第３章　日課\n",
      "（日課にかかる手続及び遵守事項等）\n",
      "第１１条　寄宿員が備付けの寝具を使用するときは、別に定める料金を支払わなければならない。\n",
      "\n",
      "chunk_index: 21 / 43\n",
      "第３章　日課\n",
      "（日課にかかる手続及び遵守事項等）\n",
      "２　勤務時間外の外出及び外泊は自由とする。ただし、外泊する寄宿員は、事前にその旨を管理者に届出なければならない。\n",
      "\n",
      "chunk_index: 22 / 43\n",
      "第３章　日課\n",
      "（日課にかかる手続及び遵守事項等）\n",
      "３　外出又は外泊しようとする寄宿員は、業務に支障をきたさぬよう常に心がけ、外出又は外泊より帰った時には、速やかに管理者に届出なければならない。\n",
      "\n",
      "chunk_index: 23 / 43\n",
      "第３章　日課\n",
      "（日課にかかる手続及び遵守事項等）\n",
      "４　寄宿員は、他の寄宿員に迷惑を及ぼさない限り、所定の場所において自由に面会することができる。\n",
      "\n",
      "chunk_index: 24 / 43\n",
      "第３章　日課\n",
      "（日課にかかる手続及び遵守事項等）\n",
      "５　寄宿員は、外来者を管理者の許可なく宿泊させてはならない。\n",
      "\n",
      "chunk_index: 25 / 43\n",
      "第４章　行事\n",
      "（行事）\n",
      "第１２条　寄宿員に必要な教育、娯楽に関する行事は、管理者及び寄宿員の過半数を代表する者が協議の上、実施する。\n",
      "\n",
      "chunk_index: 26 / 43\n",
      "第４章　行事\n",
      "（行事）\n",
      "２　前項により計画された行事は、参加を強制するものではないが、寄宿員は積極的に協力するよう努めるものとする。\n",
      "\n",
      "chunk_index: 27 / 43\n",
      "第５章　安全及び衛生\n",
      "（安全及び衛生にかかる遵守事項）\n",
      "第１３条　寄宿員は、所定の場所及び方法以外で火気の使用をし、又は喫煙をしてはならない。\n",
      "\n",
      "chunk_index: 28 / 43\n",
      "第５章　安全及び衛生\n",
      "（安全及び衛生にかかる遵守事項）\n",
      "２　寄宿員は、消火設備の使用方法について習熟するよう努めるとともに、避難及び消火訓練に参加するよう努めなければならない。\n",
      "\n",
      "chunk_index: 29 / 43\n",
      "第５章　安全及び衛生\n",
      "（安全及び衛生にかかる遵守事項）\n",
      "３　寄宿員は、常に寄宿舎及び付属施設並びにこれらの付近の清潔に留意し、寝具及び肌着類を清潔に保ち、居室を整理整頓するよう努めなければならない。\n",
      "\n",
      "chunk_index: 30 / 43\n",
      "第５章　安全及び衛生\n",
      "（安全及び衛生にかかる遵守事項）\n",
      "４　寄宿員が負傷し又は疾病にかかったときは、直ちに管理者に届出るとともに、適当な処置を受けなければならない。\n",
      "\n",
      "chunk_index: 31 / 43\n",
      "第５章　安全及び衛生\n",
      "（安全及び衛生にかかる遵守事項）\n",
      "５　前項の負傷及び疾病の種類及び程度により寄宿舎にて療養不可能な場合には、医師の指示により入院させることがある。\n",
      "\n",
      "chunk_index: 32 / 43\n",
      "第５章　安全及び衛生\n",
      "（安全及び衛生にかかる遵守事項）\n",
      "６　寄宿員は各自健康に留意し、負傷し又は疾病にかかった者があるときは、互いに助けあうよう努めなければならない。\n",
      "\n",
      "chunk_index: 33 / 43\n",
      "第５章　安全及び衛生\n",
      "（安全及び衛生にかかる遵守事項）\n",
      "７　寄宿員は、避難階段、避難器具及びこれらに通ずる通路をいつでも避難できるよう、保持することに協力しなければならない。\n",
      "\n",
      "chunk_index: 34 / 43\n",
      "第５章　安全及び衛生\n",
      "（安全及び衛生にかかる遵守事項）\n",
      "８　寄宿員は、本条各号のほか、安全及び衛生に関する法令及び会社の定めた諸規則を守らなければならない。\n",
      "\n",
      "chunk_index: 35 / 43\n",
      "第６章　その他雑則\n",
      "（雑則）\n",
      "第１４条　寄宿員は、寄宿舎の建物、施設及び備品等を破壊又は損傷してはならない。\n",
      "\n",
      "chunk_index: 36 / 43\n",
      "第６章　その他雑則\n",
      "（雑則）\n",
      "２　前項の規定にかかわらず、寄宿員が、故意又は重大な過失により建物及びその他の施設に損害を及ぼした場合には、実費を弁償させることがある。\n",
      "\n",
      "chunk_index: 37 / 43\n",
      "第６章　その他雑則\n",
      "（その他の遵守事項）\n",
      "第１５条　寄宿員は、前条までに定めるもののほか、次の各号を遵守しなければならない。\n",
      "（１）　火災・盗難の予防については、各自が積極的に注意すること。\n",
      "\n",
      "chunk_index: 38 / 43\n",
      "第６章　その他雑則\n",
      "（その他の遵守事項）\n",
      "第１５条　寄宿員は、前条までに定めるもののほか、次の各号を遵守しなければならない。\n",
      "（２）　寄宿舎内の電気配線を勝手に変更しないこと。\n",
      "\n",
      "chunk_index: 39 / 43\n",
      "第６章　その他雑則\n",
      "（その他の遵守事項）\n",
      "第１５条　寄宿員は、前条までに定めるもののほか、次の各号を遵守しなければならない。\n",
      "（３）　許可なく共同炊事場以外で自炊しないこと。\n",
      "\n",
      "chunk_index: 40 / 43\n",
      "第６章　その他雑則\n",
      "（その他の遵守事項）\n",
      "第１５条　寄宿員は、前条までに定めるもののほか、次の各号を遵守しなければならない。\n",
      "（４）　他の寄宿員の迷惑になるような放歌・乱舞・口論をしないこと。\n",
      "\n",
      "chunk_index: 41 / 43\n",
      "第６章　その他雑則\n",
      "（その他の遵守事項）\n",
      "第１５条　寄宿員は、前条までに定めるもののほか、次の各号を遵守しなければならない。\n",
      "（５）　靴、雨具は必ず所定の収納設備に整然と収納すること。\n",
      "\n",
      "chunk_index: 42 / 43\n",
      "第６章　その他雑則\n",
      "（その他の遵守事項）\n",
      "第１５条　寄宿員は、前条までに定めるもののほか、次の各号を遵守しなければならない。\n",
      "（６）　洗面所及び洗濯場以外で洗面及び洗濯を行わないこと。\n",
      "\n",
      "chunk_index: 43 / 43\n",
      "第６章　その他雑則\n",
      "（その他の遵守事項）\n",
      "第１５条　寄宿員は、前条までに定めるもののほか、次の各号を遵守しなければならない。\n",
      "（７）　許可なく寝室に洗濯物等を干さないこと。\n",
      "\n"
     ]
    }
   ],
   "source": [
    "import time\n",
    "\n",
    "start_index = 9\n",
    "chunk_index = 0\n",
    "for contract in contract_data[start_index:]:\n",
    "    print(\"chunk_index:\", start_index+chunk_index, '/', len(contract_data) - 1)\n",
    "    print(contract['text']+'\\n')\n",
    "    # response = chat.send_message(prompt_template % (contract['text']), stream=True)\n",
    "    response = model.generate_content(prompt_template % (contract['text']), stream=True)\n",
    "    gemini_response  = ''.join([chunk.text for chunk in response]).strip().replace('```json', '').replace('```', '').replace(\"\\n\", '').replace(\" \", '')\n",
    "    gemini_response = json.loads(gemini_response)\n",
    "    list_result.append({\"question\": contract, \"relevant_laws\": gemini_response})\n",
    "    chunk_index += 1\n",
    "    if chunk_index % 15 == 0:\n",
    "        time.sleep(60)"
   ]
  },
  {
   "cell_type": "code",
   "execution_count": null,
   "metadata": {
    "colab": {
     "base_uri": "https://localhost:8080/",
     "height": 763
    },
    "id": "l4oo9o-lwxxq",
    "outputId": "1bf87d06-fdaa-4ab1-ad6f-f9e2e65b03d9"
   },
   "outputs": [
    {
     "name": "stdout",
     "output_type": "stream",
     "text": [
      "chunk_index: 0 / 43\n",
      "第１章　総則\n",
      "（目的）\n",
      "第１条　本寄宿舎規則（以下「規則」という。）は、労働基準法（以下「労基法」という。）第９５条第１項により、寄宿舎生活の秩序について定めるものであり、当該寄宿舎における集団生活としての規律を守り、健康で文化的な私生活を営むことを目的とする。\n",
      "\n",
      "chunk_index: 1 / 43\n",
      "第１章　総則\n",
      "（適用範囲）\n",
      "第２条　本規則は株式会社○○○（以下「会社」という。）に付属する寄宿舎に適用する。\n",
      "\n",
      "chunk_index: 2 / 43\n",
      "第１章　総則\n",
      "（規則の遵守）\n",
      "第３条　会社と寄宿舎に寄宿する労働者（以下「寄宿員」という。）は、ともに本規則を遵守するほか、安全及び衛生に関する法令及び会社の定めた諸規則を守らなければならない。\n",
      "\n",
      "chunk_index: 3 / 43\n",
      "第１章　総則\n",
      "（規則責任者）\n",
      "第４条　本規則の管理責任者は、総務部長とする。\n",
      "\n",
      "chunk_index: 4 / 43\n",
      "第１章　総則\n",
      "（解釈上の疑義）\n",
      "第５条　本規則及びこれに付属する諸規程等の解釈について疑義が生じた場合は、総務部長は関係部署の長と協議の上、これを決定する。\n",
      "\n",
      "chunk_index: 5 / 43\n",
      "第１章　総則\n",
      "（改廃）\n",
      "第６条　本規則は、寄宿員の過半数を代表する者の同意を得て、改廃する。\n",
      "\n",
      "chunk_index: 6 / 43\n",
      "第１章　総則\n",
      "（改廃）\n",
      "２　会社は本規則を変更しようとするときは、その案をあらかじめ寄宿員に周知させる措置を講ずるものとする。\n",
      "\n",
      "chunk_index: 7 / 43\n",
      "第１章　総則\n",
      "（管理者）\n",
      "第７条　寄宿員の事業主は、会社であり、寄宿舎及びその付属施設並びに寄宿員に関する事項は、会社、主任〇〇〇（以下「管理者」という。）が管理する。\n",
      "\n"
     ]
    }
   ],
   "source": [
    "import time\n",
    "\n",
    "start_index = 0\n",
    "chunk_index = 0\n",
    "for contract in contract_data[start_index:8]:\n",
    "    print(\"chunk_index:\", start_index+chunk_index, '/', len(contract_data) - 1)\n",
    "    print(contract['text']+'\\n')\n",
    "    # response = chat.send_message(prompt_template % (contract['text']), stream=True)\n",
    "    response = model.generate_content(prompt_template % (contract['text']), stream=True)\n",
    "    gemini_response  = ''.join([chunk.text for chunk in response]).strip().replace('```json', '').replace('```', '').replace(\"\\n\", '').replace(\" \", '')\n",
    "    gemini_response = json.loads(gemini_response)\n",
    "    list_result.append({\"question\": contract, \"relevant_laws\": gemini_response})\n",
    "    chunk_index += 1\n",
    "    if chunk_index % 15 == 0:\n",
    "        time.sleep(60)"
   ]
  },
  {
   "cell_type": "code",
   "execution_count": null,
   "metadata": {
    "id": "Gtcfm_YT4fda"
   },
   "outputs": [],
   "source": [
    "# if stream broke, delete the last conversation\n",
    "last_sent, last_received = chat.rewind()"
   ]
  },
  {
   "cell_type": "code",
   "execution_count": null,
   "metadata": {
    "id": "e5_SseqP3GOp"
   },
   "outputs": [],
   "source": [
    "print(response.text)"
   ]
  },
  {
   "cell_type": "code",
   "execution_count": null,
   "metadata": {
    "colab": {
     "base_uri": "https://localhost:8080/"
    },
    "id": "lqAmj1d135DM",
    "outputId": "3a571142-4209-4e43-a9ff-7ca044e47379"
   },
   "outputs": [
    {
     "name": "stdout",
     "output_type": "stream",
     "text": [
      "44\n"
     ]
    }
   ],
   "source": [
    "print(len(list_result))"
   ]
  },
  {
   "cell_type": "markdown",
   "metadata": {
    "id": "qsHz6B1mIZuD"
   },
   "source": [
    "Nếu vẫn lỗi => save data rồi restart runtime, thay api key, sau đó chạy tiếp từ index gây lỗi"
   ]
  },
  {
   "cell_type": "markdown",
   "metadata": {
    "id": "UOIdcfKuEFEN"
   },
   "source": [
    "## Save data"
   ]
  },
  {
   "cell_type": "code",
   "execution_count": null,
   "metadata": {
    "id": "bha2wRx1wurM"
   },
   "outputs": [],
   "source": [
    "import json\n",
    "\n",
    "with open('/content/find_law_gemini_contract.json', 'w', encoding='utf-8') as f:\n",
    "    json.dump(list_result, f, ensure_ascii=False, indent=4)"
   ]
  },
  {
   "cell_type": "code",
   "execution_count": null,
   "metadata": {
    "colab": {
     "base_uri": "https://localhost:8080/"
    },
    "id": "aOZrGRe9EDRl",
    "outputId": "4d1f2734-7e15-426d-a169-d16ad7cf14c1"
   },
   "outputs": [
    {
     "name": "stdout",
     "output_type": "stream",
     "text": [
      "44\n",
      "{'question': {'index': 3, 'text': '第１章\\u3000総則\\n（目的）\\n第１条\\u3000本寄宿舎規則（以下「規則」という。）は、労働基準法（以下「労基法」という。）第９５条第１項により、寄宿舎生活の秩序について定めるものであり、当該寄宿舎における集団生活としての規律を守り、健康で文化的な私生活を営むことを目的とする。', 'label': 'dieu', 'muc': '第１章\\u3000総則', 'cap': '（目的）', 'dieu': '第１条\\u3000本寄宿舎規則（以下「規則」という。）は、労働基準法（以下「労基法」という。）第９５条第１項により、寄宿舎生活の秩序について定めるものであり、当該寄宿舎における集団生活としての規律を守り、健康で文化的な私生活を営むことを目的とする。'}, 'relevant_laws': [{'law_id': '労働基準法/第十一章\\u3000寄宿舎', 'article_id': 95, 'title': '第九十五条\\u3000寄宿舎規則', 'text': '使用者は、寄宿舎に労働者を寄宿させる場合においては、寄宿舎生活の秩序を保持するため、寄宿舎規則を定めなければならない。\\n２\\u3000寄宿舎規則には、次に掲げる事項を記載しなければならない。\\n一\\u3000寄宿舎生活の秩序に関する事項\\n二\\u3000寄宿舎の管理に関する事項\\n三\\u3000寄宿労働者の義務に関する事項\\n四\\u3000寄宿舎の管理について権限を有する者の氏名\\n五\\u3000寄宿労働者の私生活の自由を侵す行為をしてはならない旨\\n３\\u3000使用者は、寄宿舎規則を作成し、又は変更しようとするときは、その案を寄宿労働者の過半数を代表する者の同意を得なければならない。\\n４\\u3000使用者は、寄宿労働者に寄宿舎規則を示さなければならない。', 'explanation': '労働基準法第95条は、寄宿舎規則の内容について定めているため、寄宿舎規則の内容が労働基準法第95条で定められた項目に準拠しているかどうかを確認する必要があります。', 'label': True}]}\n"
     ]
    }
   ],
   "source": [
    "import json\n",
    "\n",
    "with open('/content/find_law_gemini_contract.json', 'r') as f:\n",
    "    list_result = json.load(f)\n",
    "print(len(list_result))\n",
    "print(list_result[0])"
   ]
  }
 ],
 "metadata": {
  "colab": {
   "provenance": [],
   "toc_visible": true
  },
  "kernelspec": {
   "display_name": "Python 3",
   "name": "python3"
  },
  "language_info": {
   "name": "python"
  }
 },
 "nbformat": 4,
 "nbformat_minor": 0
}
