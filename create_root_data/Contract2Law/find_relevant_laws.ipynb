{
 "cells": [
  {
   "cell_type": "markdown",
   "metadata": {},
   "source": [
    "# Install Library and require"
   ]
  },
  {
   "cell_type": "markdown",
   "metadata": {},
   "source": [
    "Create a .env file with a key called GEMINI_API_KEY to assign the value to your Gemini API Key."
   ]
  },
  {
   "cell_type": "code",
   "execution_count": 1,
   "metadata": {},
   "outputs": [
    {
     "name": "stdout",
     "output_type": "stream",
     "text": [
      "Collecting ipywidgets==8.1.5\n",
      "  Downloading ipywidgets-8.1.5-py3-none-any.whl.metadata (2.3 kB)\n",
      "Requirement already satisfied: comm>=0.1.3 in /home/trung/.conda/envs/atf_env/lib/python3.9/site-packages (from ipywidgets==8.1.5) (0.2.2)\n",
      "Requirement already satisfied: ipython>=6.1.0 in /home/trung/.conda/envs/atf_env/lib/python3.9/site-packages (from ipywidgets==8.1.5) (8.18.1)\n",
      "Requirement already satisfied: traitlets>=4.3.1 in /home/trung/.conda/envs/atf_env/lib/python3.9/site-packages (from ipywidgets==8.1.5) (5.14.3)\n",
      "Collecting widgetsnbextension~=4.0.12 (from ipywidgets==8.1.5)\n",
      "  Downloading widgetsnbextension-4.0.13-py3-none-any.whl.metadata (1.6 kB)\n",
      "Collecting jupyterlab-widgets~=3.0.12 (from ipywidgets==8.1.5)\n",
      "  Downloading jupyterlab_widgets-3.0.13-py3-none-any.whl.metadata (4.1 kB)\n",
      "Requirement already satisfied: decorator in /home/trung/.conda/envs/atf_env/lib/python3.9/site-packages (from ipython>=6.1.0->ipywidgets==8.1.5) (5.1.1)\n",
      "Requirement already satisfied: jedi>=0.16 in /home/trung/.conda/envs/atf_env/lib/python3.9/site-packages (from ipython>=6.1.0->ipywidgets==8.1.5) (0.19.2)\n",
      "Requirement already satisfied: matplotlib-inline in /home/trung/.conda/envs/atf_env/lib/python3.9/site-packages (from ipython>=6.1.0->ipywidgets==8.1.5) (0.1.7)\n",
      "Requirement already satisfied: prompt-toolkit<3.1.0,>=3.0.41 in /home/trung/.conda/envs/atf_env/lib/python3.9/site-packages (from ipython>=6.1.0->ipywidgets==8.1.5) (3.0.48)\n",
      "Requirement already satisfied: pygments>=2.4.0 in /home/trung/.conda/envs/atf_env/lib/python3.9/site-packages (from ipython>=6.1.0->ipywidgets==8.1.5) (2.18.0)\n",
      "Requirement already satisfied: stack-data in /home/trung/.conda/envs/atf_env/lib/python3.9/site-packages (from ipython>=6.1.0->ipywidgets==8.1.5) (0.6.2)\n",
      "Requirement already satisfied: typing-extensions in /home/trung/.conda/envs/atf_env/lib/python3.9/site-packages (from ipython>=6.1.0->ipywidgets==8.1.5) (4.12.2)\n",
      "Requirement already satisfied: exceptiongroup in /home/trung/.conda/envs/atf_env/lib/python3.9/site-packages (from ipython>=6.1.0->ipywidgets==8.1.5) (1.2.2)\n",
      "Requirement already satisfied: pexpect>4.3 in /home/trung/.conda/envs/atf_env/lib/python3.9/site-packages (from ipython>=6.1.0->ipywidgets==8.1.5) (4.9.0)\n",
      "Requirement already satisfied: parso<0.9.0,>=0.8.4 in /home/trung/.conda/envs/atf_env/lib/python3.9/site-packages (from jedi>=0.16->ipython>=6.1.0->ipywidgets==8.1.5) (0.8.4)\n",
      "Requirement already satisfied: ptyprocess>=0.5 in /home/trung/.conda/envs/atf_env/lib/python3.9/site-packages (from pexpect>4.3->ipython>=6.1.0->ipywidgets==8.1.5) (0.7.0)\n",
      "Requirement already satisfied: wcwidth in /home/trung/.conda/envs/atf_env/lib/python3.9/site-packages (from prompt-toolkit<3.1.0,>=3.0.41->ipython>=6.1.0->ipywidgets==8.1.5) (0.2.13)\n",
      "Requirement already satisfied: executing>=1.2.0 in /home/trung/.conda/envs/atf_env/lib/python3.9/site-packages (from stack-data->ipython>=6.1.0->ipywidgets==8.1.5) (2.1.0)\n",
      "Requirement already satisfied: asttokens>=2.1.0 in /home/trung/.conda/envs/atf_env/lib/python3.9/site-packages (from stack-data->ipython>=6.1.0->ipywidgets==8.1.5) (2.4.1)\n",
      "Requirement already satisfied: pure-eval in /home/trung/.conda/envs/atf_env/lib/python3.9/site-packages (from stack-data->ipython>=6.1.0->ipywidgets==8.1.5) (0.2.3)\n",
      "Requirement already satisfied: six>=1.12.0 in /home/trung/.conda/envs/atf_env/lib/python3.9/site-packages (from asttokens>=2.1.0->stack-data->ipython>=6.1.0->ipywidgets==8.1.5) (1.16.0)\n",
      "Downloading ipywidgets-8.1.5-py3-none-any.whl (139 kB)\n",
      "Downloading jupyterlab_widgets-3.0.13-py3-none-any.whl (214 kB)\n",
      "Downloading widgetsnbextension-4.0.13-py3-none-any.whl (2.3 MB)\n",
      "\u001b[2K   \u001b[90m━━━━━━━━━━━━━━━━━━━━━━━━━━━━━━━━━━━━━━━━\u001b[0m \u001b[32m2.3/2.3 MB\u001b[0m \u001b[31m15.9 MB/s\u001b[0m eta \u001b[36m0:00:00\u001b[0m\n",
      "\u001b[?25hInstalling collected packages: widgetsnbextension, jupyterlab-widgets, ipywidgets\n",
      "Successfully installed ipywidgets-8.1.5 jupyterlab-widgets-3.0.13 widgetsnbextension-4.0.13\n",
      "Collecting jupyter==1.1.1\n",
      "  Downloading jupyter-1.1.1-py2.py3-none-any.whl.metadata (2.0 kB)\n",
      "Collecting notebook (from jupyter==1.1.1)\n",
      "  Downloading notebook-7.3.1-py3-none-any.whl.metadata (10 kB)\n",
      "Collecting jupyter-console (from jupyter==1.1.1)\n",
      "  Downloading jupyter_console-6.6.3-py3-none-any.whl.metadata (5.8 kB)\n",
      "Collecting nbconvert (from jupyter==1.1.1)\n",
      "  Downloading nbconvert-7.16.4-py3-none-any.whl.metadata (8.5 kB)\n",
      "Requirement already satisfied: ipykernel in /home/trung/.conda/envs/atf_env/lib/python3.9/site-packages (from jupyter==1.1.1) (6.29.5)\n",
      "Requirement already satisfied: ipywidgets in /home/trung/.conda/envs/atf_env/lib/python3.9/site-packages (from jupyter==1.1.1) (8.1.5)\n",
      "Collecting jupyterlab (from jupyter==1.1.1)\n",
      "  Downloading jupyterlab-4.3.2-py3-none-any.whl.metadata (16 kB)\n",
      "Requirement already satisfied: comm>=0.1.1 in /home/trung/.conda/envs/atf_env/lib/python3.9/site-packages (from ipykernel->jupyter==1.1.1) (0.2.2)\n",
      "Requirement already satisfied: debugpy>=1.6.5 in /home/trung/.conda/envs/atf_env/lib/python3.9/site-packages (from ipykernel->jupyter==1.1.1) (1.8.9)\n",
      "Requirement already satisfied: ipython>=7.23.1 in /home/trung/.conda/envs/atf_env/lib/python3.9/site-packages (from ipykernel->jupyter==1.1.1) (8.18.1)\n",
      "Requirement already satisfied: jupyter-client>=6.1.12 in /home/trung/.conda/envs/atf_env/lib/python3.9/site-packages (from ipykernel->jupyter==1.1.1) (8.6.3)\n",
      "Requirement already satisfied: jupyter-core!=5.0.*,>=4.12 in /home/trung/.conda/envs/atf_env/lib/python3.9/site-packages (from ipykernel->jupyter==1.1.1) (5.7.2)\n",
      "Requirement already satisfied: matplotlib-inline>=0.1 in /home/trung/.conda/envs/atf_env/lib/python3.9/site-packages (from ipykernel->jupyter==1.1.1) (0.1.7)\n",
      "Requirement already satisfied: nest-asyncio in /home/trung/.conda/envs/atf_env/lib/python3.9/site-packages (from ipykernel->jupyter==1.1.1) (1.6.0)\n",
      "Requirement already satisfied: packaging in /home/trung/.conda/envs/atf_env/lib/python3.9/site-packages (from ipykernel->jupyter==1.1.1) (24.2)\n",
      "Requirement already satisfied: psutil in /home/trung/.conda/envs/atf_env/lib/python3.9/site-packages (from ipykernel->jupyter==1.1.1) (6.1.0)\n",
      "Requirement already satisfied: pyzmq>=24 in /home/trung/.conda/envs/atf_env/lib/python3.9/site-packages (from ipykernel->jupyter==1.1.1) (26.2.0)\n",
      "Requirement already satisfied: tornado>=6.1 in /home/trung/.conda/envs/atf_env/lib/python3.9/site-packages (from ipykernel->jupyter==1.1.1) (6.4.2)\n",
      "Requirement already satisfied: traitlets>=5.4.0 in /home/trung/.conda/envs/atf_env/lib/python3.9/site-packages (from ipykernel->jupyter==1.1.1) (5.14.3)\n",
      "Requirement already satisfied: widgetsnbextension~=4.0.12 in /home/trung/.conda/envs/atf_env/lib/python3.9/site-packages (from ipywidgets->jupyter==1.1.1) (4.0.13)\n",
      "Requirement already satisfied: jupyterlab-widgets~=3.0.12 in /home/trung/.conda/envs/atf_env/lib/python3.9/site-packages (from ipywidgets->jupyter==1.1.1) (3.0.13)\n",
      "Requirement already satisfied: prompt-toolkit>=3.0.30 in /home/trung/.conda/envs/atf_env/lib/python3.9/site-packages (from jupyter-console->jupyter==1.1.1) (3.0.48)\n",
      "Requirement already satisfied: pygments in /home/trung/.conda/envs/atf_env/lib/python3.9/site-packages (from jupyter-console->jupyter==1.1.1) (2.18.0)\n",
      "Collecting async-lru>=1.0.0 (from jupyterlab->jupyter==1.1.1)\n",
      "  Downloading async_lru-2.0.4-py3-none-any.whl.metadata (4.5 kB)\n",
      "Collecting httpx~=0.28.0 (from jupyterlab->jupyter==1.1.1)\n",
      "  Downloading httpx-0.28.1-py3-none-any.whl.metadata (7.1 kB)\n",
      "Requirement already satisfied: importlib-metadata>=4.8.3 in /home/trung/.conda/envs/atf_env/lib/python3.9/site-packages (from jupyterlab->jupyter==1.1.1) (8.5.0)\n",
      "Requirement already satisfied: jinja2>=3.0.3 in /home/trung/.conda/envs/atf_env/lib/python3.9/site-packages (from jupyterlab->jupyter==1.1.1) (3.1.4)\n",
      "Collecting jupyter-lsp>=2.0.0 (from jupyterlab->jupyter==1.1.1)\n",
      "  Downloading jupyter_lsp-2.2.5-py3-none-any.whl.metadata (1.8 kB)\n",
      "Collecting jupyter-server<3,>=2.4.0 (from jupyterlab->jupyter==1.1.1)\n",
      "  Downloading jupyter_server-2.14.2-py3-none-any.whl.metadata (8.4 kB)\n",
      "Collecting jupyterlab-server<3,>=2.27.1 (from jupyterlab->jupyter==1.1.1)\n",
      "  Downloading jupyterlab_server-2.27.3-py3-none-any.whl.metadata (5.9 kB)\n",
      "Collecting notebook-shim>=0.2 (from jupyterlab->jupyter==1.1.1)\n",
      "  Downloading notebook_shim-0.2.4-py3-none-any.whl.metadata (4.0 kB)\n",
      "Requirement already satisfied: setuptools>=40.8.0 in /home/trung/.conda/envs/atf_env/lib/python3.9/site-packages (from jupyterlab->jupyter==1.1.1) (75.1.0)\n",
      "Collecting tomli>=1.2.2 (from jupyterlab->jupyter==1.1.1)\n",
      "  Downloading tomli-2.2.1-py3-none-any.whl.metadata (10 kB)\n",
      "Collecting beautifulsoup4 (from nbconvert->jupyter==1.1.1)\n",
      "  Downloading beautifulsoup4-4.12.3-py3-none-any.whl.metadata (3.8 kB)\n",
      "Collecting bleach!=5.0.0 (from nbconvert->jupyter==1.1.1)\n",
      "  Downloading bleach-6.2.0-py3-none-any.whl.metadata (30 kB)\n",
      "Collecting defusedxml (from nbconvert->jupyter==1.1.1)\n",
      "  Downloading defusedxml-0.7.1-py2.py3-none-any.whl.metadata (32 kB)\n",
      "Collecting jupyterlab-pygments (from nbconvert->jupyter==1.1.1)\n",
      "  Downloading jupyterlab_pygments-0.3.0-py3-none-any.whl.metadata (4.4 kB)\n",
      "Requirement already satisfied: markupsafe>=2.0 in /home/trung/.conda/envs/atf_env/lib/python3.9/site-packages (from nbconvert->jupyter==1.1.1) (3.0.2)\n",
      "Collecting mistune<4,>=2.0.3 (from nbconvert->jupyter==1.1.1)\n",
      "  Downloading mistune-3.0.2-py3-none-any.whl.metadata (1.7 kB)\n",
      "Collecting nbclient>=0.5.0 (from nbconvert->jupyter==1.1.1)\n",
      "  Downloading nbclient-0.10.1-py3-none-any.whl.metadata (8.2 kB)\n",
      "Collecting nbformat>=5.7 (from nbconvert->jupyter==1.1.1)\n",
      "  Downloading nbformat-5.10.4-py3-none-any.whl.metadata (3.6 kB)\n",
      "Collecting pandocfilters>=1.4.1 (from nbconvert->jupyter==1.1.1)\n",
      "  Downloading pandocfilters-1.5.1-py2.py3-none-any.whl.metadata (9.0 kB)\n",
      "Collecting tinycss2 (from nbconvert->jupyter==1.1.1)\n",
      "  Downloading tinycss2-1.4.0-py3-none-any.whl.metadata (3.0 kB)\n",
      "Requirement already satisfied: typing-extensions>=4.0.0 in /home/trung/.conda/envs/atf_env/lib/python3.9/site-packages (from async-lru>=1.0.0->jupyterlab->jupyter==1.1.1) (4.12.2)\n",
      "Collecting webencodings (from bleach!=5.0.0->nbconvert->jupyter==1.1.1)\n",
      "  Downloading webencodings-0.5.1-py2.py3-none-any.whl.metadata (2.1 kB)\n",
      "Collecting anyio (from httpx~=0.28.0->jupyterlab->jupyter==1.1.1)\n",
      "  Downloading anyio-4.7.0-py3-none-any.whl.metadata (4.7 kB)\n",
      "Requirement already satisfied: certifi in /home/trung/.conda/envs/atf_env/lib/python3.9/site-packages (from httpx~=0.28.0->jupyterlab->jupyter==1.1.1) (2024.8.30)\n",
      "Collecting httpcore==1.* (from httpx~=0.28.0->jupyterlab->jupyter==1.1.1)\n",
      "  Using cached httpcore-1.0.7-py3-none-any.whl.metadata (21 kB)\n",
      "Requirement already satisfied: idna in /home/trung/.conda/envs/atf_env/lib/python3.9/site-packages (from httpx~=0.28.0->jupyterlab->jupyter==1.1.1) (3.10)\n",
      "Collecting h11<0.15,>=0.13 (from httpcore==1.*->httpx~=0.28.0->jupyterlab->jupyter==1.1.1)\n",
      "  Using cached h11-0.14.0-py3-none-any.whl.metadata (8.2 kB)\n",
      "Requirement already satisfied: zipp>=3.20 in /home/trung/.conda/envs/atf_env/lib/python3.9/site-packages (from importlib-metadata>=4.8.3->jupyterlab->jupyter==1.1.1) (3.21.0)\n",
      "Requirement already satisfied: decorator in /home/trung/.conda/envs/atf_env/lib/python3.9/site-packages (from ipython>=7.23.1->ipykernel->jupyter==1.1.1) (5.1.1)\n",
      "Requirement already satisfied: jedi>=0.16 in /home/trung/.conda/envs/atf_env/lib/python3.9/site-packages (from ipython>=7.23.1->ipykernel->jupyter==1.1.1) (0.19.2)\n",
      "Requirement already satisfied: stack-data in /home/trung/.conda/envs/atf_env/lib/python3.9/site-packages (from ipython>=7.23.1->ipykernel->jupyter==1.1.1) (0.6.2)\n",
      "Requirement already satisfied: exceptiongroup in /home/trung/.conda/envs/atf_env/lib/python3.9/site-packages (from ipython>=7.23.1->ipykernel->jupyter==1.1.1) (1.2.2)\n",
      "Requirement already satisfied: pexpect>4.3 in /home/trung/.conda/envs/atf_env/lib/python3.9/site-packages (from ipython>=7.23.1->ipykernel->jupyter==1.1.1) (4.9.0)\n",
      "Requirement already satisfied: python-dateutil>=2.8.2 in /home/trung/.conda/envs/atf_env/lib/python3.9/site-packages (from jupyter-client>=6.1.12->ipykernel->jupyter==1.1.1) (2.9.0.post0)\n",
      "Requirement already satisfied: platformdirs>=2.5 in /home/trung/.conda/envs/atf_env/lib/python3.9/site-packages (from jupyter-core!=5.0.*,>=4.12->ipykernel->jupyter==1.1.1) (4.3.6)\n",
      "Collecting argon2-cffi>=21.1 (from jupyter-server<3,>=2.4.0->jupyterlab->jupyter==1.1.1)\n",
      "  Downloading argon2_cffi-23.1.0-py3-none-any.whl.metadata (5.2 kB)\n",
      "Collecting jupyter-events>=0.9.0 (from jupyter-server<3,>=2.4.0->jupyterlab->jupyter==1.1.1)\n",
      "  Downloading jupyter_events-0.10.0-py3-none-any.whl.metadata (5.9 kB)\n",
      "Collecting jupyter-server-terminals>=0.4.4 (from jupyter-server<3,>=2.4.0->jupyterlab->jupyter==1.1.1)\n",
      "  Downloading jupyter_server_terminals-0.5.3-py3-none-any.whl.metadata (5.6 kB)\n",
      "Collecting overrides>=5.0 (from jupyter-server<3,>=2.4.0->jupyterlab->jupyter==1.1.1)\n",
      "  Downloading overrides-7.7.0-py3-none-any.whl.metadata (5.8 kB)\n",
      "Collecting prometheus-client>=0.9 (from jupyter-server<3,>=2.4.0->jupyterlab->jupyter==1.1.1)\n",
      "  Downloading prometheus_client-0.21.1-py3-none-any.whl.metadata (1.8 kB)\n",
      "Collecting send2trash>=1.8.2 (from jupyter-server<3,>=2.4.0->jupyterlab->jupyter==1.1.1)\n",
      "  Downloading Send2Trash-1.8.3-py3-none-any.whl.metadata (4.0 kB)\n",
      "Collecting terminado>=0.8.3 (from jupyter-server<3,>=2.4.0->jupyterlab->jupyter==1.1.1)\n",
      "  Downloading terminado-0.18.1-py3-none-any.whl.metadata (5.8 kB)\n",
      "Collecting websocket-client>=1.7 (from jupyter-server<3,>=2.4.0->jupyterlab->jupyter==1.1.1)\n",
      "  Downloading websocket_client-1.8.0-py3-none-any.whl.metadata (8.0 kB)\n",
      "Collecting babel>=2.10 (from jupyterlab-server<3,>=2.27.1->jupyterlab->jupyter==1.1.1)\n",
      "  Downloading babel-2.16.0-py3-none-any.whl.metadata (1.5 kB)\n",
      "Collecting json5>=0.9.0 (from jupyterlab-server<3,>=2.27.1->jupyterlab->jupyter==1.1.1)\n",
      "  Downloading json5-0.10.0-py3-none-any.whl.metadata (34 kB)\n",
      "Collecting jsonschema>=4.18.0 (from jupyterlab-server<3,>=2.27.1->jupyterlab->jupyter==1.1.1)\n",
      "  Using cached jsonschema-4.23.0-py3-none-any.whl.metadata (7.9 kB)\n",
      "Requirement already satisfied: requests>=2.31 in /home/trung/.conda/envs/atf_env/lib/python3.9/site-packages (from jupyterlab-server<3,>=2.27.1->jupyterlab->jupyter==1.1.1) (2.32.3)\n",
      "Collecting fastjsonschema>=2.15 (from nbformat>=5.7->nbconvert->jupyter==1.1.1)\n",
      "  Downloading fastjsonschema-2.21.1-py3-none-any.whl.metadata (2.2 kB)\n",
      "Requirement already satisfied: wcwidth in /home/trung/.conda/envs/atf_env/lib/python3.9/site-packages (from prompt-toolkit>=3.0.30->jupyter-console->jupyter==1.1.1) (0.2.13)\n",
      "Collecting soupsieve>1.2 (from beautifulsoup4->nbconvert->jupyter==1.1.1)\n",
      "  Downloading soupsieve-2.6-py3-none-any.whl.metadata (4.6 kB)\n",
      "Collecting sniffio>=1.1 (from anyio->httpx~=0.28.0->jupyterlab->jupyter==1.1.1)\n",
      "  Using cached sniffio-1.3.1-py3-none-any.whl.metadata (3.9 kB)\n",
      "Collecting argon2-cffi-bindings (from argon2-cffi>=21.1->jupyter-server<3,>=2.4.0->jupyterlab->jupyter==1.1.1)\n",
      "  Downloading argon2_cffi_bindings-21.2.0-cp36-abi3-manylinux_2_17_x86_64.manylinux2014_x86_64.whl.metadata (6.7 kB)\n",
      "Requirement already satisfied: parso<0.9.0,>=0.8.4 in /home/trung/.conda/envs/atf_env/lib/python3.9/site-packages (from jedi>=0.16->ipython>=7.23.1->ipykernel->jupyter==1.1.1) (0.8.4)\n",
      "Requirement already satisfied: attrs>=22.2.0 in /home/trung/.conda/envs/atf_env/lib/python3.9/site-packages (from jsonschema>=4.18.0->jupyterlab-server<3,>=2.27.1->jupyterlab->jupyter==1.1.1) (24.2.0)\n",
      "Collecting jsonschema-specifications>=2023.03.6 (from jsonschema>=4.18.0->jupyterlab-server<3,>=2.27.1->jupyterlab->jupyter==1.1.1)\n",
      "  Using cached jsonschema_specifications-2024.10.1-py3-none-any.whl.metadata (3.0 kB)\n",
      "Collecting referencing>=0.28.4 (from jsonschema>=4.18.0->jupyterlab-server<3,>=2.27.1->jupyterlab->jupyter==1.1.1)\n",
      "  Using cached referencing-0.35.1-py3-none-any.whl.metadata (2.8 kB)\n",
      "Collecting rpds-py>=0.7.1 (from jsonschema>=4.18.0->jupyterlab-server<3,>=2.27.1->jupyterlab->jupyter==1.1.1)\n",
      "  Downloading rpds_py-0.22.3-cp39-cp39-manylinux_2_17_x86_64.manylinux2014_x86_64.whl.metadata (4.2 kB)\n",
      "Collecting python-json-logger>=2.0.4 (from jupyter-events>=0.9.0->jupyter-server<3,>=2.4.0->jupyterlab->jupyter==1.1.1)\n",
      "  Downloading python_json_logger-2.0.7-py3-none-any.whl.metadata (6.5 kB)\n",
      "Requirement already satisfied: pyyaml>=5.3 in /home/trung/.conda/envs/atf_env/lib/python3.9/site-packages (from jupyter-events>=0.9.0->jupyter-server<3,>=2.4.0->jupyterlab->jupyter==1.1.1) (6.0.2)\n",
      "Collecting rfc3339-validator (from jupyter-events>=0.9.0->jupyter-server<3,>=2.4.0->jupyterlab->jupyter==1.1.1)\n",
      "  Downloading rfc3339_validator-0.1.4-py2.py3-none-any.whl.metadata (1.5 kB)\n",
      "Collecting rfc3986-validator>=0.1.1 (from jupyter-events>=0.9.0->jupyter-server<3,>=2.4.0->jupyterlab->jupyter==1.1.1)\n",
      "  Downloading rfc3986_validator-0.1.1-py2.py3-none-any.whl.metadata (1.7 kB)\n",
      "Requirement already satisfied: ptyprocess>=0.5 in /home/trung/.conda/envs/atf_env/lib/python3.9/site-packages (from pexpect>4.3->ipython>=7.23.1->ipykernel->jupyter==1.1.1) (0.7.0)\n",
      "Requirement already satisfied: six>=1.5 in /home/trung/.conda/envs/atf_env/lib/python3.9/site-packages (from python-dateutil>=2.8.2->jupyter-client>=6.1.12->ipykernel->jupyter==1.1.1) (1.16.0)\n",
      "Requirement already satisfied: charset-normalizer<4,>=2 in /home/trung/.conda/envs/atf_env/lib/python3.9/site-packages (from requests>=2.31->jupyterlab-server<3,>=2.27.1->jupyterlab->jupyter==1.1.1) (3.4.0)\n",
      "Requirement already satisfied: urllib3<3,>=1.21.1 in /home/trung/.conda/envs/atf_env/lib/python3.9/site-packages (from requests>=2.31->jupyterlab-server<3,>=2.27.1->jupyterlab->jupyter==1.1.1) (2.2.3)\n",
      "Requirement already satisfied: executing>=1.2.0 in /home/trung/.conda/envs/atf_env/lib/python3.9/site-packages (from stack-data->ipython>=7.23.1->ipykernel->jupyter==1.1.1) (2.1.0)\n",
      "Requirement already satisfied: asttokens>=2.1.0 in /home/trung/.conda/envs/atf_env/lib/python3.9/site-packages (from stack-data->ipython>=7.23.1->ipykernel->jupyter==1.1.1) (2.4.1)\n",
      "Requirement already satisfied: pure-eval in /home/trung/.conda/envs/atf_env/lib/python3.9/site-packages (from stack-data->ipython>=7.23.1->ipykernel->jupyter==1.1.1) (0.2.3)\n",
      "Collecting fqdn (from jsonschema[format-nongpl]>=4.18.0->jupyter-events>=0.9.0->jupyter-server<3,>=2.4.0->jupyterlab->jupyter==1.1.1)\n",
      "  Downloading fqdn-1.5.1-py3-none-any.whl.metadata (1.4 kB)\n",
      "Collecting isoduration (from jsonschema[format-nongpl]>=4.18.0->jupyter-events>=0.9.0->jupyter-server<3,>=2.4.0->jupyterlab->jupyter==1.1.1)\n",
      "  Downloading isoduration-20.11.0-py3-none-any.whl.metadata (5.7 kB)\n",
      "Collecting jsonpointer>1.13 (from jsonschema[format-nongpl]>=4.18.0->jupyter-events>=0.9.0->jupyter-server<3,>=2.4.0->jupyterlab->jupyter==1.1.1)\n",
      "  Downloading jsonpointer-3.0.0-py2.py3-none-any.whl.metadata (2.3 kB)\n",
      "Collecting uri-template (from jsonschema[format-nongpl]>=4.18.0->jupyter-events>=0.9.0->jupyter-server<3,>=2.4.0->jupyterlab->jupyter==1.1.1)\n",
      "  Downloading uri_template-1.3.0-py3-none-any.whl.metadata (8.8 kB)\n",
      "Collecting webcolors>=24.6.0 (from jsonschema[format-nongpl]>=4.18.0->jupyter-events>=0.9.0->jupyter-server<3,>=2.4.0->jupyterlab->jupyter==1.1.1)\n",
      "  Downloading webcolors-24.11.1-py3-none-any.whl.metadata (2.2 kB)\n",
      "Collecting cffi>=1.0.1 (from argon2-cffi-bindings->argon2-cffi>=21.1->jupyter-server<3,>=2.4.0->jupyterlab->jupyter==1.1.1)\n",
      "  Using cached cffi-1.17.1-cp39-cp39-manylinux_2_17_x86_64.manylinux2014_x86_64.whl.metadata (1.5 kB)\n",
      "Collecting pycparser (from cffi>=1.0.1->argon2-cffi-bindings->argon2-cffi>=21.1->jupyter-server<3,>=2.4.0->jupyterlab->jupyter==1.1.1)\n",
      "  Using cached pycparser-2.22-py3-none-any.whl.metadata (943 bytes)\n",
      "Collecting arrow>=0.15.0 (from isoduration->jsonschema[format-nongpl]>=4.18.0->jupyter-events>=0.9.0->jupyter-server<3,>=2.4.0->jupyterlab->jupyter==1.1.1)\n",
      "  Downloading arrow-1.3.0-py3-none-any.whl.metadata (7.5 kB)\n",
      "Collecting types-python-dateutil>=2.8.10 (from arrow>=0.15.0->isoduration->jsonschema[format-nongpl]>=4.18.0->jupyter-events>=0.9.0->jupyter-server<3,>=2.4.0->jupyterlab->jupyter==1.1.1)\n",
      "  Downloading types_python_dateutil-2.9.0.20241206-py3-none-any.whl.metadata (2.1 kB)\n",
      "Downloading jupyter-1.1.1-py2.py3-none-any.whl (2.7 kB)\n",
      "Downloading jupyter_console-6.6.3-py3-none-any.whl (24 kB)\n",
      "Downloading jupyterlab-4.3.2-py3-none-any.whl (11.7 MB)\n",
      "\u001b[2K   \u001b[90m━━━━━━━━━━━━━━━━━━━━━━━━━━━━━━━━━━━━━━━━\u001b[0m \u001b[32m11.7/11.7 MB\u001b[0m \u001b[31m27.8 MB/s\u001b[0m eta \u001b[36m0:00:00\u001b[0m \u001b[36m0:00:01\u001b[0m\n",
      "\u001b[?25hDownloading nbconvert-7.16.4-py3-none-any.whl (257 kB)\n",
      "Downloading notebook-7.3.1-py3-none-any.whl (13.2 MB)\n",
      "\u001b[2K   \u001b[90m━━━━━━━━━━━━━━━━━━━━━━━━━━━━━━━━━━━━━━━━\u001b[0m \u001b[32m13.2/13.2 MB\u001b[0m \u001b[31m25.0 MB/s\u001b[0m eta \u001b[36m0:00:00\u001b[0ma \u001b[36m0:00:01\u001b[0m\n",
      "\u001b[?25hDownloading async_lru-2.0.4-py3-none-any.whl (6.1 kB)\n",
      "Downloading bleach-6.2.0-py3-none-any.whl (163 kB)\n",
      "Downloading httpx-0.28.1-py3-none-any.whl (73 kB)\n",
      "Using cached httpcore-1.0.7-py3-none-any.whl (78 kB)\n",
      "Downloading jupyter_lsp-2.2.5-py3-none-any.whl (69 kB)\n",
      "Downloading jupyter_server-2.14.2-py3-none-any.whl (383 kB)\n",
      "Downloading jupyterlab_server-2.27.3-py3-none-any.whl (59 kB)\n",
      "Downloading mistune-3.0.2-py3-none-any.whl (47 kB)\n",
      "Downloading nbclient-0.10.1-py3-none-any.whl (25 kB)\n",
      "Downloading nbformat-5.10.4-py3-none-any.whl (78 kB)\n",
      "Downloading notebook_shim-0.2.4-py3-none-any.whl (13 kB)\n",
      "Downloading pandocfilters-1.5.1-py2.py3-none-any.whl (8.7 kB)\n",
      "Downloading tomli-2.2.1-py3-none-any.whl (14 kB)\n",
      "Downloading beautifulsoup4-4.12.3-py3-none-any.whl (147 kB)\n",
      "Downloading defusedxml-0.7.1-py2.py3-none-any.whl (25 kB)\n",
      "Downloading jupyterlab_pygments-0.3.0-py3-none-any.whl (15 kB)\n",
      "Downloading tinycss2-1.4.0-py3-none-any.whl (26 kB)\n",
      "Downloading anyio-4.7.0-py3-none-any.whl (93 kB)\n",
      "Downloading argon2_cffi-23.1.0-py3-none-any.whl (15 kB)\n",
      "Downloading babel-2.16.0-py3-none-any.whl (9.6 MB)\n",
      "\u001b[2K   \u001b[90m━━━━━━━━━━━━━━━━━━━━━━━━━━━━━━━━━━━━━━━━\u001b[0m \u001b[32m9.6/9.6 MB\u001b[0m \u001b[31m41.5 MB/s\u001b[0m eta \u001b[36m0:00:00\u001b[0m00:01\u001b[0m\n",
      "\u001b[?25hDownloading fastjsonschema-2.21.1-py3-none-any.whl (23 kB)\n",
      "Downloading json5-0.10.0-py3-none-any.whl (34 kB)\n",
      "Using cached jsonschema-4.23.0-py3-none-any.whl (88 kB)\n",
      "Downloading jupyter_events-0.10.0-py3-none-any.whl (18 kB)\n",
      "Downloading jupyter_server_terminals-0.5.3-py3-none-any.whl (13 kB)\n",
      "Downloading overrides-7.7.0-py3-none-any.whl (17 kB)\n",
      "Downloading prometheus_client-0.21.1-py3-none-any.whl (54 kB)\n",
      "Downloading Send2Trash-1.8.3-py3-none-any.whl (18 kB)\n",
      "Downloading soupsieve-2.6-py3-none-any.whl (36 kB)\n",
      "Downloading terminado-0.18.1-py3-none-any.whl (14 kB)\n",
      "Downloading webencodings-0.5.1-py2.py3-none-any.whl (11 kB)\n",
      "Downloading websocket_client-1.8.0-py3-none-any.whl (58 kB)\n",
      "Using cached h11-0.14.0-py3-none-any.whl (58 kB)\n",
      "Using cached jsonschema_specifications-2024.10.1-py3-none-any.whl (18 kB)\n",
      "Downloading python_json_logger-2.0.7-py3-none-any.whl (8.1 kB)\n",
      "Using cached referencing-0.35.1-py3-none-any.whl (26 kB)\n",
      "Downloading rfc3986_validator-0.1.1-py2.py3-none-any.whl (4.2 kB)\n",
      "Downloading rpds_py-0.22.3-cp39-cp39-manylinux_2_17_x86_64.manylinux2014_x86_64.whl (382 kB)\n",
      "Using cached sniffio-1.3.1-py3-none-any.whl (10 kB)\n",
      "Downloading argon2_cffi_bindings-21.2.0-cp36-abi3-manylinux_2_17_x86_64.manylinux2014_x86_64.whl (86 kB)\n",
      "Downloading rfc3339_validator-0.1.4-py2.py3-none-any.whl (3.5 kB)\n",
      "Using cached cffi-1.17.1-cp39-cp39-manylinux_2_17_x86_64.manylinux2014_x86_64.whl (445 kB)\n",
      "Downloading jsonpointer-3.0.0-py2.py3-none-any.whl (7.6 kB)\n",
      "Downloading webcolors-24.11.1-py3-none-any.whl (14 kB)\n",
      "Downloading fqdn-1.5.1-py3-none-any.whl (9.1 kB)\n",
      "Downloading isoduration-20.11.0-py3-none-any.whl (11 kB)\n",
      "Downloading uri_template-1.3.0-py3-none-any.whl (11 kB)\n",
      "Downloading arrow-1.3.0-py3-none-any.whl (66 kB)\n",
      "Using cached pycparser-2.22-py3-none-any.whl (117 kB)\n",
      "Downloading types_python_dateutil-2.9.0.20241206-py3-none-any.whl (14 kB)\n",
      "Installing collected packages: webencodings, fastjsonschema, websocket-client, webcolors, uri-template, types-python-dateutil, tomli, tinycss2, terminado, soupsieve, sniffio, send2trash, rpds-py, rfc3986-validator, rfc3339-validator, python-json-logger, pycparser, prometheus-client, pandocfilters, overrides, mistune, jupyterlab-pygments, jsonpointer, json5, h11, fqdn, defusedxml, bleach, babel, async-lru, referencing, jupyter-server-terminals, httpcore, cffi, beautifulsoup4, arrow, anyio, jsonschema-specifications, isoduration, httpx, argon2-cffi-bindings, jsonschema, argon2-cffi, nbformat, jupyter-console, nbclient, jupyter-events, nbconvert, jupyter-server, notebook-shim, jupyterlab-server, jupyter-lsp, jupyterlab, notebook, jupyter\n",
      "Successfully installed anyio-4.7.0 argon2-cffi-23.1.0 argon2-cffi-bindings-21.2.0 arrow-1.3.0 async-lru-2.0.4 babel-2.16.0 beautifulsoup4-4.12.3 bleach-6.2.0 cffi-1.17.1 defusedxml-0.7.1 fastjsonschema-2.21.1 fqdn-1.5.1 h11-0.14.0 httpcore-1.0.7 httpx-0.28.1 isoduration-20.11.0 json5-0.10.0 jsonpointer-3.0.0 jsonschema-4.23.0 jsonschema-specifications-2024.10.1 jupyter-1.1.1 jupyter-console-6.6.3 jupyter-events-0.10.0 jupyter-lsp-2.2.5 jupyter-server-2.14.2 jupyter-server-terminals-0.5.3 jupyterlab-4.3.2 jupyterlab-pygments-0.3.0 jupyterlab-server-2.27.3 mistune-3.0.2 nbclient-0.10.1 nbconvert-7.16.4 nbformat-5.10.4 notebook-7.3.1 notebook-shim-0.2.4 overrides-7.7.0 pandocfilters-1.5.1 prometheus-client-0.21.1 pycparser-2.22 python-json-logger-2.0.7 referencing-0.35.1 rfc3339-validator-0.1.4 rfc3986-validator-0.1.1 rpds-py-0.22.3 send2trash-1.8.3 sniffio-1.3.1 soupsieve-2.6 terminado-0.18.1 tinycss2-1.4.0 tomli-2.2.1 types-python-dateutil-2.9.0.20241206 uri-template-1.3.0 webcolors-24.11.1 webencodings-0.5.1 websocket-client-1.8.0\n",
      "Requirement already satisfied: google-generativeai==0.8.3 in /home/trung/.conda/envs/atf_env/lib/python3.9/site-packages (0.8.3)\n",
      "Requirement already satisfied: google-ai-generativelanguage==0.6.10 in /home/trung/.conda/envs/atf_env/lib/python3.9/site-packages (from google-generativeai==0.8.3) (0.6.10)\n",
      "Requirement already satisfied: google-api-core in /home/trung/.conda/envs/atf_env/lib/python3.9/site-packages (from google-generativeai==0.8.3) (2.23.0)\n",
      "Requirement already satisfied: google-api-python-client in /home/trung/.conda/envs/atf_env/lib/python3.9/site-packages (from google-generativeai==0.8.3) (2.154.0)\n",
      "Requirement already satisfied: google-auth>=2.15.0 in /home/trung/.conda/envs/atf_env/lib/python3.9/site-packages (from google-generativeai==0.8.3) (2.36.0)\n",
      "Requirement already satisfied: protobuf in /home/trung/.conda/envs/atf_env/lib/python3.9/site-packages (from google-generativeai==0.8.3) (5.29.1)\n",
      "Requirement already satisfied: pydantic in /home/trung/.conda/envs/atf_env/lib/python3.9/site-packages (from google-generativeai==0.8.3) (2.10.3)\n",
      "Requirement already satisfied: tqdm in /home/trung/.conda/envs/atf_env/lib/python3.9/site-packages (from google-generativeai==0.8.3) (4.67.1)\n",
      "Requirement already satisfied: typing-extensions in /home/trung/.conda/envs/atf_env/lib/python3.9/site-packages (from google-generativeai==0.8.3) (4.12.2)\n",
      "Requirement already satisfied: proto-plus<2.0.0dev,>=1.22.3 in /home/trung/.conda/envs/atf_env/lib/python3.9/site-packages (from google-ai-generativelanguage==0.6.10->google-generativeai==0.8.3) (1.25.0)\n",
      "Requirement already satisfied: googleapis-common-protos<2.0.dev0,>=1.56.2 in /home/trung/.conda/envs/atf_env/lib/python3.9/site-packages (from google-api-core->google-generativeai==0.8.3) (1.66.0)\n",
      "Requirement already satisfied: requests<3.0.0.dev0,>=2.18.0 in /home/trung/.conda/envs/atf_env/lib/python3.9/site-packages (from google-api-core->google-generativeai==0.8.3) (2.32.3)\n",
      "Requirement already satisfied: cachetools<6.0,>=2.0.0 in /home/trung/.conda/envs/atf_env/lib/python3.9/site-packages (from google-auth>=2.15.0->google-generativeai==0.8.3) (5.5.0)\n",
      "Requirement already satisfied: pyasn1-modules>=0.2.1 in /home/trung/.conda/envs/atf_env/lib/python3.9/site-packages (from google-auth>=2.15.0->google-generativeai==0.8.3) (0.4.1)\n",
      "Requirement already satisfied: rsa<5,>=3.1.4 in /home/trung/.conda/envs/atf_env/lib/python3.9/site-packages (from google-auth>=2.15.0->google-generativeai==0.8.3) (4.9)\n",
      "Requirement already satisfied: httplib2<1.dev0,>=0.19.0 in /home/trung/.conda/envs/atf_env/lib/python3.9/site-packages (from google-api-python-client->google-generativeai==0.8.3) (0.22.0)\n",
      "Requirement already satisfied: google-auth-httplib2<1.0.0,>=0.2.0 in /home/trung/.conda/envs/atf_env/lib/python3.9/site-packages (from google-api-python-client->google-generativeai==0.8.3) (0.2.0)\n",
      "Requirement already satisfied: uritemplate<5,>=3.0.1 in /home/trung/.conda/envs/atf_env/lib/python3.9/site-packages (from google-api-python-client->google-generativeai==0.8.3) (4.1.1)\n",
      "Requirement already satisfied: annotated-types>=0.6.0 in /home/trung/.conda/envs/atf_env/lib/python3.9/site-packages (from pydantic->google-generativeai==0.8.3) (0.7.0)\n",
      "Requirement already satisfied: pydantic-core==2.27.1 in /home/trung/.conda/envs/atf_env/lib/python3.9/site-packages (from pydantic->google-generativeai==0.8.3) (2.27.1)\n",
      "Requirement already satisfied: grpcio<2.0dev,>=1.33.2 in /home/trung/.conda/envs/atf_env/lib/python3.9/site-packages (from google-api-core[grpc]!=2.0.*,!=2.1.*,!=2.10.*,!=2.2.*,!=2.3.*,!=2.4.*,!=2.5.*,!=2.6.*,!=2.7.*,!=2.8.*,!=2.9.*,<3.0.0dev,>=1.34.1->google-ai-generativelanguage==0.6.10->google-generativeai==0.8.3) (1.68.1)\n",
      "Requirement already satisfied: grpcio-status<2.0.dev0,>=1.33.2 in /home/trung/.conda/envs/atf_env/lib/python3.9/site-packages (from google-api-core[grpc]!=2.0.*,!=2.1.*,!=2.10.*,!=2.2.*,!=2.3.*,!=2.4.*,!=2.5.*,!=2.6.*,!=2.7.*,!=2.8.*,!=2.9.*,<3.0.0dev,>=1.34.1->google-ai-generativelanguage==0.6.10->google-generativeai==0.8.3) (1.68.1)\n",
      "Requirement already satisfied: pyparsing!=3.0.0,!=3.0.1,!=3.0.2,!=3.0.3,<4,>=2.4.2 in /home/trung/.conda/envs/atf_env/lib/python3.9/site-packages (from httplib2<1.dev0,>=0.19.0->google-api-python-client->google-generativeai==0.8.3) (3.2.0)\n",
      "Requirement already satisfied: pyasn1<0.7.0,>=0.4.6 in /home/trung/.conda/envs/atf_env/lib/python3.9/site-packages (from pyasn1-modules>=0.2.1->google-auth>=2.15.0->google-generativeai==0.8.3) (0.6.1)\n",
      "Requirement already satisfied: charset-normalizer<4,>=2 in /home/trung/.conda/envs/atf_env/lib/python3.9/site-packages (from requests<3.0.0.dev0,>=2.18.0->google-api-core->google-generativeai==0.8.3) (3.4.0)\n",
      "Requirement already satisfied: idna<4,>=2.5 in /home/trung/.conda/envs/atf_env/lib/python3.9/site-packages (from requests<3.0.0.dev0,>=2.18.0->google-api-core->google-generativeai==0.8.3) (3.10)\n",
      "Requirement already satisfied: urllib3<3,>=1.21.1 in /home/trung/.conda/envs/atf_env/lib/python3.9/site-packages (from requests<3.0.0.dev0,>=2.18.0->google-api-core->google-generativeai==0.8.3) (2.2.3)\n",
      "Requirement already satisfied: certifi>=2017.4.17 in /home/trung/.conda/envs/atf_env/lib/python3.9/site-packages (from requests<3.0.0.dev0,>=2.18.0->google-api-core->google-generativeai==0.8.3) (2024.8.30)\n",
      "Collecting python-dotenv==1.0.1\n",
      "  Using cached python_dotenv-1.0.1-py3-none-any.whl.metadata (23 kB)\n",
      "Using cached python_dotenv-1.0.1-py3-none-any.whl (19 kB)\n",
      "Installing collected packages: python-dotenv\n",
      "Successfully installed python-dotenv-1.0.1\n"
     ]
    }
   ],
   "source": [
    "!pip install ipywidgets==8.1.5\n",
    "!pip install jupyter==1.1.1\n",
    "!pip install google-generativeai==0.8.3\n",
    "!pip install python-dotenv==1.0.1"
   ]
  },
  {
   "cell_type": "markdown",
   "metadata": {
    "id": "w9QXYHdWmmsD"
   },
   "source": [
    "# Find relevant laws of chunks in contract"
   ]
  },
  {
   "cell_type": "markdown",
   "metadata": {
    "id": "56xY2yKwdswp"
   },
   "source": [
    "## Get law database"
   ]
  },
  {
   "cell_type": "code",
   "execution_count": 2,
   "metadata": {
    "colab": {
     "base_uri": "https://localhost:8080/"
    },
    "id": "64JFJRGhrs0G",
    "outputId": "9921e517-412d-4f49-8788-1cbaaceedc3f"
   },
   "outputs": [
    {
     "name": "stdout",
     "output_type": "stream",
     "text": [
      "185\n",
      "{'law_id': '個人情報の保護に関する法律（平成十五年法律第五十七号）/第一章\\u3000総則', 'article_id': 1, 'title': '第一条\\u3000目的', 'text': 'この法律は、デジタル社会の進展に伴い個人情報の利用が著しく拡大していることに鑑み、個人情報の適正な取扱いに関し、基本理念及び政府による基本方針の作成その他の個人情報の保護に関する施策の基本となる事項を定め、国及び地方公共団体の責務等を明らかにし、個人情報を取り扱う事業者及び行政機関等についてこれらの特性に応じて遵守すべき義務等を定めるとともに、個人情報保護委員会を設置することにより、行政機関等の事務及び事業の適正かつ円滑な運営を図り、並びに個人情報の適正かつ効果的な活用が新たな産業の創出並びに活力ある経済社会及び豊かな国民生活の実現に資するものであることその他の個人情報の有用性に配慮しつつ、個人の権利利益を保護することを目的とする。'}\n"
     ]
    }
   ],
   "source": [
    "import json\n",
    "\n",
    "with open('Data/legal_corpus.json', 'r', encoding='utf-8') as f:\n",
    "    law_data = json.load(f)\n",
    "database = []\n",
    "for laws in law_data:\n",
    "    law_id = laws['law_id']\n",
    "    for article in laws['articles']:\n",
    "        article_id = article['article_id']\n",
    "        title = article['title']\n",
    "        text = article['text']\n",
    "        database.append({\"law_id\": law_id, \"article_id\": article_id, \"title\": title, \"text\": text})\n",
    "print(len(database))\n",
    "print(database[0])"
   ]
  },
  {
   "cell_type": "markdown",
   "metadata": {
    "id": "M98dbtW6d8S_"
   },
   "source": [
    "## Get contract data"
   ]
  },
  {
   "cell_type": "code",
   "execution_count": 3,
   "metadata": {
    "colab": {
     "base_uri": "https://localhost:8080/"
    },
    "id": "jCxTdf1Frs0G",
    "outputId": "7e992e0f-49b4-4f8b-ebb5-12944c60c725"
   },
   "outputs": [
    {
     "name": "stdout",
     "output_type": "stream",
     "text": [
      "341\n",
      "{'index': 6, 'text': '第１章\\u3000総則\\n（目的）\\n第１条\\u3000本個人情報取扱規程（以下「本規程」という。）は、会社が、個人情報の保護に関する法律（平成１５年法律第５７号）（以下「個人情報保護法」といい、個人情報保護法に基づき制定された政令、規則等を含むものとする。）及び行政手続における特定の個人を識別するための番号の利用等に関する法律（平成２５年法律第２７号）（以下「マイナンバー法」といい、マイナンバー法に基づき制定された政令、規則等を含むものとする。）に基づき、会社の取り扱う個人情報の適正な取扱いを確保するために定めるものである。', 'label': 'dieu', 'muc': '第１章\\u3000総則', 'cap': '（目的）', 'dieu': '第１条\\u3000本個人情報取扱規程（以下「本規程」という。）は、会社が、個人情報の保護に関する法律（平成１５年法律第５７号）（以下「個人情報保護法」といい、個人情報保護法に基づき制定された政令、規則等を含むものとする。）及び行政手続における特定の個人を識別するための番号の利用等に関する法律（平成２５年法律第２７号）（以下「マイナンバー法」といい、マイナンバー法に基づき制定された政令、規則等を含むものとする。）に基づき、会社の取り扱う個人情報の適正な取扱いを確保するために定めるものである。'}\n"
     ]
    }
   ],
   "source": [
    "import json\n",
    "\n",
    "with open('Data/chunked_contract.json', 'r', encoding='utf-8') as f:\n",
    "    contract_data = json.load(f)\n",
    "\n",
    "print(len(contract_data))\n",
    "print(contract_data[0])"
   ]
  },
  {
   "cell_type": "markdown",
   "metadata": {
    "id": "OThG6r8ueDTA"
   },
   "source": [
    "## Config gemini"
   ]
  },
  {
   "cell_type": "code",
   "execution_count": 13,
   "metadata": {
    "id": "2fSjdjf1rs0G"
   },
   "outputs": [],
   "source": [
    "# Configure Gemini\n",
    "import google.generativeai as genai\n",
    "from dotenv import load_dotenv\n",
    "import os\n",
    "\n",
    "# Load the .env file\n",
    "load_dotenv()\n",
    "\n",
    "system_instruction = '''あなたは労働法を専門とする弁護士です。以下の文脈からユーザーの入力文の真偽を証明できるすべての法律を見つけてください。他の文脈外の法律や情報は使用しないでください。  \n",
    "以下のJSONスキーマを使用してください：  \n",
    "relevant_law = {  \n",
    "  \"law_id\": str,  \n",
    "  \"article_id\": int,  \n",
    "  \"title\": str,  \n",
    "  \"text\": str,  \n",
    "  \"explanation\": str,  \n",
    "  \"label\": bool  \n",
    "}  \n",
    "- \"law_id\"、\"article_id\"、\"title\"、\"text\"は文脈から取得してください。  \n",
    "- \"explanation\"には、なぜその法律を選んだのかを日本語で記述してください。  \n",
    "- \"label\"は、その法律がユーザーの文を真と証明する場合はtrue、偽と証明する場合はfalseを指定してください。  \n",
    "\n",
    "適切な法律が見つからない場合は、空のリストを返してください。\n",
    "\n",
    "\n",
    "文脈: %s\n",
    "'''\n",
    "\n",
    "api_key = os.getenv(\"GEMINI_API_KEY\")\n",
    "\n",
    "genai.configure(api_key=api_key)\n",
    "safety_settings = [\n",
    "    {\n",
    "        \"category\": \"HARM_CATEGORY_HARASSMENT\",\n",
    "        \"threshold\": \"BLOCK_NONE\"\n",
    "    },\n",
    "    {\n",
    "        \"category\": \"HARM_CATEGORY_HATE_SPEECH\",\n",
    "        \"threshold\": \"BLOCK_NONE\"\n",
    "    },\n",
    "    {\n",
    "        \"category\": \"HARM_CATEGORY_SEXUALLY_EXPLICIT\",\n",
    "        \"threshold\": \"BLOCK_NONE\"\n",
    "    },\n",
    "    {\n",
    "        \"category\": \"HARM_CATEGORY_DANGEROUS_CONTENT\",\n",
    "        \"threshold\": \"BLOCK_NONE\"\n",
    "    }\n",
    "]\n",
    "model = genai.GenerativeModel('gemini-1.5-pro-latest',\n",
    "                              safety_settings=safety_settings,\n",
    "                              # generation_config={\"response_mime_type\": \"application/json\", \"max_output_tokens\": 8000},\n",
    "                              system_instruction=system_instruction % (database))\n",
    "chat = model.start_chat(history=[])\n",
    "\n",
    "prompt_template = '''\n",
    "ユーザー入力: 第３章 個人情報の取扱い 第１節　個人情報の取得・保有等\n",
    "（利用目的の特定）\n",
    "第２０条　会社は、業務を遂行するため必要な場合に限り、かつ目的の達成に必要な範囲に限って個人情報を取得するものとし、その利用の目的（以下「利用目的」という。）をできる限り特定するものとする。\n",
    "\n",
    "回答: [\n",
    "    {\n",
    "        \"law_id\": \"個人情報の保護に関する法律（平成十五年法律第五十七号）/第四章　個人情報取扱事業者等の義務等\",\n",
    "        \"article_id\": 17,\n",
    "        \"title\": \"第十七条　利用目的の特定\",\n",
    "        \"text\": \"個人情報取扱事業者は、個人情報を取り扱うに当たっては、その利用の目的（以下「利用目的」という。）をできる限り特定しなければならない。個人情報取扱事業者は、利用目的を変更する場合には、変更前の利用目的と関連性を有すると合理的に認められる範囲を超えて行ってはならない。\",\n",
    "        \"explanation\": \"この法律の第17条は、個人情報取扱事業者は、個人情報を取り扱う際には、その利用目的をできる限り特定しなければならないと定めています。これは、個人関連情報の取扱いにおいても同様であり、個人関連情報を取得、保有、利用する際には、その利用目的を明確に特定する必要があることを示唆しています。\",\n",
    "        \"label\": true\n",
    "    }\n",
    "]\n",
    "\n",
    "ユーザー入力: %s\n",
    "\n",
    "回答:\n",
    "'''\n",
    "\n",
    "list_result = []"
   ]
  },
  {
   "cell_type": "markdown",
   "metadata": {
    "id": "XWlzETWleG-J"
   },
   "source": [
    "## Generating"
   ]
  },
  {
   "cell_type": "code",
   "execution_count": 14,
   "metadata": {
    "colab": {
     "base_uri": "https://localhost:8080/",
     "height": 71
    },
    "id": "jZ1O02KZIZmg",
    "outputId": "ae3063be-120c-4f8a-f952-e570b122bf03"
   },
   "outputs": [
    {
     "name": "stdout",
     "output_type": "stream",
     "text": [
      "Hello there! How can I help you today?\n",
      "\n",
      "total token: 13\n"
     ]
    }
   ],
   "source": [
    "model = genai.GenerativeModel('gemini-1.5-pro-latest',\n",
    "                              safety_settings=safety_settings)\n",
    "chat = model.start_chat(history=[])\n",
    "response = chat.send_message('hello', stream=True)\n",
    "response.resolve()\n",
    "print(response.text)\n",
    "print('total token:', response.usage_metadata.total_token_count)"
   ]
  },
  {
   "cell_type": "markdown",
   "metadata": {
    "id": "zHgXMCiKd2bd"
   },
   "source": [
    "#### one example"
   ]
  },
  {
   "cell_type": "code",
   "execution_count": 15,
   "metadata": {
    "colab": {
     "base_uri": "https://localhost:8080/"
    },
    "id": "FzI59bNOGhZT",
    "outputId": "db8b780d-4079-49d6-8b24-dd45af95cac1"
   },
   "outputs": [
    {
     "name": "stdout",
     "output_type": "stream",
     "text": [
      "chunk_index: 16\n",
      "第１章　総則\n",
      "（定義）\n",
      "第４条　本規程において、次に掲げる用語の意義は、個人情報保護法の定義に従うものとする。\n",
      "（１４）　個人関連情報データベース等\n",
      "\n"
     ]
    }
   ],
   "source": [
    "start_index = chunk_index = 16\n",
    "# chunk_index += 1\n",
    "print(\"chunk_index:\", chunk_index)\n",
    "contract = contract_data[chunk_index]\n",
    "print(contract['text']+'\\n')"
   ]
  },
  {
   "cell_type": "code",
   "execution_count": null,
   "metadata": {
    "id": "jrVqHPF8zi7R"
   },
   "outputs": [],
   "source": [
    "# contract = {}"
   ]
  },
  {
   "cell_type": "code",
   "execution_count": 16,
   "metadata": {},
   "outputs": [
    {
     "name": "stdout",
     "output_type": "stream",
     "text": [
      "Prompt:\n",
      "\n",
      "ユーザー入力: 第３章 個人情報の取扱い 第１節　個人情報の取得・保有等\n",
      "（利用目的の特定）\n",
      "第２０条　会社は、業務を遂行するため必要な場合に限り、かつ目的の達成に必要な範囲に限って個人情報を取得するものとし、その利用の目的（以下「利用目的」という。）をできる限り特定するものとする。\n",
      "\n",
      "回答: [\n",
      "    {\n",
      "        \"law_id\": \"個人情報の保護に関する法律（平成十五年法律第五十七号）/第四章　個人情報取扱事業者等の義務等\",\n",
      "        \"article_id\": 17,\n",
      "        \"title\": \"第十七条　利用目的の特定\",\n",
      "        \"text\": \"個人情報取扱事業者は、個人情報を取り扱うに当たっては、その利用の目的（以下「利用目的」という。）をできる限り特定しなければならない。個人情報取扱事業者は、利用目的を変更する場合には、変更前の利用目的と関連性を有すると合理的に認められる範囲を超えて行ってはならない。\",\n",
      "        \"explanation\": \"この法律の第17条は、個人情報取扱事業者は、個人情報を取り扱う際には、その利用目的をできる限り特定しなければならないと定めています。これは、個人関連情報の取扱いにおいても同様であり、個人関連情報を取得、保有、利用する際には、その利用目的を明確に特定する必要があることを示唆しています。\",\n",
      "        \"label\": true\n",
      "    }\n",
      "]\n",
      "\n",
      "ユーザー入力: 第１章　総則\n",
      "（定義）\n",
      "第４条　本規程において、次に掲げる用語の意義は、個人情報保護法の定義に従うものとする。\n",
      "（１４）　個人関連情報データベース等\n",
      "\n",
      "回答:\n",
      "\n"
     ]
    }
   ],
   "source": [
    "print(\"Prompt:\")\n",
    "print(prompt_template % (contract['text']))"
   ]
  },
  {
   "cell_type": "code",
   "execution_count": 17,
   "metadata": {
    "id": "0x3gyFL0SGWK"
   },
   "outputs": [
    {
     "name": "stdout",
     "output_type": "stream",
     "text": [
      "response.text ```json\n",
      "[\n",
      "  {\n",
      "    \"law_id\": \"個人情報の保護に関する法律（平成十五年法律第五十七号）/第二章　定義\",\n",
      "    \"article_id\": 2,\n",
      "    \"title\": \"第二条　定義\",\n",
      "    \"text\": \"この法律において、次の各号に掲げる用語の意義は、当該各号に定めるところによる。\\n一　個人情報　生存する個人に関する情報であって、当該情報に含まれる氏名、生年月日その他の記述等により特定の個人を識別できるもの（他の情報と容易に照合することができ、それにより特定の個人を識別できることとなるものを含む。）をいう。\\n二　個人情報データベース等　個人情報を含む情報の集合物であって、特定の個人情報を検索することができるように体系的に構成したもの（電磁的方法（電子的方法、磁気的方法その他の人の知覚によっては認識することができない方法をいう。次項第二号において同じ。）により構成されているものを含む。）をいう。\\n三　個人情報取扱事業者　個人情報を取り扱う事業者をいう。\\n四　第三者提供　個人情報取扱事業者が、その取り扱う個人情報を、本人以外の者に提供することをいう。\\n五　オプトアウト　個人情報取扱事業者が、本人から、当該本人が識別される保有個人データの第三者への提供の停止を求められた場合であって、当該保有個人データの第三者への提供を停止すること（個人データの提供を受ける者の数が著しく少ないときその他第三者への提供を停止することが困難である場合として政令で定める場合を除く。）をいう。\\n六　個人データ　特定の個人を識別することができる記述等（氏名、生年月日その他の記述等をいう。以下同じ。）により構成される記述等をいう。\",\n",
      "    \"explanation\": \"この法律の第2条は、個人情報、個人情報データベース等、個人情報取扱事業者等の定義を定めています。社内規程でこれらの用語の定義が個人情報保護法に従うとされている場合、この条文が関連します。特に、個人関連情報データベース等は、この法律における個人情報データベース等の定義に準じて解釈されるべきです。\",\n",
      "    \"label\": true\n",
      "  }\n",
      "]\n",
      "```\n",
      "\n",
      "total token: 893\n",
      "第１章　総則\n",
      "（定義）\n",
      "第４条　本規程において、次に掲げる用語の意義は、個人情報保護法の定義に従うものとする。\n",
      "（１４）　個人関連情報データベース等\n",
      "\n"
     ]
    }
   ],
   "source": [
    "# start_index = chunk_index = 51\n",
    "# chunk_index += 1\n",
    "# contract = contract_data[chunk_index]\n",
    "response = chat.send_message(prompt_template % (contract['text']), stream=True)\n",
    "# response = model.generate_content(prompt_template % (contract['text']), stream=True)\n",
    "# response = model.generate_content(system_instruction % (database[:len(database)//2]) + prompt_template % (contract['text']), stream=True)\n",
    "# gemini_response  = ''.join([chunk.text for chunk in response]).strip().replace('```json', '').replace('```', '').replace(\"\\n\", '').replace(\" \", '')\n",
    "response.resolve()\n",
    "print(\"response.text\", response.text)\n",
    "try:\n",
    "    gemini_response = response.text.strip().replace('```json', '').replace('```', '')\n",
    "    gemini_response = json.loads(gemini_response)\n",
    "    list_result.append({\"question\": contract, \"relevant_laws\": gemini_response})\n",
    "    print('total token:', response.usage_metadata.total_token_count)\n",
    "    # print(\"chunk_index:\", chunk_index)\n",
    "    print(contract['text']+'\\n')\n",
    "    gemini_response\n",
    "except: \n",
    "    print(\"No law found relating to the input contract sentence.\")"
   ]
  },
  {
   "cell_type": "code",
   "execution_count": null,
   "metadata": {
    "id": "n5stKkepOjQb"
   },
   "outputs": [],
   "source": [
    "# print(\"chunk_index:\", chunk_index)\n",
    "# print(contract['text']+'\\n')\n",
    "# print(response.text.strip().replace('```json', '').replace('```', ''))"
   ]
  },
  {
   "cell_type": "code",
   "execution_count": 18,
   "metadata": {
    "id": "kv3uqsk6TFW2"
   },
   "outputs": [],
   "source": [
    "with open('test.json', 'w', encoding='utf-8') as f:\n",
    "    json.dump(list_result[-1], f, ensure_ascii=False, indent=4)"
   ]
  },
  {
   "cell_type": "code",
   "execution_count": 19,
   "metadata": {
    "id": "g22YYcv99cr5"
   },
   "outputs": [
    {
     "name": "stdout",
     "output_type": "stream",
     "text": [
      "2\n"
     ]
    }
   ],
   "source": [
    "last_sent, last_received = chat.rewind()\n",
    "print(len(chat.history))"
   ]
  },
  {
   "cell_type": "markdown",
   "metadata": {
    "id": "I2vs2NdLUsvO"
   },
   "source": [
    "copy thủ công phần response gán cho `relevevant_laws` dưới dạng `str`"
   ]
  },
  {
   "cell_type": "code",
   "execution_count": 21,
   "metadata": {
    "id": "693DjhI2TY2G"
   },
   "outputs": [],
   "source": [
    "relevant_laws = '''[\n",
    "  {\n",
    "    \"law_id\": \"個人情報の保護に関する法律（平成十五年法律第五十七号）/第二章　定義\",\n",
    "    \"article_id\": 2,\n",
    "    \"title\": \"第二条　定義\",\n",
    "    \"text\": \"この法律において、次の各号に掲げる用語の意義は、当該各号に定めるところによる。\\n一　個人情報　生存する個人に関する情報であって、当該情報に含まれる氏名、生年月日その他の記述等により特定の個人を識別できるもの（他の情報と容易に照合することができ、それにより特定の個人を識別できることとなるものを含む。）をいう。\\n二　個人情報データベース等　個人情報を含む情報の集合物であって、特定の個人情報を検索することができるように体系的に構成したもの（電磁的方法（電子的方法、磁気的方法その他の人の知覚によっては認識することができない方法をいう。次項第二号において同じ。）により構成されているものを含む。）をいう。\\n三　個人情報取扱事業者　個人情報を取り扱う事業者をいう。\\n四　第三者提供　個人情報取扱事業者が、その取り扱う個人情報を、本人以外の者に提供することをいう。\\n五　オプトアウト　個人情報取扱事業者が、本人から、当該本人が識別される保有個人データの第三者への提供の停止を求められた場合であって、当該保有個人データの第三者への提供を停止すること（個人データの提供を受ける者の数が著しく少ないときその他第三者への提供を停止することが困難である場合として政令で定める場合を除く。）をいう。\\n六　個人データ　特定の個人を識別することができる記述等（氏名、生年月日その他の記述等をいう。以下同じ。）により構成される記述等をいう。\",\n",
    "    \"explanation\": \"この法律の第2条は、個人情報、個人情報データベース等、個人情報取扱事業者等の定義を定めています。社内規程でこれらの用語の定義が個人情報保護法に従うとされている場合、この条文が関連します。特に、個人関連情報データベース等は、この法律における個人情報データベース等の定義に準じて解釈されるべきです。\",\n",
    "    \"label\": true\n",
    "  }\n",
    "]'''\n",
    "list_result.append({\"question\": contract, \"relevant_laws\": json.loads(relevant_laws.replace(\"\\n\", ''))})"
   ]
  },
  {
   "cell_type": "markdown",
   "metadata": {
    "id": "c_NDQFq1d42y"
   },
   "source": [
    "#### full example"
   ]
  },
  {
   "cell_type": "code",
   "execution_count": 22,
   "metadata": {
    "colab": {
     "base_uri": "https://localhost:8080/",
     "height": 1000
    },
    "collapsed": true,
    "id": "sxp5YZJxdFlj",
    "outputId": "94ffc63d-3884-43ed-e2d9-c1f4b07ea4d5"
   },
   "outputs": [
    {
     "name": "stdout",
     "output_type": "stream",
     "text": [
      "chunk_index: 0 / 340\n",
      "第１章　総則\n",
      "（目的）\n",
      "第１条　本個人情報取扱規程（以下「本規程」という。）は、会社が、個人情報の保護に関する法律（平成１５年法律第５７号）（以下「個人情報保護法」といい、個人情報保護法に基づき制定された政令、規則等を含むものとする。）及び行政手続における特定の個人を識別するための番号の利用等に関する法律（平成２５年法律第２７号）（以下「マイナンバー法」といい、マイナンバー法に基づき制定された政令、規則等を含むものとする。）に基づき、会社の取り扱う個人情報の適正な取扱いを確保するために定めるものである。\n",
      "\n",
      "chunk_index: 1 / 340\n",
      "第１章　総則\n",
      "（解釈上の疑義）\n",
      "第２条　本規程の解釈について疑義が生じた場合は、関係部署の長及び外部の専門家の意見を勘案し、会社がこれを決定する。\n",
      "\n"
     ]
    },
    {
     "ename": "JSONDecodeError",
     "evalue": "Extra data: line 1 column 3 (char 2)",
     "output_type": "error",
     "traceback": [
      "\u001b[0;31m---------------------------------------------------------------------------\u001b[0m",
      "\u001b[0;31mJSONDecodeError\u001b[0m                           Traceback (most recent call last)",
      "Cell \u001b[0;32mIn[22], line 11\u001b[0m\n\u001b[1;32m      9\u001b[0m response \u001b[38;5;241m=\u001b[39m model\u001b[38;5;241m.\u001b[39mgenerate_content(prompt_template \u001b[38;5;241m%\u001b[39m (contract[\u001b[38;5;124m'\u001b[39m\u001b[38;5;124mtext\u001b[39m\u001b[38;5;124m'\u001b[39m]), stream\u001b[38;5;241m=\u001b[39m\u001b[38;5;28;01mTrue\u001b[39;00m)\n\u001b[1;32m     10\u001b[0m gemini_response  \u001b[38;5;241m=\u001b[39m \u001b[38;5;124m'\u001b[39m\u001b[38;5;124m'\u001b[39m\u001b[38;5;241m.\u001b[39mjoin([chunk\u001b[38;5;241m.\u001b[39mtext \u001b[38;5;28;01mfor\u001b[39;00m chunk \u001b[38;5;129;01min\u001b[39;00m response])\u001b[38;5;241m.\u001b[39mstrip()\u001b[38;5;241m.\u001b[39mreplace(\u001b[38;5;124m'\u001b[39m\u001b[38;5;124m```json\u001b[39m\u001b[38;5;124m'\u001b[39m, \u001b[38;5;124m'\u001b[39m\u001b[38;5;124m'\u001b[39m)\u001b[38;5;241m.\u001b[39mreplace(\u001b[38;5;124m'\u001b[39m\u001b[38;5;124m```\u001b[39m\u001b[38;5;124m'\u001b[39m, \u001b[38;5;124m'\u001b[39m\u001b[38;5;124m'\u001b[39m)\u001b[38;5;241m.\u001b[39mreplace(\u001b[38;5;124m\"\u001b[39m\u001b[38;5;130;01m\\n\u001b[39;00m\u001b[38;5;124m\"\u001b[39m, \u001b[38;5;124m'\u001b[39m\u001b[38;5;124m'\u001b[39m)\u001b[38;5;241m.\u001b[39mreplace(\u001b[38;5;124m\"\u001b[39m\u001b[38;5;124m \u001b[39m\u001b[38;5;124m\"\u001b[39m, \u001b[38;5;124m'\u001b[39m\u001b[38;5;124m'\u001b[39m)\n\u001b[0;32m---> 11\u001b[0m gemini_response \u001b[38;5;241m=\u001b[39m \u001b[43mjson\u001b[49m\u001b[38;5;241;43m.\u001b[39;49m\u001b[43mloads\u001b[49m\u001b[43m(\u001b[49m\u001b[43mgemini_response\u001b[49m\u001b[43m)\u001b[49m\n\u001b[1;32m     12\u001b[0m list_result\u001b[38;5;241m.\u001b[39mappend({\u001b[38;5;124m\"\u001b[39m\u001b[38;5;124mquestion\u001b[39m\u001b[38;5;124m\"\u001b[39m: contract, \u001b[38;5;124m\"\u001b[39m\u001b[38;5;124mrelevant_laws\u001b[39m\u001b[38;5;124m\"\u001b[39m: gemini_response})\n\u001b[1;32m     13\u001b[0m chunk_index \u001b[38;5;241m+\u001b[39m\u001b[38;5;241m=\u001b[39m \u001b[38;5;241m1\u001b[39m\n",
      "File \u001b[0;32m~/.conda/envs/atf_env/lib/python3.9/json/__init__.py:346\u001b[0m, in \u001b[0;36mloads\u001b[0;34m(s, cls, object_hook, parse_float, parse_int, parse_constant, object_pairs_hook, **kw)\u001b[0m\n\u001b[1;32m    341\u001b[0m     s \u001b[38;5;241m=\u001b[39m s\u001b[38;5;241m.\u001b[39mdecode(detect_encoding(s), \u001b[38;5;124m'\u001b[39m\u001b[38;5;124msurrogatepass\u001b[39m\u001b[38;5;124m'\u001b[39m)\n\u001b[1;32m    343\u001b[0m \u001b[38;5;28;01mif\u001b[39;00m (\u001b[38;5;28mcls\u001b[39m \u001b[38;5;129;01mis\u001b[39;00m \u001b[38;5;28;01mNone\u001b[39;00m \u001b[38;5;129;01mand\u001b[39;00m object_hook \u001b[38;5;129;01mis\u001b[39;00m \u001b[38;5;28;01mNone\u001b[39;00m \u001b[38;5;129;01mand\u001b[39;00m\n\u001b[1;32m    344\u001b[0m         parse_int \u001b[38;5;129;01mis\u001b[39;00m \u001b[38;5;28;01mNone\u001b[39;00m \u001b[38;5;129;01mand\u001b[39;00m parse_float \u001b[38;5;129;01mis\u001b[39;00m \u001b[38;5;28;01mNone\u001b[39;00m \u001b[38;5;129;01mand\u001b[39;00m\n\u001b[1;32m    345\u001b[0m         parse_constant \u001b[38;5;129;01mis\u001b[39;00m \u001b[38;5;28;01mNone\u001b[39;00m \u001b[38;5;129;01mand\u001b[39;00m object_pairs_hook \u001b[38;5;129;01mis\u001b[39;00m \u001b[38;5;28;01mNone\u001b[39;00m \u001b[38;5;129;01mand\u001b[39;00m \u001b[38;5;129;01mnot\u001b[39;00m kw):\n\u001b[0;32m--> 346\u001b[0m     \u001b[38;5;28;01mreturn\u001b[39;00m \u001b[43m_default_decoder\u001b[49m\u001b[38;5;241;43m.\u001b[39;49m\u001b[43mdecode\u001b[49m\u001b[43m(\u001b[49m\u001b[43ms\u001b[49m\u001b[43m)\u001b[49m\n\u001b[1;32m    347\u001b[0m \u001b[38;5;28;01mif\u001b[39;00m \u001b[38;5;28mcls\u001b[39m \u001b[38;5;129;01mis\u001b[39;00m \u001b[38;5;28;01mNone\u001b[39;00m:\n\u001b[1;32m    348\u001b[0m     \u001b[38;5;28mcls\u001b[39m \u001b[38;5;241m=\u001b[39m JSONDecoder\n",
      "File \u001b[0;32m~/.conda/envs/atf_env/lib/python3.9/json/decoder.py:340\u001b[0m, in \u001b[0;36mJSONDecoder.decode\u001b[0;34m(self, s, _w)\u001b[0m\n\u001b[1;32m    338\u001b[0m end \u001b[38;5;241m=\u001b[39m _w(s, end)\u001b[38;5;241m.\u001b[39mend()\n\u001b[1;32m    339\u001b[0m \u001b[38;5;28;01mif\u001b[39;00m end \u001b[38;5;241m!=\u001b[39m \u001b[38;5;28mlen\u001b[39m(s):\n\u001b[0;32m--> 340\u001b[0m     \u001b[38;5;28;01mraise\u001b[39;00m JSONDecodeError(\u001b[38;5;124m\"\u001b[39m\u001b[38;5;124mExtra data\u001b[39m\u001b[38;5;124m\"\u001b[39m, s, end)\n\u001b[1;32m    341\u001b[0m \u001b[38;5;28;01mreturn\u001b[39;00m obj\n",
      "\u001b[0;31mJSONDecodeError\u001b[0m: Extra data: line 1 column 3 (char 2)"
     ]
    }
   ],
   "source": [
    "import time\n",
    "\n",
    "start_index = 0\n",
    "chunk_index = 0\n",
    "for contract in contract_data[start_index:]:\n",
    "    print(\"chunk_index:\", start_index+chunk_index, '/', len(contract_data) - 1)\n",
    "    print(contract['text']+'\\n')\n",
    "    # response = chat.send_message(prompt_template % (contract['text']), stream=True)\n",
    "    response = model.generate_content(prompt_template % (contract['text']), stream=True)\n",
    "    gemini_response  = ''.join([chunk.text for chunk in response]).strip().replace('```json', '').replace('```', '').replace(\"\\n\", '').replace(\" \", '')\n",
    "    gemini_response = json.loads(gemini_response)\n",
    "    list_result.append({\"question\": contract, \"relevant_laws\": gemini_response})\n",
    "    chunk_index += 1\n",
    "    if chunk_index % 2 == 0:\n",
    "        time.sleep(50)"
   ]
  },
  {
   "cell_type": "code",
   "execution_count": 23,
   "metadata": {
    "id": "Gtcfm_YT4fda"
   },
   "outputs": [
    {
     "name": "stdout",
     "output_type": "stream",
     "text": [
      "parts {\n",
      "  text: \"hello\"\n",
      "}\n",
      "role: \"user\"\n",
      " parts {\n",
      "  text: \"Hello there! How can I help you today?\\n\"\n",
      "}\n",
      "role: \"model\"\n",
      "\n"
     ]
    }
   ],
   "source": [
    "# if stream broke, delete the last conversation\n",
    "last_sent, last_received = chat.rewind()\n",
    "print(last_sent, last_received)"
   ]
  },
  {
   "cell_type": "code",
   "execution_count": 24,
   "metadata": {
    "id": "e5_SseqP3GOp"
   },
   "outputs": [
    {
     "name": "stdout",
     "output_type": "stream",
     "text": [
      "```json\n",
      "[]\n",
      "```\n",
      "\n",
      "このユーザー入力は、社内規程の解釈に関するものであり、特定の個人情報保護法の条文に対応するものではありません。したがって、関連する法律の条文は見つからず、空のJSON配列が適切な回答となります。\n",
      "\n"
     ]
    }
   ],
   "source": [
    "print(response.text)"
   ]
  },
  {
   "cell_type": "code",
   "execution_count": 25,
   "metadata": {
    "colab": {
     "base_uri": "https://localhost:8080/"
    },
    "id": "lqAmj1d135DM",
    "outputId": "3a571142-4209-4e43-a9ff-7ca044e47379"
   },
   "outputs": [
    {
     "name": "stdout",
     "output_type": "stream",
     "text": [
      "3\n"
     ]
    }
   ],
   "source": [
    "print(len(list_result))"
   ]
  },
  {
   "cell_type": "markdown",
   "metadata": {
    "id": "qsHz6B1mIZuD"
   },
   "source": [
    "Nếu vẫn lỗi => save data rồi restart runtime, thay api key, sau đó chạy tiếp từ index gây lỗi"
   ]
  },
  {
   "cell_type": "markdown",
   "metadata": {
    "id": "UOIdcfKuEFEN"
   },
   "source": [
    "## Save data"
   ]
  },
  {
   "cell_type": "code",
   "execution_count": 29,
   "metadata": {
    "id": "bha2wRx1wurM"
   },
   "outputs": [],
   "source": [
    "import json\n",
    "\n",
    "with open('./Data/find_law_gemini_contract.json', 'w', encoding='utf-8') as f:\n",
    "    json.dump(list_result, f, ensure_ascii=False, indent=4)"
   ]
  },
  {
   "cell_type": "code",
   "execution_count": 33,
   "metadata": {
    "colab": {
     "base_uri": "https://localhost:8080/"
    },
    "id": "aOZrGRe9EDRl",
    "outputId": "4d1f2734-7e15-426d-a169-d16ad7cf14c1"
   },
   "outputs": [
    {
     "name": "stdout",
     "output_type": "stream",
     "text": [
      "3\n",
      "{'question': {'index': 18, 'text': '第１章\\u3000総則\\n（定義）\\n第４条\\u3000本規程において、次に掲げる用語の意義は、個人情報保護法の定義に従うものとする。\\n（１４）\\u3000個人関連情報データベース等', 'label': 'dieu', 'muc': '第１章\\u3000総則', 'cap': '（定義）', 'dieu': '第４条\\u3000本規程において、次に掲げる用語の意義は、個人情報保護法の定義に従うものとする。', 'con': '（１４）\\u3000個人関連情報データベース等'}, 'relevant_laws': [{'law_id': '個人情報の保護に関する法律（平成十五年法律第五十七号）/第二章\\u3000定義', 'article_id': 2, 'title': '第二条\\u3000定義', 'text': 'この法律において、次の各号に掲げる用語の意義は、当該各号に定めるところによる。\\n一\\u3000個人情報\\u3000生存する個人に関する情報であって、当該情報に含まれる氏名、生年月日その他の記述等により特定の個人を識別できるもの（他の情報と容易に照合することができ、それにより特定の個人を識別できることとなるものを含む。）をいう。\\n二\\u3000個人情報データベース等\\u3000個人情報を含む情報の集合物であって、特定の個人情報を検索することができるように体系的に構成したもの（電磁的方法（電子的方法、磁気的方法その他の人の知覚によっては認識することができない方法をいう。次項第二号において同じ。）により構成されているものを含む。）をいう。\\n三\\u3000個人情報取扱事業者\\u3000個人情報を取り扱う事業者をいう。\\n四\\u3000第三者提供\\u3000個人情報取扱事業者が、その取り扱う個人情報を、本人以外の者に提供することをいう。\\n五\\u3000オプトアウト\\u3000個人情報取扱事業者が、本人から、当該本人が識別される保有個人データの第三者への提供の停止を求められた場合であって、当該保有個人データの第三者への提供を停止すること（個人データの提供を受ける者の数が著しく少ないときその他第三者への提供を停止することが困難である場合として政令で定める場合を除く。）をいう。\\n六\\u3000個人データ\\u3000特定の個人を識別することができる記述等（氏名、生年月日その他の記述等をいう。以下同じ。）により構成される記述等をいう。', 'explanation': 'この法律の第2条は、個人情報、個人情報データベース等、個人情報取扱事業者等の定義を定めています。社内規程でこれらの用語の定義が個人情報保護法に従うとされている場合、この条文が関連します。特に、個人関連情報データベース等は、この法律における個人情報データベース等の定義に準じて解釈されるべきです。', 'label': True}]}\n"
     ]
    }
   ],
   "source": [
    "import json\n",
    "\n",
    "with open('./Data/find_law_gemini_contract.json', 'r') as f:\n",
    "    list_result = json.load(f)\n",
    "print(len(list_result))\n",
    "print(list_result[0])"
   ]
  }
 ],
 "metadata": {
  "colab": {
   "provenance": [],
   "toc_visible": true
  },
  "kernelspec": {
   "display_name": "atf_env",
   "language": "python",
   "name": "python3"
  },
  "language_info": {
   "codemirror_mode": {
    "name": "ipython",
    "version": 3
   },
   "file_extension": ".py",
   "mimetype": "text/x-python",
   "name": "python",
   "nbconvert_exporter": "python",
   "pygments_lexer": "ipython3",
   "version": "3.9.19"
  }
 },
 "nbformat": 4,
 "nbformat_minor": 0
}
